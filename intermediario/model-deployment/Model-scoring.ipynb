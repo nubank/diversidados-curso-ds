{
 "cells": [
  {
   "cell_type": "code",
   "execution_count": null,
   "metadata": {},
   "outputs": [],
   "source": [
    "import logging\n",
    "import os\n",
    "from pathlib import Path\n",
    "import pickle\n",
    "from string import ascii_lowercase\n",
    "\n",
    "import pandas as pd\n",
    "from sklearn.datasets import load_iris\n",
    "\n",
    "\n",
    "logger = logging.getLogger()\n",
    "logger.setLevel(logging.DEBUG)\n",
    "\n",
    "PATH = Path.cwd()\n",
    "MODEL_FNAME = PATH / 'model.pkl'\n",
    "OUTPUT_FNAME = PATH / 'scores.csv'\n",
    "\n",
    "\n",
    "# Load model pickle\n",
    "logger.info(f'Reading model from {MODEL_FNAME}...')\n",
    "with MODEL_FNAME.open(mode='rb') as model:\n",
    "    clf = pickle.load(model)\n",
    "logger.info('Done!')\n",
    "\n",
    "# Get \"random\" features and IDs\n",
    "logger.info('Reading features...')\n",
    "X, y = load_iris(return_X_y=True)\n",
    "ids = list(ascii_lowercase)\n",
    "X = X[:len(ids), :]\n",
    "logger.info('Done!')\n",
    "\n",
    "# Get class probabilities\n",
    "logger.info('Calculating class probabilities...')\n",
    "probs = clf.predict_proba(X)\n",
    "logger.info('Done!')\n",
    "\n",
    "# Create DataFrame\n",
    "logger.info('Creating pandas.DataFrame...')\n",
    "df = pd.DataFrame(probs,\n",
    "                  index=ids,\n",
    "                  columns=['prob1', 'prob2', 'prob3'])\n",
    "logger.info('Done!')\n",
    "\n",
    "# Save scores\n",
    "logger.info(f'Saving scores in {OUTPUT_FNAME}...')\n",
    "with open(OUTPUT_FNAME, 'w') as scores:\n",
    "    df.to_csv(scores)\n",
    "logger.info('Done!')"
   ]
  },
  {
   "cell_type": "code",
   "execution_count": null,
   "metadata": {},
   "outputs": [],
   "source": []
  }
 ],
 "metadata": {
  "kernelspec": {
   "display_name": "Python 3",
   "language": "python",
   "name": "python3"
  },
  "language_info": {
   "codemirror_mode": {
    "name": "ipython",
    "version": 3
   },
   "file_extension": ".py",
   "mimetype": "text/x-python",
   "name": "python",
   "nbconvert_exporter": "python",
   "pygments_lexer": "ipython3",
   "version": "3.8.5"
  },
  "toc": {
   "base_numbering": 1,
   "nav_menu": {},
   "number_sections": true,
   "sideBar": true,
   "skip_h1_title": false,
   "title_cell": "Table of Contents",
   "title_sidebar": "Contents",
   "toc_cell": false,
   "toc_position": {},
   "toc_section_display": true,
   "toc_window_display": false
  },
  "varInspector": {
   "cols": {
    "lenName": 16,
    "lenType": 16,
    "lenVar": 40
   },
   "kernels_config": {
    "python": {
     "delete_cmd_postfix": "",
     "delete_cmd_prefix": "del ",
     "library": "var_list.py",
     "varRefreshCmd": "print(var_dic_list())"
    },
    "r": {
     "delete_cmd_postfix": ") ",
     "delete_cmd_prefix": "rm(",
     "library": "var_list.r",
     "varRefreshCmd": "cat(var_dic_list()) "
    }
   },
   "types_to_exclude": [
    "module",
    "function",
    "builtin_function_or_method",
    "instance",
    "_Feature"
   ],
   "window_display": false
  }
 },
 "nbformat": 4,
 "nbformat_minor": 4
}
