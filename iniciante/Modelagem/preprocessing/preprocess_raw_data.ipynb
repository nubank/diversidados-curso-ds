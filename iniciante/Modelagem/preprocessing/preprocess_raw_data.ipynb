{
 "cells": [
  {
   "cell_type": "markdown",
   "metadata": {},
   "source": [
    "# Pré-processamento do Dataset da Olist\n",
    "\n",
    "Origem do dataset: [kaggle/olistbr-brazilian-ecommerce](https://www.kaggle.com/olistbr/brazilian-ecommerce).\n",
    "\n",
    "Segundo a descrição do kaggle, este dataset contém:\n",
    "* dados coletados entre 2016 e 2018;\n",
    "* ~100 mil pedidos de múltiplos marketplaces no Brasil."
   ]
  },
  {
   "cell_type": "markdown",
   "metadata": {},
   "source": [
    "### Para baixar os dados\n",
    "\n",
    "Entre no [link do Kaggle](https://www.kaggle.com/olistbr/brazilian-ecommerce) e faça download dos datasets e coloque-os na pasta chamada `data`:\n",
    "* `olist_customers_dataset`\n",
    "* `olist_orders_dataset`\n",
    "* `olist_order_items_dataset`\n",
    "* `olist_sellers_dataset`\n",
    "* `olist_geolocation_dataset`\n",
    "\n",
    "#### Alternativa - use a api do kaggle\n",
    "\n",
    "Instale a biblioteca do kaggle, rodando o comando abaixo em uma célula de notebook:\n",
    "\n",
    "```bash\n",
    "! pip install kaggle\n",
    "```\n",
    "\n",
    "Vá ao seu perfil no kaggle (você precisa estar logado), clique em \"Account\" e procure pela opção \"Create new API token\". Ao clicar nesse botão, um arquivo chamado `kaggle.json` vai ser baixado para seu computador. Esse arquivo contém suas informações de autenticação para usar a API. Copie esse arquivo para o local adequado:\n",
    "* em sistemas UNIX (Linux, MacOS): `~/.kaggle/kaggle.json`\n",
    "* no Windows:  `C:\\Users<Windows-username>.kaggle\\kaggle.json` - substitua `<Windows-username>` pelo seu nome de usuário.\n",
    "\n",
    "Se tudo estiver certo, você deve conseguir rodar o seguinte comando em uma célula de notebook:\n",
    "\n",
    "```bash\n",
    "! kaggle datasets download -d olistbr/brazilian-ecommerce\n",
    "```\n",
    "\n",
    "Isso deve baixar um arquivo compactado `.zip` chamado `brazilian-ecommerce.zip`. Descompacte os arquivos e coloque os seguintes arquivos na pasta chamada `data`:\n",
    "* `olist_customers_dataset.csv`\n",
    "* `olist_orders_dataset.csv`\n",
    "* `olist_order_items_dataset.csv`\n",
    "* `olist_sellers_dataset.csv`\n",
    "* `olist_geolocation_dataset.csv`\n",
    "\n",
    "Em sistemas UNIX, você pode rodar o seguinte conjunto de comandos para descompactar os arquivos e movê-los para a pasta chamada `data`:\n",
    "```bash\n",
    "! unzip brazilian-ecommerce.zip\n",
    "! mv olist_customers_dataset.csv data\n",
    "! mv olist_orders_dataset.csv data\n",
    "! mv olist_order_items_dataset.csv data\n",
    "! mv olist_sellers_dataset.csv data\n",
    "! mv olist_geolocation_dataset.csv data\n",
    "```\n",
    "    \n",
    "Você pode apagar os outros arquivos ou dar uma espiadinha, caso tenha curiosidade :)\n",
    "\n",
    "Referência: [documentação sobre a API pública do kaggle](https://www.kaggle.com/docs/api)."
   ]
  },
  {
   "cell_type": "code",
   "execution_count": 1,
   "metadata": {},
   "outputs": [],
   "source": [
    "# ! pip install pandas tqdm"
   ]
  },
  {
   "cell_type": "code",
   "execution_count": 2,
   "metadata": {},
   "outputs": [],
   "source": [
    "# ! kaggle datasets download -d olistbr/brazilian-ecommerce\n",
    "# ! unzip brazilian-ecommerce.zip\n",
    "# ! rm brazilian-ecommerce.zip\n",
    "# ! mv olist_customers_dataset.csv data\n",
    "# ! mv olist_orders_dataset.csv data\n",
    "# ! mv olist_order_items_dataset.csv data\n",
    "# ! mv olist_sellers_dataset.csv data\n",
    "# ! mv olist_geolocation_dataset.csv data"
   ]
  },
  {
   "cell_type": "code",
   "execution_count": 3,
   "metadata": {},
   "outputs": [],
   "source": [
    "import pandas as pd\n",
    "from tqdm import tqdm"
   ]
  },
  {
   "cell_type": "code",
   "execution_count": 4,
   "metadata": {},
   "outputs": [],
   "source": [
    "customers_df = pd.read_csv(\"data/olist_customers_dataset.csv\")\n",
    "orders_df = pd.read_csv(\"data/olist_orders_dataset.csv\")\n",
    "order_items_df = pd.read_csv(\"data/olist_order_items_dataset.csv\")\n",
    "sellers_df = pd.read_csv(\"data/olist_sellers_dataset.csv\")\n",
    "geo_df = pd.read_csv(\"data/olist_geolocation_dataset.csv\")"
   ]
  },
  {
   "cell_type": "code",
   "execution_count": 5,
   "metadata": {},
   "outputs": [],
   "source": [
    "geo_df.columns = [col.replace(\"geolocation_\", \"\") for col in geo_df.columns]"
   ]
  },
  {
   "cell_type": "markdown",
   "metadata": {},
   "source": [
    "### Dando uma olhada nos dataframes"
   ]
  },
  {
   "cell_type": "code",
   "execution_count": 6,
   "metadata": {},
   "outputs": [],
   "source": [
    "datasets_preview = {\n",
    "    \"customers\": customers_df.head(n=2),\n",
    "    \"orders\": orders_df.head(n=2),\n",
    "    \"order_items\": order_items_df.head(n=2),\n",
    "    \"sellers\": sellers_df.head(n=2),\n",
    "    \"geolocation\": geo_df.head(n=2)\n",
    "}"
   ]
  },
  {
   "cell_type": "code",
   "execution_count": 7,
   "metadata": {},
   "outputs": [
    {
     "name": "stdout",
     "output_type": "stream",
     "text": [
      "\t\t\t\t**customers**\n"
     ]
    },
    {
     "data": {
      "text/html": [
       "<div>\n",
       "<style scoped>\n",
       "    .dataframe tbody tr th:only-of-type {\n",
       "        vertical-align: middle;\n",
       "    }\n",
       "\n",
       "    .dataframe tbody tr th {\n",
       "        vertical-align: top;\n",
       "    }\n",
       "\n",
       "    .dataframe thead th {\n",
       "        text-align: right;\n",
       "    }\n",
       "</style>\n",
       "<table border=\"1\" class=\"dataframe\">\n",
       "  <thead>\n",
       "    <tr style=\"text-align: right;\">\n",
       "      <th></th>\n",
       "      <th>customer_id</th>\n",
       "      <th>customer_unique_id</th>\n",
       "      <th>customer_zip_code_prefix</th>\n",
       "      <th>customer_city</th>\n",
       "      <th>customer_state</th>\n",
       "    </tr>\n",
       "  </thead>\n",
       "  <tbody>\n",
       "    <tr>\n",
       "      <th>0</th>\n",
       "      <td>06b8999e2fba1a1fbc88172c00ba8bc7</td>\n",
       "      <td>861eff4711a542e4b93843c6dd7febb0</td>\n",
       "      <td>14409</td>\n",
       "      <td>franca</td>\n",
       "      <td>SP</td>\n",
       "    </tr>\n",
       "    <tr>\n",
       "      <th>1</th>\n",
       "      <td>18955e83d337fd6b2def6b18a428ac77</td>\n",
       "      <td>290c77bc529b7ac935b93aa66c333dc3</td>\n",
       "      <td>9790</td>\n",
       "      <td>sao bernardo do campo</td>\n",
       "      <td>SP</td>\n",
       "    </tr>\n",
       "  </tbody>\n",
       "</table>\n",
       "</div>"
      ],
      "text/plain": [
       "                        customer_id                customer_unique_id  \\\n",
       "0  06b8999e2fba1a1fbc88172c00ba8bc7  861eff4711a542e4b93843c6dd7febb0   \n",
       "1  18955e83d337fd6b2def6b18a428ac77  290c77bc529b7ac935b93aa66c333dc3   \n",
       "\n",
       "   customer_zip_code_prefix          customer_city customer_state  \n",
       "0                     14409                 franca             SP  \n",
       "1                      9790  sao bernardo do campo             SP  "
      ]
     },
     "metadata": {},
     "output_type": "display_data"
    },
    {
     "name": "stdout",
     "output_type": "stream",
     "text": [
      "\t\t\t\t**orders**\n"
     ]
    },
    {
     "data": {
      "text/html": [
       "<div>\n",
       "<style scoped>\n",
       "    .dataframe tbody tr th:only-of-type {\n",
       "        vertical-align: middle;\n",
       "    }\n",
       "\n",
       "    .dataframe tbody tr th {\n",
       "        vertical-align: top;\n",
       "    }\n",
       "\n",
       "    .dataframe thead th {\n",
       "        text-align: right;\n",
       "    }\n",
       "</style>\n",
       "<table border=\"1\" class=\"dataframe\">\n",
       "  <thead>\n",
       "    <tr style=\"text-align: right;\">\n",
       "      <th></th>\n",
       "      <th>order_id</th>\n",
       "      <th>customer_id</th>\n",
       "      <th>order_status</th>\n",
       "      <th>order_purchase_timestamp</th>\n",
       "      <th>order_approved_at</th>\n",
       "      <th>order_delivered_carrier_date</th>\n",
       "      <th>order_delivered_customer_date</th>\n",
       "      <th>order_estimated_delivery_date</th>\n",
       "    </tr>\n",
       "  </thead>\n",
       "  <tbody>\n",
       "    <tr>\n",
       "      <th>0</th>\n",
       "      <td>e481f51cbdc54678b7cc49136f2d6af7</td>\n",
       "      <td>9ef432eb6251297304e76186b10a928d</td>\n",
       "      <td>delivered</td>\n",
       "      <td>2017-10-02 10:56:33</td>\n",
       "      <td>2017-10-02 11:07:15</td>\n",
       "      <td>2017-10-04 19:55:00</td>\n",
       "      <td>2017-10-10 21:25:13</td>\n",
       "      <td>2017-10-18 00:00:00</td>\n",
       "    </tr>\n",
       "    <tr>\n",
       "      <th>1</th>\n",
       "      <td>53cdb2fc8bc7dce0b6741e2150273451</td>\n",
       "      <td>b0830fb4747a6c6d20dea0b8c802d7ef</td>\n",
       "      <td>delivered</td>\n",
       "      <td>2018-07-24 20:41:37</td>\n",
       "      <td>2018-07-26 03:24:27</td>\n",
       "      <td>2018-07-26 14:31:00</td>\n",
       "      <td>2018-08-07 15:27:45</td>\n",
       "      <td>2018-08-13 00:00:00</td>\n",
       "    </tr>\n",
       "  </tbody>\n",
       "</table>\n",
       "</div>"
      ],
      "text/plain": [
       "                           order_id                       customer_id  \\\n",
       "0  e481f51cbdc54678b7cc49136f2d6af7  9ef432eb6251297304e76186b10a928d   \n",
       "1  53cdb2fc8bc7dce0b6741e2150273451  b0830fb4747a6c6d20dea0b8c802d7ef   \n",
       "\n",
       "  order_status order_purchase_timestamp    order_approved_at  \\\n",
       "0    delivered      2017-10-02 10:56:33  2017-10-02 11:07:15   \n",
       "1    delivered      2018-07-24 20:41:37  2018-07-26 03:24:27   \n",
       "\n",
       "  order_delivered_carrier_date order_delivered_customer_date  \\\n",
       "0          2017-10-04 19:55:00           2017-10-10 21:25:13   \n",
       "1          2018-07-26 14:31:00           2018-08-07 15:27:45   \n",
       "\n",
       "  order_estimated_delivery_date  \n",
       "0           2017-10-18 00:00:00  \n",
       "1           2018-08-13 00:00:00  "
      ]
     },
     "metadata": {},
     "output_type": "display_data"
    },
    {
     "name": "stdout",
     "output_type": "stream",
     "text": [
      "\t\t\t\t**order_items**\n"
     ]
    },
    {
     "data": {
      "text/html": [
       "<div>\n",
       "<style scoped>\n",
       "    .dataframe tbody tr th:only-of-type {\n",
       "        vertical-align: middle;\n",
       "    }\n",
       "\n",
       "    .dataframe tbody tr th {\n",
       "        vertical-align: top;\n",
       "    }\n",
       "\n",
       "    .dataframe thead th {\n",
       "        text-align: right;\n",
       "    }\n",
       "</style>\n",
       "<table border=\"1\" class=\"dataframe\">\n",
       "  <thead>\n",
       "    <tr style=\"text-align: right;\">\n",
       "      <th></th>\n",
       "      <th>order_id</th>\n",
       "      <th>order_item_id</th>\n",
       "      <th>product_id</th>\n",
       "      <th>seller_id</th>\n",
       "      <th>shipping_limit_date</th>\n",
       "      <th>price</th>\n",
       "      <th>freight_value</th>\n",
       "    </tr>\n",
       "  </thead>\n",
       "  <tbody>\n",
       "    <tr>\n",
       "      <th>0</th>\n",
       "      <td>00010242fe8c5a6d1ba2dd792cb16214</td>\n",
       "      <td>1</td>\n",
       "      <td>4244733e06e7ecb4970a6e2683c13e61</td>\n",
       "      <td>48436dade18ac8b2bce089ec2a041202</td>\n",
       "      <td>2017-09-19 09:45:35</td>\n",
       "      <td>58.9</td>\n",
       "      <td>13.29</td>\n",
       "    </tr>\n",
       "    <tr>\n",
       "      <th>1</th>\n",
       "      <td>00018f77f2f0320c557190d7a144bdd3</td>\n",
       "      <td>1</td>\n",
       "      <td>e5f2d52b802189ee658865ca93d83a8f</td>\n",
       "      <td>dd7ddc04e1b6c2c614352b383efe2d36</td>\n",
       "      <td>2017-05-03 11:05:13</td>\n",
       "      <td>239.9</td>\n",
       "      <td>19.93</td>\n",
       "    </tr>\n",
       "  </tbody>\n",
       "</table>\n",
       "</div>"
      ],
      "text/plain": [
       "                           order_id  order_item_id  \\\n",
       "0  00010242fe8c5a6d1ba2dd792cb16214              1   \n",
       "1  00018f77f2f0320c557190d7a144bdd3              1   \n",
       "\n",
       "                         product_id                         seller_id  \\\n",
       "0  4244733e06e7ecb4970a6e2683c13e61  48436dade18ac8b2bce089ec2a041202   \n",
       "1  e5f2d52b802189ee658865ca93d83a8f  dd7ddc04e1b6c2c614352b383efe2d36   \n",
       "\n",
       "   shipping_limit_date  price  freight_value  \n",
       "0  2017-09-19 09:45:35   58.9          13.29  \n",
       "1  2017-05-03 11:05:13  239.9          19.93  "
      ]
     },
     "metadata": {},
     "output_type": "display_data"
    },
    {
     "name": "stdout",
     "output_type": "stream",
     "text": [
      "\t\t\t\t**sellers**\n"
     ]
    },
    {
     "data": {
      "text/html": [
       "<div>\n",
       "<style scoped>\n",
       "    .dataframe tbody tr th:only-of-type {\n",
       "        vertical-align: middle;\n",
       "    }\n",
       "\n",
       "    .dataframe tbody tr th {\n",
       "        vertical-align: top;\n",
       "    }\n",
       "\n",
       "    .dataframe thead th {\n",
       "        text-align: right;\n",
       "    }\n",
       "</style>\n",
       "<table border=\"1\" class=\"dataframe\">\n",
       "  <thead>\n",
       "    <tr style=\"text-align: right;\">\n",
       "      <th></th>\n",
       "      <th>seller_id</th>\n",
       "      <th>seller_zip_code_prefix</th>\n",
       "      <th>seller_city</th>\n",
       "      <th>seller_state</th>\n",
       "    </tr>\n",
       "  </thead>\n",
       "  <tbody>\n",
       "    <tr>\n",
       "      <th>0</th>\n",
       "      <td>3442f8959a84dea7ee197c632cb2df15</td>\n",
       "      <td>13023</td>\n",
       "      <td>campinas</td>\n",
       "      <td>SP</td>\n",
       "    </tr>\n",
       "    <tr>\n",
       "      <th>1</th>\n",
       "      <td>d1b65fc7debc3361ea86b5f14c68d2e2</td>\n",
       "      <td>13844</td>\n",
       "      <td>mogi guacu</td>\n",
       "      <td>SP</td>\n",
       "    </tr>\n",
       "  </tbody>\n",
       "</table>\n",
       "</div>"
      ],
      "text/plain": [
       "                          seller_id  seller_zip_code_prefix seller_city  \\\n",
       "0  3442f8959a84dea7ee197c632cb2df15                   13023    campinas   \n",
       "1  d1b65fc7debc3361ea86b5f14c68d2e2                   13844  mogi guacu   \n",
       "\n",
       "  seller_state  \n",
       "0           SP  \n",
       "1           SP  "
      ]
     },
     "metadata": {},
     "output_type": "display_data"
    },
    {
     "name": "stdout",
     "output_type": "stream",
     "text": [
      "\t\t\t\t**geolocation**\n"
     ]
    },
    {
     "data": {
      "text/html": [
       "<div>\n",
       "<style scoped>\n",
       "    .dataframe tbody tr th:only-of-type {\n",
       "        vertical-align: middle;\n",
       "    }\n",
       "\n",
       "    .dataframe tbody tr th {\n",
       "        vertical-align: top;\n",
       "    }\n",
       "\n",
       "    .dataframe thead th {\n",
       "        text-align: right;\n",
       "    }\n",
       "</style>\n",
       "<table border=\"1\" class=\"dataframe\">\n",
       "  <thead>\n",
       "    <tr style=\"text-align: right;\">\n",
       "      <th></th>\n",
       "      <th>zip_code_prefix</th>\n",
       "      <th>lat</th>\n",
       "      <th>lng</th>\n",
       "      <th>city</th>\n",
       "      <th>state</th>\n",
       "    </tr>\n",
       "  </thead>\n",
       "  <tbody>\n",
       "    <tr>\n",
       "      <th>0</th>\n",
       "      <td>1037</td>\n",
       "      <td>-23.545621</td>\n",
       "      <td>-46.639292</td>\n",
       "      <td>sao paulo</td>\n",
       "      <td>SP</td>\n",
       "    </tr>\n",
       "    <tr>\n",
       "      <th>1</th>\n",
       "      <td>1046</td>\n",
       "      <td>-23.546081</td>\n",
       "      <td>-46.644820</td>\n",
       "      <td>sao paulo</td>\n",
       "      <td>SP</td>\n",
       "    </tr>\n",
       "  </tbody>\n",
       "</table>\n",
       "</div>"
      ],
      "text/plain": [
       "   zip_code_prefix        lat        lng       city state\n",
       "0             1037 -23.545621 -46.639292  sao paulo    SP\n",
       "1             1046 -23.546081 -46.644820  sao paulo    SP"
      ]
     },
     "metadata": {},
     "output_type": "display_data"
    }
   ],
   "source": [
    "for name, dataset in datasets_preview.items():\n",
    "    print(f\"\\t\\t\\t\\t**{name}**\")\n",
    "    display(dataset)"
   ]
  },
  {
   "cell_type": "markdown",
   "metadata": {},
   "source": [
    "### Vamos usar apenas os pedidos que contém apenas um único item para facilitar\n",
    "\n",
    "Isso corresponde a cerca de 90% dos dados."
   ]
  },
  {
   "cell_type": "code",
   "execution_count": 8,
   "metadata": {},
   "outputs": [],
   "source": [
    "order_counts = order_items_df[\"order_id\"].value_counts().reset_index().rename(columns={\"index\": \"order_id\", \"order_id\": \"count\"})\n",
    "order_counts_1 = order_counts[order_counts[\"count\"] == 1]"
   ]
  },
  {
   "cell_type": "code",
   "execution_count": 9,
   "metadata": {},
   "outputs": [
    {
     "name": "stdout",
     "output_type": "stream",
     "text": [
      "Pedidos com um único item compõem 90.06% do dataset\n"
     ]
    }
   ],
   "source": [
    "print(f\"Pedidos com um único item compõem {100 * len(order_counts_1) / len(order_counts):.2f}% do dataset\")"
   ]
  },
  {
   "cell_type": "markdown",
   "metadata": {},
   "source": [
    "### Preparando o dataset de pedidos"
   ]
  },
  {
   "cell_type": "markdown",
   "metadata": {},
   "source": [
    "**Passo 1**\n",
    "* deixar no dataset apenas as linhas cujos `order_id` estão em `order_counts_1`\n",
    "* incluir as colunas `seller_id` e `freight_value` no dataframe `orders_df`"
   ]
  },
  {
   "cell_type": "code",
   "execution_count": 10,
   "metadata": {},
   "outputs": [],
   "source": [
    "super_orders_df = orders_df \\\n",
    "    .merge(order_counts_1[[\"order_id\"]], on=\"order_id\") \\\n",
    "    .merge(order_items_df[[\"order_id\", \"seller_id\", \"freight_value\"]], on=\"order_id\")"
   ]
  },
  {
   "cell_type": "markdown",
   "metadata": {},
   "source": [
    "**Passo 2**\n",
    "* incluir as colunas `customer_zip_code_prefix`, `customer_city` e `customer_state` a partir do dataframe `customer_df`\n",
    "* incluir as colunas `seller_zip_code_prefix`, `seller_city` e `seller_state` a partir do dataframe `seller_df`\n",
    "* remover colunas `customer_id` e `seller_id`"
   ]
  },
  {
   "cell_type": "code",
   "execution_count": 11,
   "metadata": {},
   "outputs": [],
   "source": [
    "super_orders_df = super_orders_df \\\n",
    "    .merge(customers_df.drop(\"customer_unique_id\", 1), on=\"customer_id\") \\\n",
    "    .merge(sellers_df, on=\"seller_id\") \\\n",
    "    .drop([\"customer_id\", \"seller_id\"], 1)"
   ]
  },
  {
   "cell_type": "markdown",
   "metadata": {},
   "source": [
    "**Passo 3**\n",
    "\n",
    "* incluir colunas de geolocalização (latitude, longitude)"
   ]
  },
  {
   "cell_type": "code",
   "execution_count": 12,
   "metadata": {},
   "outputs": [],
   "source": [
    "geo_df[\"lat_long\"] = geo_df.apply(lambda row: (row[\"lat\"], row[\"lng\"]), axis=1)"
   ]
  },
  {
   "cell_type": "code",
   "execution_count": 13,
   "metadata": {},
   "outputs": [],
   "source": [
    "lat_long_dict = geo_df.set_index(\"zip_code_prefix\")[\"lat_long\"].to_dict()"
   ]
  },
  {
   "cell_type": "code",
   "execution_count": 14,
   "metadata": {},
   "outputs": [
    {
     "name": "stderr",
     "output_type": "stream",
     "text": [
      "100%|██████████| 88863/88863 [00:00<00:00, 1633118.35it/s]\n",
      "100%|██████████| 88863/88863 [00:00<00:00, 2028333.42it/s]\n"
     ]
    }
   ],
   "source": [
    "for user_type in [\"customer\", \"seller\"]:\n",
    "    zip_codes = super_orders_df[f\"{user_type}_zip_code_prefix\"].tolist()\n",
    "    lat_long_list = []\n",
    "    for zc in tqdm(zip_codes):\n",
    "        lat_long_list.append(lat_long_dict.get(zc, (0, 0)))\n",
    "    lats, longs = list(zip(*lat_long_list))\n",
    "    super_orders_df[f\"{user_type}_lat\"] = lats\n",
    "    super_orders_df[f\"{user_type}_long\"] = longs"
   ]
  },
  {
   "cell_type": "markdown",
   "metadata": {},
   "source": [
    "**Informações do dataset**"
   ]
  },
  {
   "cell_type": "code",
   "execution_count": 15,
   "metadata": {},
   "outputs": [
    {
     "data": {
      "text/html": [
       "<div>\n",
       "<style scoped>\n",
       "    .dataframe tbody tr th:only-of-type {\n",
       "        vertical-align: middle;\n",
       "    }\n",
       "\n",
       "    .dataframe tbody tr th {\n",
       "        vertical-align: top;\n",
       "    }\n",
       "\n",
       "    .dataframe thead th {\n",
       "        text-align: right;\n",
       "    }\n",
       "</style>\n",
       "<table border=\"1\" class=\"dataframe\">\n",
       "  <thead>\n",
       "    <tr style=\"text-align: right;\">\n",
       "      <th></th>\n",
       "      <th>order_id</th>\n",
       "      <th>order_status</th>\n",
       "      <th>order_purchase_timestamp</th>\n",
       "      <th>order_approved_at</th>\n",
       "      <th>order_delivered_carrier_date</th>\n",
       "      <th>order_delivered_customer_date</th>\n",
       "      <th>order_estimated_delivery_date</th>\n",
       "      <th>freight_value</th>\n",
       "      <th>customer_zip_code_prefix</th>\n",
       "      <th>customer_city</th>\n",
       "      <th>customer_state</th>\n",
       "      <th>seller_zip_code_prefix</th>\n",
       "      <th>seller_city</th>\n",
       "      <th>seller_state</th>\n",
       "      <th>customer_lat</th>\n",
       "      <th>customer_long</th>\n",
       "      <th>seller_lat</th>\n",
       "      <th>seller_long</th>\n",
       "    </tr>\n",
       "  </thead>\n",
       "  <tbody>\n",
       "    <tr>\n",
       "      <th>0</th>\n",
       "      <td>e481f51cbdc54678b7cc49136f2d6af7</td>\n",
       "      <td>delivered</td>\n",
       "      <td>2017-10-02 10:56:33</td>\n",
       "      <td>2017-10-02 11:07:15</td>\n",
       "      <td>2017-10-04 19:55:00</td>\n",
       "      <td>2017-10-10 21:25:13</td>\n",
       "      <td>2017-10-18 00:00:00</td>\n",
       "      <td>8.72</td>\n",
       "      <td>3149</td>\n",
       "      <td>sao paulo</td>\n",
       "      <td>SP</td>\n",
       "      <td>9350</td>\n",
       "      <td>maua</td>\n",
       "      <td>SP</td>\n",
       "      <td>-23.583452</td>\n",
       "      <td>-46.586284</td>\n",
       "      <td>-23.675542</td>\n",
       "      <td>-46.442547</td>\n",
       "    </tr>\n",
       "    <tr>\n",
       "      <th>1</th>\n",
       "      <td>8736140c61ea584cb4250074756d8f3b</td>\n",
       "      <td>delivered</td>\n",
       "      <td>2017-08-10 13:35:55</td>\n",
       "      <td>2017-08-10 13:50:09</td>\n",
       "      <td>2017-08-11 13:52:35</td>\n",
       "      <td>2017-08-16 19:03:36</td>\n",
       "      <td>2017-08-23 00:00:00</td>\n",
       "      <td>7.79</td>\n",
       "      <td>8577</td>\n",
       "      <td>itaquaquecetuba</td>\n",
       "      <td>SP</td>\n",
       "      <td>9350</td>\n",
       "      <td>maua</td>\n",
       "      <td>SP</td>\n",
       "      <td>-23.494316</td>\n",
       "      <td>-46.364539</td>\n",
       "      <td>-23.675542</td>\n",
       "      <td>-46.442547</td>\n",
       "    </tr>\n",
       "  </tbody>\n",
       "</table>\n",
       "</div>"
      ],
      "text/plain": [
       "                           order_id order_status order_purchase_timestamp  \\\n",
       "0  e481f51cbdc54678b7cc49136f2d6af7    delivered      2017-10-02 10:56:33   \n",
       "1  8736140c61ea584cb4250074756d8f3b    delivered      2017-08-10 13:35:55   \n",
       "\n",
       "     order_approved_at order_delivered_carrier_date  \\\n",
       "0  2017-10-02 11:07:15          2017-10-04 19:55:00   \n",
       "1  2017-08-10 13:50:09          2017-08-11 13:52:35   \n",
       "\n",
       "  order_delivered_customer_date order_estimated_delivery_date  freight_value  \\\n",
       "0           2017-10-10 21:25:13           2017-10-18 00:00:00           8.72   \n",
       "1           2017-08-16 19:03:36           2017-08-23 00:00:00           7.79   \n",
       "\n",
       "   customer_zip_code_prefix    customer_city customer_state  \\\n",
       "0                      3149        sao paulo             SP   \n",
       "1                      8577  itaquaquecetuba             SP   \n",
       "\n",
       "   seller_zip_code_prefix seller_city seller_state  customer_lat  \\\n",
       "0                    9350        maua           SP    -23.583452   \n",
       "1                    9350        maua           SP    -23.494316   \n",
       "\n",
       "   customer_long  seller_lat  seller_long  \n",
       "0     -46.586284  -23.675542   -46.442547  \n",
       "1     -46.364539  -23.675542   -46.442547  "
      ]
     },
     "execution_count": 15,
     "metadata": {},
     "output_type": "execute_result"
    }
   ],
   "source": [
    "super_orders_df.head(n=2)"
   ]
  },
  {
   "cell_type": "code",
   "execution_count": 16,
   "metadata": {},
   "outputs": [
    {
     "name": "stdout",
     "output_type": "stream",
     "text": [
      "<class 'pandas.core.frame.DataFrame'>\n",
      "Int64Index: 88863 entries, 0 to 88862\n",
      "Data columns (total 18 columns):\n",
      "order_id                         88863 non-null object\n",
      "order_status                     88863 non-null object\n",
      "order_purchase_timestamp         88863 non-null object\n",
      "order_approved_at                88850 non-null object\n",
      "order_delivered_carrier_date     87959 non-null object\n",
      "order_delivered_customer_date    86840 non-null object\n",
      "order_estimated_delivery_date    88863 non-null object\n",
      "freight_value                    88863 non-null float64\n",
      "customer_zip_code_prefix         88863 non-null int64\n",
      "customer_city                    88863 non-null object\n",
      "customer_state                   88863 non-null object\n",
      "seller_zip_code_prefix           88863 non-null int64\n",
      "seller_city                      88863 non-null object\n",
      "seller_state                     88863 non-null object\n",
      "customer_lat                     88863 non-null float64\n",
      "customer_long                    88863 non-null float64\n",
      "seller_lat                       88863 non-null float64\n",
      "seller_long                      88863 non-null float64\n",
      "dtypes: float64(5), int64(2), object(11)\n",
      "memory usage: 12.9+ MB\n"
     ]
    }
   ],
   "source": [
    "super_orders_df.info()"
   ]
  },
  {
   "cell_type": "markdown",
   "metadata": {},
   "source": [
    "### Salvando o dataset final (dataframe `super_orders_df`)"
   ]
  },
  {
   "cell_type": "code",
   "execution_count": 17,
   "metadata": {},
   "outputs": [],
   "source": [
    "super_orders_df.to_csv(\"../processed_olist_orders.csv\", index=False)"
   ]
  },
  {
   "cell_type": "code",
   "execution_count": null,
   "metadata": {},
   "outputs": [],
   "source": []
  }
 ],
 "metadata": {
  "kernelspec": {
   "display_name": "Python 3",
   "language": "python",
   "name": "python3"
  },
  "language_info": {
   "codemirror_mode": {
    "name": "ipython",
    "version": 3
   },
   "file_extension": ".py",
   "mimetype": "text/x-python",
   "name": "python",
   "nbconvert_exporter": "python",
   "pygments_lexer": "ipython3",
   "version": "3.7.9"
  }
 },
 "nbformat": 4,
 "nbformat_minor": 4
}
