{
 "cells": [
  {
   "cell_type": "markdown",
   "metadata": {},
   "source": [
    "# Exercício: análise de sentimento em reviews\n",
    "\n",
    "**Objetivo:** predizer o sentimento (positivo / negativo) de um review textual"
   ]
  },
  {
   "cell_type": "markdown",
   "metadata": {},
   "source": [
    "## O que é NLP?\n",
    "\n",
    "NLP (ou _Natural Language Processing_ - a sigla em português é PLN, _Processamento de Linguagem Natural_, mas essa sigla também é usada para falar de _Programação Neurolinguística_, então, vamos continuar usando NLP, ok?) é a área relacionada a técnicas para o entendimento de linguagem humana (a linguagem natural). A aplicação de técnicas de NLP tem sido vista em muitos domínios, desde a correção de palavras e sugestão de palavras na barra de busca de sites como o _Google_, até em sistemas mais \"sofisticados\" como os tradutores automáticos e os _home assistant_ e _smart assistants_, como Siri, Alexa ou Google Home, que podem auxiliar na execução de certas tarefas, como agendar compromissos, embora eles ainda [estejam longe de ser à prova de erros](https://www.nytimes.com/2018/05/25/business/amazon-alexa-conversation-shared-echo.html). Com o crescimento de conteúdo (mais artigos e mais fontes espalhadas), a importância do NLP também tem crescido, pois tarefas como sumarização automática e classificação automática de conteúdo (por ex., para checagem contra _fake news_) são cada vez mais necessárias em nossas vidas.\n",
    "\n",
    "Neste exercício, vamos focar no uso de algumas técnicas de NLP para processamento de texto. Entretanto, é importante lembrar que NLP não se restringe a textos escritos, podendo ser aplicado também para processamento de fala, como é o caso dos _smart assistants_.\n",
    "\n",
    "Diferentes tarefas de NLP, em geral, têm como passos iniciais as seguintes etapas:\n",
    "\n",
    "* pré-processamento do texto (que pode ser uma combinação de diferentes processamentos, envolvendo modificações a nível de palavra e identificação de entidades/funções sintáticas/etc.)\n",
    "\n",
    "* transformação do texto em quantidades numéricas (tipicamente vetores de números inteiros ou reais)"
   ]
  },
  {
   "cell_type": "code",
   "execution_count": null,
   "metadata": {},
   "outputs": [],
   "source": [
    "# ! pip install matplotlib nltk pandas seaborn scikit-learn"
   ]
  },
  {
   "cell_type": "code",
   "execution_count": 2,
   "metadata": {},
   "outputs": [],
   "source": [
    "import pandas as pd\n",
    "\n",
    "## bibliotecas para visualização de dados\n",
    "import matplotlib.pyplot as plt\n",
    "import seaborn as sns"
   ]
  },
  {
   "cell_type": "code",
   "execution_count": 3,
   "metadata": {},
   "outputs": [],
   "source": [
    "import warnings\n",
    "warnings.filterwarnings('ignore')"
   ]
  },
  {
   "cell_type": "markdown",
   "metadata": {},
   "source": [
    "## Leitura de dados\n",
    "\n",
    "Esse conjunto de dados é composto de reviews de produtos coletados do site `Americanas.com` entre janeiro e maio de 2018.\n",
    "\n",
    "Mais informações podem ser encontradas no [repositório b2w-reviews01](https://github.com/b2wdigital/b2w-reviews01)."
   ]
  },
  {
   "cell_type": "code",
   "execution_count": 4,
   "metadata": {},
   "outputs": [],
   "source": [
    "selected_cols = ['product_name', 'product_brand', 'site_category_lv1', 'site_category_lv2',\n",
    "                 'review_title', 'review_text', 'recommend_to_a_friend']\n",
    "\n",
    "path = 'data/datasets'\n",
    "reviews_df = pd.read_csv('https://github.com/b2wdigital/b2w-reviews01/raw/master/B2W-Reviews01.csv', sep=';', low_memory=False)[selected_cols].fillna('')"
   ]
  },
  {
   "cell_type": "code",
   "execution_count": 5,
   "metadata": {},
   "outputs": [
    {
     "data": {
      "text/html": [
       "<div>\n",
       "<style scoped>\n",
       "    .dataframe tbody tr th:only-of-type {\n",
       "        vertical-align: middle;\n",
       "    }\n",
       "\n",
       "    .dataframe tbody tr th {\n",
       "        vertical-align: top;\n",
       "    }\n",
       "\n",
       "    .dataframe thead th {\n",
       "        text-align: right;\n",
       "    }\n",
       "</style>\n",
       "<table border=\"1\" class=\"dataframe\">\n",
       "  <thead>\n",
       "    <tr style=\"text-align: right;\">\n",
       "      <th></th>\n",
       "      <th>product_name</th>\n",
       "      <th>product_brand</th>\n",
       "      <th>site_category_lv1</th>\n",
       "      <th>site_category_lv2</th>\n",
       "      <th>review_title</th>\n",
       "      <th>review_text</th>\n",
       "      <th>recommend_to_a_friend</th>\n",
       "    </tr>\n",
       "  </thead>\n",
       "  <tbody>\n",
       "    <tr>\n",
       "      <th>0</th>\n",
       "      <td>Notebook Asus Vivobook Max X541NA-GO472T Intel...</td>\n",
       "      <td></td>\n",
       "      <td>Informática</td>\n",
       "      <td>Notebook</td>\n",
       "      <td>Bom</td>\n",
       "      <td>Estou contente com a compra entrega rápida o ú...</td>\n",
       "      <td>Yes</td>\n",
       "    </tr>\n",
       "    <tr>\n",
       "      <th>1</th>\n",
       "      <td>Copo Acrílico Com Canudo 500ml Rocie</td>\n",
       "      <td></td>\n",
       "      <td>Utilidades Domésticas</td>\n",
       "      <td>Copos, Taças e Canecas</td>\n",
       "      <td>Preço imbatível, ótima qualidade</td>\n",
       "      <td>Por apenas R$1994.20,eu consegui comprar esse ...</td>\n",
       "      <td>Yes</td>\n",
       "    </tr>\n",
       "    <tr>\n",
       "      <th>2</th>\n",
       "      <td>Panela de Pressão Elétrica Philips Walita Dail...</td>\n",
       "      <td>philips walita</td>\n",
       "      <td>Eletroportáteis</td>\n",
       "      <td>Panela Elétrica</td>\n",
       "      <td>ATENDE TODAS AS EXPECTATIVA.</td>\n",
       "      <td>SUPERA EM AGILIDADE E PRATICIDADE OUTRAS PANEL...</td>\n",
       "      <td>Yes</td>\n",
       "    </tr>\n",
       "    <tr>\n",
       "      <th>3</th>\n",
       "      <td>Betoneira Columbus - Roma Brinquedos</td>\n",
       "      <td>roma jensen</td>\n",
       "      <td>Brinquedos</td>\n",
       "      <td>Veículos de Brinquedo</td>\n",
       "      <td>presente mais que desejado</td>\n",
       "      <td>MEU FILHO AMOU! PARECE DE VERDADE COM TANTOS D...</td>\n",
       "      <td>Yes</td>\n",
       "    </tr>\n",
       "    <tr>\n",
       "      <th>4</th>\n",
       "      <td>Smart TV LED 43\" LG 43UJ6525 Ultra HD 4K com C...</td>\n",
       "      <td>lg</td>\n",
       "      <td>TV e Home Theater</td>\n",
       "      <td>TV</td>\n",
       "      <td>Sem duvidas, excelente</td>\n",
       "      <td>A entrega foi no prazo, as americanas estão de...</td>\n",
       "      <td>Yes</td>\n",
       "    </tr>\n",
       "  </tbody>\n",
       "</table>\n",
       "</div>"
      ],
      "text/plain": [
       "                                        product_name   product_brand  \\\n",
       "0  Notebook Asus Vivobook Max X541NA-GO472T Intel...                   \n",
       "1               Copo Acrílico Com Canudo 500ml Rocie                   \n",
       "2  Panela de Pressão Elétrica Philips Walita Dail...  philips walita   \n",
       "3               Betoneira Columbus - Roma Brinquedos     roma jensen   \n",
       "4  Smart TV LED 43\" LG 43UJ6525 Ultra HD 4K com C...              lg   \n",
       "\n",
       "       site_category_lv1       site_category_lv2  \\\n",
       "0            Informática                Notebook   \n",
       "1  Utilidades Domésticas  Copos, Taças e Canecas   \n",
       "2        Eletroportáteis         Panela Elétrica   \n",
       "3             Brinquedos   Veículos de Brinquedo   \n",
       "4      TV e Home Theater                      TV   \n",
       "\n",
       "                       review_title  \\\n",
       "0                               Bom   \n",
       "1  Preço imbatível, ótima qualidade   \n",
       "2      ATENDE TODAS AS EXPECTATIVA.   \n",
       "3        presente mais que desejado   \n",
       "4            Sem duvidas, excelente   \n",
       "\n",
       "                                         review_text recommend_to_a_friend  \n",
       "0  Estou contente com a compra entrega rápida o ú...                   Yes  \n",
       "1  Por apenas R$1994.20,eu consegui comprar esse ...                   Yes  \n",
       "2  SUPERA EM AGILIDADE E PRATICIDADE OUTRAS PANEL...                   Yes  \n",
       "3  MEU FILHO AMOU! PARECE DE VERDADE COM TANTOS D...                   Yes  \n",
       "4  A entrega foi no prazo, as americanas estão de...                   Yes  "
      ]
     },
     "execution_count": 5,
     "metadata": {},
     "output_type": "execute_result"
    }
   ],
   "source": [
    "reviews_df.head()"
   ]
  },
  {
   "cell_type": "markdown",
   "metadata": {},
   "source": [
    "## Criação de novas colunas\n",
    "\n",
    "* `text`: coluna que contém o review completo (título + corpo)"
   ]
  },
  {
   "cell_type": "code",
   "execution_count": 6,
   "metadata": {},
   "outputs": [],
   "source": [
    "reviews_df['text'] = reviews_df['review_title'] + ' ' + reviews_df['review_text']"
   ]
  },
  {
   "cell_type": "code",
   "execution_count": 7,
   "metadata": {},
   "outputs": [
    {
     "data": {
      "text/plain": [
       "'Bom Estou contente com a compra entrega rápida o único problema com as Americanas é se houver troca ou devolução do produto o consumidor tem problemas com espera.'"
      ]
     },
     "execution_count": 7,
     "metadata": {},
     "output_type": "execute_result"
    }
   ],
   "source": [
    "reviews_df.iloc[0]['text']"
   ]
  },
  {
   "cell_type": "markdown",
   "metadata": {},
   "source": [
    "* Cheque se não há nada com texto vazio"
   ]
  },
  {
   "cell_type": "code",
   "execution_count": 8,
   "metadata": {},
   "outputs": [
    {
     "data": {
      "text/html": [
       "<div>\n",
       "<style scoped>\n",
       "    .dataframe tbody tr th:only-of-type {\n",
       "        vertical-align: middle;\n",
       "    }\n",
       "\n",
       "    .dataframe tbody tr th {\n",
       "        vertical-align: top;\n",
       "    }\n",
       "\n",
       "    .dataframe thead th {\n",
       "        text-align: right;\n",
       "    }\n",
       "</style>\n",
       "<table border=\"1\" class=\"dataframe\">\n",
       "  <thead>\n",
       "    <tr style=\"text-align: right;\">\n",
       "      <th></th>\n",
       "      <th>product_name</th>\n",
       "      <th>product_brand</th>\n",
       "      <th>site_category_lv1</th>\n",
       "      <th>site_category_lv2</th>\n",
       "      <th>review_title</th>\n",
       "      <th>review_text</th>\n",
       "      <th>recommend_to_a_friend</th>\n",
       "      <th>text</th>\n",
       "    </tr>\n",
       "  </thead>\n",
       "  <tbody>\n",
       "  </tbody>\n",
       "</table>\n",
       "</div>"
      ],
      "text/plain": [
       "Empty DataFrame\n",
       "Columns: [product_name, product_brand, site_category_lv1, site_category_lv2, review_title, review_text, recommend_to_a_friend, text]\n",
       "Index: []"
      ]
     },
     "execution_count": 8,
     "metadata": {},
     "output_type": "execute_result"
    }
   ],
   "source": [
    "reviews_df[reviews_df['text'].str.len() == 0]"
   ]
  },
  {
   "cell_type": "markdown",
   "metadata": {},
   "source": [
    "### Formato da coluna target\n",
    "\n",
    "A coluna `target` é a polaridade / o sentimento do review. Para calculá-lo, vamos considerar a coluna `recommend_to_a_friend` e transformá-la de forma que:\n",
    "* se `recommend_to_a_friend` = `Yes`, então, `target` = 1\n",
    "* se `recommend_to_a_friend` = `No`, então, `target` = 0"
   ]
  },
  {
   "cell_type": "code",
   "execution_count": 9,
   "metadata": {},
   "outputs": [],
   "source": [
    "reviews_df['target'] = (reviews_df['recommend_to_a_friend'] == 'Yes').astype(int)"
   ]
  },
  {
   "cell_type": "markdown",
   "metadata": {},
   "source": [
    "### Novas colunas\n",
    "\n",
    "Como podemos ver, agora temos o texto do review e a polaridade da sentença. "
   ]
  },
  {
   "cell_type": "code",
   "execution_count": 10,
   "metadata": {},
   "outputs": [
    {
     "data": {
      "text/html": [
       "<div>\n",
       "<style scoped>\n",
       "    .dataframe tbody tr th:only-of-type {\n",
       "        vertical-align: middle;\n",
       "    }\n",
       "\n",
       "    .dataframe tbody tr th {\n",
       "        vertical-align: top;\n",
       "    }\n",
       "\n",
       "    .dataframe thead th {\n",
       "        text-align: right;\n",
       "    }\n",
       "</style>\n",
       "<table border=\"1\" class=\"dataframe\">\n",
       "  <thead>\n",
       "    <tr style=\"text-align: right;\">\n",
       "      <th></th>\n",
       "      <th>text</th>\n",
       "      <th>target</th>\n",
       "    </tr>\n",
       "  </thead>\n",
       "  <tbody>\n",
       "    <tr>\n",
       "      <th>0</th>\n",
       "      <td>Bom Estou contente com a compra entrega rápida...</td>\n",
       "      <td>1</td>\n",
       "    </tr>\n",
       "    <tr>\n",
       "      <th>1</th>\n",
       "      <td>Preço imbatível, ótima qualidade Por apenas R$...</td>\n",
       "      <td>1</td>\n",
       "    </tr>\n",
       "    <tr>\n",
       "      <th>2</th>\n",
       "      <td>ATENDE TODAS AS EXPECTATIVA. SUPERA EM AGILIDA...</td>\n",
       "      <td>1</td>\n",
       "    </tr>\n",
       "    <tr>\n",
       "      <th>3</th>\n",
       "      <td>presente mais que desejado MEU FILHO AMOU! PAR...</td>\n",
       "      <td>1</td>\n",
       "    </tr>\n",
       "    <tr>\n",
       "      <th>4</th>\n",
       "      <td>Sem duvidas, excelente A entrega foi no prazo,...</td>\n",
       "      <td>1</td>\n",
       "    </tr>\n",
       "  </tbody>\n",
       "</table>\n",
       "</div>"
      ],
      "text/plain": [
       "                                                text  target\n",
       "0  Bom Estou contente com a compra entrega rápida...       1\n",
       "1  Preço imbatível, ótima qualidade Por apenas R$...       1\n",
       "2  ATENDE TODAS AS EXPECTATIVA. SUPERA EM AGILIDA...       1\n",
       "3  presente mais que desejado MEU FILHO AMOU! PAR...       1\n",
       "4  Sem duvidas, excelente A entrega foi no prazo,...       1"
      ]
     },
     "execution_count": 10,
     "metadata": {},
     "output_type": "execute_result"
    }
   ],
   "source": [
    "reviews_df[['text', 'target']].head()"
   ]
  },
  {
   "cell_type": "markdown",
   "metadata": {},
   "source": [
    "## Inspeção de algumas colunas"
   ]
  },
  {
   "cell_type": "markdown",
   "metadata": {},
   "source": [
    "### Coluna `target`"
   ]
  },
  {
   "cell_type": "code",
   "execution_count": 11,
   "metadata": {},
   "outputs": [
    {
     "data": {
      "text/plain": [
       "target\n",
       "1         96368\n",
       "0         36005\n",
       "dtype: int64"
      ]
     },
     "execution_count": 11,
     "metadata": {},
     "output_type": "execute_result"
    }
   ],
   "source": [
    "reviews_df[['target']].value_counts()"
   ]
  },
  {
   "cell_type": "markdown",
   "metadata": {},
   "source": [
    "### Coluna `text`\n",
    "\n",
    "* distribuição de número de caracteres\n",
    "* inspeção visual do texto"
   ]
  },
  {
   "cell_type": "code",
   "execution_count": 12,
   "metadata": {},
   "outputs": [],
   "source": [
    "reviews_df['text_nchars'] = reviews_df['text'].str.len()"
   ]
  },
  {
   "cell_type": "code",
   "execution_count": 13,
   "metadata": {},
   "outputs": [
    {
     "data": {
      "text/html": [
       "<div>\n",
       "<style scoped>\n",
       "    .dataframe tbody tr th:only-of-type {\n",
       "        vertical-align: middle;\n",
       "    }\n",
       "\n",
       "    .dataframe tbody tr th {\n",
       "        vertical-align: top;\n",
       "    }\n",
       "\n",
       "    .dataframe thead th {\n",
       "        text-align: right;\n",
       "    }\n",
       "</style>\n",
       "<table border=\"1\" class=\"dataframe\">\n",
       "  <thead>\n",
       "    <tr style=\"text-align: right;\">\n",
       "      <th></th>\n",
       "      <th>text_nchars</th>\n",
       "    </tr>\n",
       "  </thead>\n",
       "  <tbody>\n",
       "    <tr>\n",
       "      <th>count</th>\n",
       "      <td>132373.000000</td>\n",
       "    </tr>\n",
       "    <tr>\n",
       "      <th>mean</th>\n",
       "      <td>161.587076</td>\n",
       "    </tr>\n",
       "    <tr>\n",
       "      <th>std</th>\n",
       "      <td>140.354253</td>\n",
       "    </tr>\n",
       "    <tr>\n",
       "      <th>min</th>\n",
       "      <td>52.000000</td>\n",
       "    </tr>\n",
       "    <tr>\n",
       "      <th>25%</th>\n",
       "      <td>85.000000</td>\n",
       "    </tr>\n",
       "    <tr>\n",
       "      <th>50%</th>\n",
       "      <td>117.000000</td>\n",
       "    </tr>\n",
       "    <tr>\n",
       "      <th>75%</th>\n",
       "      <td>183.000000</td>\n",
       "    </tr>\n",
       "    <tr>\n",
       "      <th>max</th>\n",
       "      <td>4585.000000</td>\n",
       "    </tr>\n",
       "  </tbody>\n",
       "</table>\n",
       "</div>"
      ],
      "text/plain": [
       "         text_nchars\n",
       "count  132373.000000\n",
       "mean      161.587076\n",
       "std       140.354253\n",
       "min        52.000000\n",
       "25%        85.000000\n",
       "50%       117.000000\n",
       "75%       183.000000\n",
       "max      4585.000000"
      ]
     },
     "execution_count": 13,
     "metadata": {},
     "output_type": "execute_result"
    }
   ],
   "source": [
    "reviews_df[['text_nchars']].describe()"
   ]
  },
  {
   "cell_type": "code",
   "execution_count": 14,
   "metadata": {},
   "outputs": [
    {
     "data": {
      "image/png": "[encoded data removed]",
      "text/plain": [
       "<Figure size 1440x480 with 1 Axes>"
      ]
     },
     "metadata": {
      "needs_background": "light"
     },
     "output_type": "display_data"
    }
   ],
   "source": [
    "fig = plt.figure(figsize=(12, 4), dpi=120)\n",
    "ax = fig.add_subplot(111)\n",
    "sns.boxplot(x=\"text_nchars\", data=reviews_df, palette=\"rainbow\", ax=ax)\n",
    "sns.despine()"
   ]
  },
  {
   "cell_type": "code",
   "execution_count": 15,
   "metadata": {},
   "outputs": [
    {
     "data": {
      "image/png": "[encoded data removed]",
      "text/plain": [
       "<Figure size 1200x480 with 1 Axes>"
      ]
     },
     "metadata": {
      "needs_background": "light"
     },
     "output_type": "display_data"
    }
   ],
   "source": [
    "fig = plt.figure(figsize=(10, 4), dpi=120)\n",
    "ax = fig.add_subplot(111)\n",
    "sns.histplot(x=\"text_nchars\", data=reviews_df, palette=\"rainbow\", ax=ax)\n",
    "sns.despine()"
   ]
  },
  {
   "cell_type": "markdown",
   "metadata": {},
   "source": [
    "Nosso objetivo é construir um **classificador de sentimentos**, que recebe uma sentença (referente a um review de produto) e é capaz de predizer se o review é positivo (o usuário recomendaria a um amigo) ou negativo (o usuário **não** recomendaria a um amigo)."
   ]
  },
  {
   "cell_type": "code",
   "execution_count": 16,
   "metadata": {},
   "outputs": [
    {
     "data": {
      "text/plain": [
       "['Ótimo produto Excelente produto, muito bem embalado e entregue antes do prazo estipulado. Americanas sempre surpreendendo positivamente no e-commerce.',\n",
       " 'Empresa enganosa Quando comprei falava 20 dias úteis para entrega, hj 10/04 já fazem quase um mês que está aguardando nota fiscal e a empresa não dá um respaldo.',\n",
       " 'nota 10 conforme anunciado Top, entrega super rápida, produto de qualidade!!!!!!!!!!!!!!!!',\n",
       " 'pessimo produto me arrependi de ter comprado este cubo para dar de presente ao meu sobrinho... Na primeira brincada já desmontou tudo.... Não comprem, que é roubada!!!',\n",
       " 'Produto chegou quebrado Não utilizei o produto pois ele chegou quebrado. A americanas autorizou uma troca, no entanto, até este momento, a transportadora ainda nao coletou o produto quebrado e eu estou sem utilizar o item adquirido.',\n",
       " 'Bom produto Na primeira vez o produto veio com defeito. Acho que me mandaram o mesmo de volta, mas consertado. Ainda estou cismado se não vai apresentar problemas depois, pois ele desligou algumas vezes depois de inativo. Isso não acontece com o original da Sony. Agora funciona bem. Controle analógico direito duro, o que é muito ruim pra jogo de tiro. Não me lembro se o primeiro era assim. De qualquer forma, melhor que um similar de outra marca.',\n",
       " 'Gostei Muito bom o produto. Boa qualidade \\\\uuuuuuuuuuuuuuuuuuuuuuuuuuuuuu\\\\uuuuuuuuuuuuuuuuu',\n",
       " 'Produto com defeito!!!!!! Muito FURIOSA meu produto veio com defeito painel solto que se mantém constantemente em funcionamento ao conectar na tomada, e não esquenta e o pezinho empenado , obviamente por péssimo transporte, não consigo falar com ninguém o suporte automático do site me encaminha pra fazer reclamação por email ja a 5 dias e ninguém me retorna vai vencer o período de troca e ninguém resolve meu problema !!!! #indignada',\n",
       " 'O mop é muito pequeno !! A foto me enganou. Faltou maiores informações com relação a dimensão do produto. O preço foi mais baixo que o mercado, isto de forma aparente, porque o tamanho foi diretamente proporcional ao preço praticado. Não gostei.',\n",
       " 'É um produto bom. É um produto bom, mas achei que pela marca Panasonic seria melhor. Achei a porta frágil. Acho que não vai durar como o que tinha antes,que era a mesma marca.Só o tempo vai dizer.']"
      ]
     },
     "execution_count": 16,
     "metadata": {},
     "output_type": "execute_result"
    }
   ],
   "source": [
    "reviews_df.sample(n=10)['text'].tolist()"
   ]
  },
  {
   "cell_type": "markdown",
   "metadata": {},
   "source": [
    "**Nos exemplos de frases acima, podemos ver que as sentenças incluem pontuações, acentos, letras maiúsculas e minúsculas... Seria ideal que conseguíssemos _normalizar_ o texto, de forma a diminuir a quantidade de palavras diferentes.**"
   ]
  },
  {
   "cell_type": "markdown",
   "metadata": {},
   "source": [
    "## Normalização do texto\n",
    "\n",
    "Técnicas comuns:\n",
    "\n",
    "* remoção de acentos\n",
    "\n",
    "* remoção de palavras muito comuns (_stopwords_)\n",
    "\n",
    "* remoção de pontuação\n",
    "\n",
    "* remoção de dígitos\n",
    "\n",
    "* padronização para letras minúsculas (ou maiúsculas)\n",
    "\n",
    "* _stemming_ / _lematização_ - redução de palavras relacionadas a uma forma mínima comum (ex. `construirá -> construir`, `construção -> construir`)\n",
    "\n",
    "* correção de palavras escritas incorretamente (uso de spellchecker)\n",
    "\n",
    "**Leia mais:**\n",
    "\n",
    "* sobre a diferença entre stemming e lematização em [uma discussão no StackOverflow](https://stackoverflow.com/questions/1787110/what-is-the-true-difference-between-lemmatization-vs-stemming);\n",
    "\n",
    "* sobre a situação atual em relação à lematização para a língua portuguesa nesse [blog post](https://lars76.github.io/nlp/lemmatize-portuguese/).\n",
    "\n",
    "**Atenção:** todas essas técnicas envolvem operações com `strings`. Como estamos trabalhando com um dataframe Pandas, quando possível, vamos usar os métodos descritos [na documentação do Pandas](https://pandas.pydata.org/pandas-docs/stable/user_guide/text.html)."
   ]
  },
  {
   "cell_type": "markdown",
   "metadata": {},
   "source": [
    "#### Remoção de acentos"
   ]
  },
  {
   "cell_type": "code",
   "execution_count": 17,
   "metadata": {},
   "outputs": [],
   "source": [
    "reviews_df['norm_text'] = reviews_df['text'].str.normalize('NFKD').str.encode('ascii', 'ignore').str.decode('utf-8')"
   ]
  },
  {
   "cell_type": "markdown",
   "metadata": {},
   "source": [
    "Forma alternativa:\n",
    "\n",
    ">```python\n",
    "> from unicodedata import normalize\n",
    ">\n",
    "> def remove_accents(text):\n",
    "    return normalize('NFKD', text).encode('ascii', 'ignore').decode('utf-8')\n",
    ">\n",
    "> reviews_df['norm_text'] = reviews_df['text'].apply(normalize_text)\n",
    ">```"
   ]
  },
  {
   "cell_type": "code",
   "execution_count": 18,
   "metadata": {},
   "outputs": [
    {
     "data": {
      "text/html": [
       "<div>\n",
       "<style scoped>\n",
       "    .dataframe tbody tr th:only-of-type {\n",
       "        vertical-align: middle;\n",
       "    }\n",
       "\n",
       "    .dataframe tbody tr th {\n",
       "        vertical-align: top;\n",
       "    }\n",
       "\n",
       "    .dataframe thead th {\n",
       "        text-align: right;\n",
       "    }\n",
       "</style>\n",
       "<table border=\"1\" class=\"dataframe\">\n",
       "  <thead>\n",
       "    <tr style=\"text-align: right;\">\n",
       "      <th></th>\n",
       "      <th>text</th>\n",
       "      <th>norm_text</th>\n",
       "    </tr>\n",
       "  </thead>\n",
       "  <tbody>\n",
       "    <tr>\n",
       "      <th>0</th>\n",
       "      <td>Bom Estou contente com a compra entrega rápida...</td>\n",
       "      <td>Bom Estou contente com a compra entrega rapida...</td>\n",
       "    </tr>\n",
       "    <tr>\n",
       "      <th>1</th>\n",
       "      <td>Preço imbatível, ótima qualidade Por apenas R$...</td>\n",
       "      <td>Preco imbativel, otima qualidade Por apenas R$...</td>\n",
       "    </tr>\n",
       "    <tr>\n",
       "      <th>2</th>\n",
       "      <td>ATENDE TODAS AS EXPECTATIVA. SUPERA EM AGILIDA...</td>\n",
       "      <td>ATENDE TODAS AS EXPECTATIVA. SUPERA EM AGILIDA...</td>\n",
       "    </tr>\n",
       "    <tr>\n",
       "      <th>3</th>\n",
       "      <td>presente mais que desejado MEU FILHO AMOU! PAR...</td>\n",
       "      <td>presente mais que desejado MEU FILHO AMOU! PAR...</td>\n",
       "    </tr>\n",
       "    <tr>\n",
       "      <th>4</th>\n",
       "      <td>Sem duvidas, excelente A entrega foi no prazo,...</td>\n",
       "      <td>Sem duvidas, excelente A entrega foi no prazo,...</td>\n",
       "    </tr>\n",
       "  </tbody>\n",
       "</table>\n",
       "</div>"
      ],
      "text/plain": [
       "                                                text  \\\n",
       "0  Bom Estou contente com a compra entrega rápida...   \n",
       "1  Preço imbatível, ótima qualidade Por apenas R$...   \n",
       "2  ATENDE TODAS AS EXPECTATIVA. SUPERA EM AGILIDA...   \n",
       "3  presente mais que desejado MEU FILHO AMOU! PAR...   \n",
       "4  Sem duvidas, excelente A entrega foi no prazo,...   \n",
       "\n",
       "                                           norm_text  \n",
       "0  Bom Estou contente com a compra entrega rapida...  \n",
       "1  Preco imbativel, otima qualidade Por apenas R$...  \n",
       "2  ATENDE TODAS AS EXPECTATIVA. SUPERA EM AGILIDA...  \n",
       "3  presente mais que desejado MEU FILHO AMOU! PAR...  \n",
       "4  Sem duvidas, excelente A entrega foi no prazo,...  "
      ]
     },
     "execution_count": 18,
     "metadata": {},
     "output_type": "execute_result"
    }
   ],
   "source": [
    "reviews_df[['text', 'norm_text']].head()"
   ]
  },
  {
   "cell_type": "markdown",
   "metadata": {},
   "source": [
    "#### Padronização para letras minúsculas"
   ]
  },
  {
   "cell_type": "code",
   "execution_count": 19,
   "metadata": {},
   "outputs": [],
   "source": [
    "reviews_df['norm_text'] = reviews_df['norm_text'].str.lower()"
   ]
  },
  {
   "cell_type": "code",
   "execution_count": 20,
   "metadata": {},
   "outputs": [
    {
     "data": {
      "text/html": [
       "<div>\n",
       "<style scoped>\n",
       "    .dataframe tbody tr th:only-of-type {\n",
       "        vertical-align: middle;\n",
       "    }\n",
       "\n",
       "    .dataframe tbody tr th {\n",
       "        vertical-align: top;\n",
       "    }\n",
       "\n",
       "    .dataframe thead th {\n",
       "        text-align: right;\n",
       "    }\n",
       "</style>\n",
       "<table border=\"1\" class=\"dataframe\">\n",
       "  <thead>\n",
       "    <tr style=\"text-align: right;\">\n",
       "      <th></th>\n",
       "      <th>text</th>\n",
       "      <th>norm_text</th>\n",
       "    </tr>\n",
       "  </thead>\n",
       "  <tbody>\n",
       "    <tr>\n",
       "      <th>0</th>\n",
       "      <td>Bom Estou contente com a compra entrega rápida...</td>\n",
       "      <td>bom estou contente com a compra entrega rapida...</td>\n",
       "    </tr>\n",
       "    <tr>\n",
       "      <th>1</th>\n",
       "      <td>Preço imbatível, ótima qualidade Por apenas R$...</td>\n",
       "      <td>preco imbativel, otima qualidade por apenas r$...</td>\n",
       "    </tr>\n",
       "    <tr>\n",
       "      <th>2</th>\n",
       "      <td>ATENDE TODAS AS EXPECTATIVA. SUPERA EM AGILIDA...</td>\n",
       "      <td>atende todas as expectativa. supera em agilida...</td>\n",
       "    </tr>\n",
       "    <tr>\n",
       "      <th>3</th>\n",
       "      <td>presente mais que desejado MEU FILHO AMOU! PAR...</td>\n",
       "      <td>presente mais que desejado meu filho amou! par...</td>\n",
       "    </tr>\n",
       "    <tr>\n",
       "      <th>4</th>\n",
       "      <td>Sem duvidas, excelente A entrega foi no prazo,...</td>\n",
       "      <td>sem duvidas, excelente a entrega foi no prazo,...</td>\n",
       "    </tr>\n",
       "  </tbody>\n",
       "</table>\n",
       "</div>"
      ],
      "text/plain": [
       "                                                text  \\\n",
       "0  Bom Estou contente com a compra entrega rápida...   \n",
       "1  Preço imbatível, ótima qualidade Por apenas R$...   \n",
       "2  ATENDE TODAS AS EXPECTATIVA. SUPERA EM AGILIDA...   \n",
       "3  presente mais que desejado MEU FILHO AMOU! PAR...   \n",
       "4  Sem duvidas, excelente A entrega foi no prazo,...   \n",
       "\n",
       "                                           norm_text  \n",
       "0  bom estou contente com a compra entrega rapida...  \n",
       "1  preco imbativel, otima qualidade por apenas r$...  \n",
       "2  atende todas as expectativa. supera em agilida...  \n",
       "3  presente mais que desejado meu filho amou! par...  \n",
       "4  sem duvidas, excelente a entrega foi no prazo,...  "
      ]
     },
     "execution_count": 20,
     "metadata": {},
     "output_type": "execute_result"
    }
   ],
   "source": [
    "reviews_df[['text', 'norm_text']].head()"
   ]
  },
  {
   "cell_type": "markdown",
   "metadata": {},
   "source": [
    "#### Remoção de dígitos\n",
    "\n",
    "Aqui, para facilitar, vamos usar as chamadas [expressões regulares](https://docs.python.org/pt-br/3.8/howto/regex.html).\n",
    "\n",
    "Para mais informações, você pode consultar essa [página](https://kmee.github.io/treinamento-python/google/regular-expressions.html)."
   ]
  },
  {
   "cell_type": "code",
   "execution_count": 21,
   "metadata": {},
   "outputs": [],
   "source": [
    "reviews_df['norm_text'] = reviews_df['norm_text'].str.replace(r'[0-9]', '')"
   ]
  },
  {
   "cell_type": "markdown",
   "metadata": {},
   "source": [
    "Forma alternativa **sem** usar expressões regulares:\n",
    "\n",
    "> ```python\n",
    "> for digit in range(10):\n",
    "    reviews_df['norm_text'] = reviews_df['norm_text'].str.replace(str(digit), '')\n",
    "> ``` \n",
    "\n",
    "Forma alternativa usando expressões regulares, explicitamente usando a biblioteca [re](https://docs.python.org/3.6/library/re.html):\n",
    "\n",
    "> ```python\n",
    "> import re\n",
    ">\n",
    "> def replace_digits(text):\n",
    "    return re.sub(r'\\d', '', text)\n",
    "> \n",
    "> reviews_df['norm_text'] = reviews_df['norm_text'].apply(replace_digits)\n",
    "> ```"
   ]
  },
  {
   "cell_type": "code",
   "execution_count": 22,
   "metadata": {},
   "outputs": [
    {
     "data": {
      "text/html": [
       "<div>\n",
       "<style scoped>\n",
       "    .dataframe tbody tr th:only-of-type {\n",
       "        vertical-align: middle;\n",
       "    }\n",
       "\n",
       "    .dataframe tbody tr th {\n",
       "        vertical-align: top;\n",
       "    }\n",
       "\n",
       "    .dataframe thead th {\n",
       "        text-align: right;\n",
       "    }\n",
       "</style>\n",
       "<table border=\"1\" class=\"dataframe\">\n",
       "  <thead>\n",
       "    <tr style=\"text-align: right;\">\n",
       "      <th></th>\n",
       "      <th>text</th>\n",
       "      <th>norm_text</th>\n",
       "    </tr>\n",
       "  </thead>\n",
       "  <tbody>\n",
       "    <tr>\n",
       "      <th>1</th>\n",
       "      <td>Preço imbatível, ótima qualidade Por apenas R$...</td>\n",
       "      <td>preco imbativel, otima qualidade por apenas r$...</td>\n",
       "    </tr>\n",
       "    <tr>\n",
       "      <th>2</th>\n",
       "      <td>ATENDE TODAS AS EXPECTATIVA. SUPERA EM AGILIDA...</td>\n",
       "      <td>atende todas as expectativa. supera em agilida...</td>\n",
       "    </tr>\n",
       "    <tr>\n",
       "      <th>21</th>\n",
       "      <td>TV Espetacular Pontos Positivos Painel de 10bi...</td>\n",
       "      <td>tv espetacular pontos positivos painel de bits...</td>\n",
       "    </tr>\n",
       "    <tr>\n",
       "      <th>68</th>\n",
       "      <td>7 Muito bom veio no esperado,Não pensei que vi...</td>\n",
       "      <td>muito bom veio no esperado,nao pensei que vin...</td>\n",
       "    </tr>\n",
       "    <tr>\n",
       "      <th>69</th>\n",
       "      <td>Ainda não recebi Comprei o produto dia 30/11 a...</td>\n",
       "      <td>ainda nao recebi comprei o produto dia / ate h...</td>\n",
       "    </tr>\n",
       "  </tbody>\n",
       "</table>\n",
       "</div>"
      ],
      "text/plain": [
       "                                                 text  \\\n",
       "1   Preço imbatível, ótima qualidade Por apenas R$...   \n",
       "2   ATENDE TODAS AS EXPECTATIVA. SUPERA EM AGILIDA...   \n",
       "21  TV Espetacular Pontos Positivos Painel de 10bi...   \n",
       "68  7 Muito bom veio no esperado,Não pensei que vi...   \n",
       "69  Ainda não recebi Comprei o produto dia 30/11 a...   \n",
       "\n",
       "                                            norm_text  \n",
       "1   preco imbativel, otima qualidade por apenas r$...  \n",
       "2   atende todas as expectativa. supera em agilida...  \n",
       "21  tv espetacular pontos positivos painel de bits...  \n",
       "68   muito bom veio no esperado,nao pensei que vin...  \n",
       "69  ainda nao recebi comprei o produto dia / ate h...  "
      ]
     },
     "execution_count": 22,
     "metadata": {},
     "output_type": "execute_result"
    }
   ],
   "source": [
    "reviews_df[reviews_df['text'].str.contains('0')][['text', 'norm_text']].head()"
   ]
  },
  {
   "cell_type": "markdown",
   "metadata": {},
   "source": [
    "#### Remoção de pontuação\n",
    "\n",
    "Para remover a pontuação, podemos usar o próprio módulo `string` do python, que já tem mapeadas as pontuações de texto possíveis."
   ]
  },
  {
   "cell_type": "code",
   "execution_count": 23,
   "metadata": {},
   "outputs": [],
   "source": [
    "import string\n",
    "\n",
    "translation_table = str.maketrans({key: ' ' for key in string.punctuation}) \n",
    "\n",
    "def remove_punctuation(text):\n",
    "    return text.translate(translation_table)"
   ]
  },
  {
   "cell_type": "markdown",
   "metadata": {},
   "source": [
    "* vamos testar a função?"
   ]
  },
  {
   "cell_type": "code",
   "execution_count": 24,
   "metadata": {},
   "outputs": [
    {
     "name": "stdout",
     "output_type": "stream",
     "text": [
      "Quando ela olhou, gritei bem alto: \n",
      " - \"Não me engana, não, hein?!\"\n"
     ]
    }
   ],
   "source": [
    "print('Quando ela olhou, gritei bem alto: \\n - \"Não me engana, não, hein?!\"')"
   ]
  },
  {
   "cell_type": "code",
   "execution_count": 25,
   "metadata": {},
   "outputs": [
    {
     "data": {
      "text/plain": [
       "'Quando ela olhou  gritei bem alto  \\n    Não me engana  não  hein   '"
      ]
     },
     "execution_count": 25,
     "metadata": {},
     "output_type": "execute_result"
    }
   ],
   "source": [
    "remove_punctuation('Quando ela olhou, gritei bem alto: \\n - \"Não me engana, não, hein?!\"')"
   ]
  },
  {
   "cell_type": "code",
   "execution_count": 26,
   "metadata": {},
   "outputs": [],
   "source": [
    "reviews_df['norm_text'] = reviews_df['norm_text'].apply(remove_punctuation)"
   ]
  },
  {
   "cell_type": "code",
   "execution_count": 27,
   "metadata": {},
   "outputs": [
    {
     "data": {
      "text/html": [
       "<div>\n",
       "<style scoped>\n",
       "    .dataframe tbody tr th:only-of-type {\n",
       "        vertical-align: middle;\n",
       "    }\n",
       "\n",
       "    .dataframe tbody tr th {\n",
       "        vertical-align: top;\n",
       "    }\n",
       "\n",
       "    .dataframe thead th {\n",
       "        text-align: right;\n",
       "    }\n",
       "</style>\n",
       "<table border=\"1\" class=\"dataframe\">\n",
       "  <thead>\n",
       "    <tr style=\"text-align: right;\">\n",
       "      <th></th>\n",
       "      <th>text</th>\n",
       "      <th>norm_text</th>\n",
       "    </tr>\n",
       "  </thead>\n",
       "  <tbody>\n",
       "    <tr>\n",
       "      <th>3</th>\n",
       "      <td>presente mais que desejado MEU FILHO AMOU! PAR...</td>\n",
       "      <td>presente mais que desejado meu filho amou  par...</td>\n",
       "    </tr>\n",
       "    <tr>\n",
       "      <th>10</th>\n",
       "      <td>Fantástico Comprei um pra cara membro da famíl...</td>\n",
       "      <td>fantastico comprei um pra cara membro da famil...</td>\n",
       "    </tr>\n",
       "    <tr>\n",
       "      <th>11</th>\n",
       "      <td>Maravilhoso!!! Produto maravilhoso! Não é baru...</td>\n",
       "      <td>maravilhoso    produto maravilhoso  nao e baru...</td>\n",
       "    </tr>\n",
       "    <tr>\n",
       "      <th>19</th>\n",
       "      <td>Vou usa-la A capa não decepcionou por enquanto...</td>\n",
       "      <td>vou usa la a capa nao decepcionou por enquanto...</td>\n",
       "    </tr>\n",
       "    <tr>\n",
       "      <th>21</th>\n",
       "      <td>TV Espetacular Pontos Positivos Painel de 10bi...</td>\n",
       "      <td>tv espetacular pontos positivos painel de bits...</td>\n",
       "    </tr>\n",
       "  </tbody>\n",
       "</table>\n",
       "</div>"
      ],
      "text/plain": [
       "                                                 text  \\\n",
       "3   presente mais que desejado MEU FILHO AMOU! PAR...   \n",
       "10  Fantástico Comprei um pra cara membro da famíl...   \n",
       "11  Maravilhoso!!! Produto maravilhoso! Não é baru...   \n",
       "19  Vou usa-la A capa não decepcionou por enquanto...   \n",
       "21  TV Espetacular Pontos Positivos Painel de 10bi...   \n",
       "\n",
       "                                            norm_text  \n",
       "3   presente mais que desejado meu filho amou  par...  \n",
       "10  fantastico comprei um pra cara membro da famil...  \n",
       "11  maravilhoso    produto maravilhoso  nao e baru...  \n",
       "19  vou usa la a capa nao decepcionou por enquanto...  \n",
       "21  tv espetacular pontos positivos painel de bits...  "
      ]
     },
     "execution_count": 27,
     "metadata": {},
     "output_type": "execute_result"
    }
   ],
   "source": [
    "reviews_df[reviews_df['text'].str.contains('!')][['text', 'norm_text']].head()"
   ]
  },
  {
   "cell_type": "markdown",
   "metadata": {},
   "source": [
    "#### Remoção de stopwords"
   ]
  },
  {
   "cell_type": "code",
   "execution_count": 28,
   "metadata": {},
   "outputs": [],
   "source": [
    "import nltk"
   ]
  },
  {
   "cell_type": "code",
   "execution_count": 29,
   "metadata": {},
   "outputs": [
    {
     "name": "stderr",
     "output_type": "stream",
     "text": [
      "[nltk_data] Downloading package stopwords to\n",
      "[nltk_data]     /Users/cinthia.tanaka/nltk_data...\n",
      "[nltk_data]   Package stopwords is already up-to-date!\n"
     ]
    },
    {
     "data": {
      "text/plain": [
       "True"
      ]
     },
     "execution_count": 29,
     "metadata": {},
     "output_type": "execute_result"
    }
   ],
   "source": [
    "nltk.download('stopwords')"
   ]
  },
  {
   "cell_type": "code",
   "execution_count": 30,
   "metadata": {},
   "outputs": [
    {
     "data": {
      "text/plain": [
       "'de / a / o / que / e / é / do / da / em / um / para / com / não / uma / os / no / se / na / por / mais / as / dos / como / mas / ao / ele / das / à / seu / sua / ou / quando / muito / nos / já / eu / também / só / pelo / pela / até / isso / ela / entre / depois / sem / mesmo / aos / seus / quem / nas / me / esse / eles / você / essa / num / nem / suas / meu / às / minha / numa / pelos / elas / qual / nós / lhe / deles / essas / esses / pelas / este / dele / tu / te / vocês / vos / lhes / meus / minhas / teu / tua / teus / tuas / nosso / nossa / nossos / nossas / dela / delas / esta / estes / estas / aquele / aquela / aqueles / aquelas / isto / aquilo / estou / está / estamos / estão / estive / esteve / estivemos / estiveram / estava / estávamos / estavam / estivera / estivéramos / esteja / estejamos / estejam / estivesse / estivéssemos / estivessem / estiver / estivermos / estiverem / hei / há / havemos / hão / houve / houvemos / houveram / houvera / houvéramos / haja / hajamos / hajam / houvesse / houvéssemos / houvessem / houver / houvermos / houverem / houverei / houverá / houveremos / houverão / houveria / houveríamos / houveriam / sou / somos / são / era / éramos / eram / fui / foi / fomos / foram / fora / fôramos / seja / sejamos / sejam / fosse / fôssemos / fossem / for / formos / forem / serei / será / seremos / serão / seria / seríamos / seriam / tenho / tem / temos / tém / tinha / tínhamos / tinham / tive / teve / tivemos / tiveram / tivera / tivéramos / tenha / tenhamos / tenham / tivesse / tivéssemos / tivessem / tiver / tivermos / tiverem / terei / terá / teremos / terão / teria / teríamos / teriam'"
      ]
     },
     "execution_count": 30,
     "metadata": {},
     "output_type": "execute_result"
    }
   ],
   "source": [
    "' / '.join(nltk.corpus.stopwords.words('portuguese'))"
   ]
  },
  {
   "cell_type": "markdown",
   "metadata": {},
   "source": [
    "**_Ponto importante_:** Como nossa tarefa é uma análise de sentimentos, seria muito ruim perder certas _stopwords_ como palavras de negação, afinal, \"Eu **não** gosto disso\"  é muito diferente de \"Eu gosto disso\"!"
   ]
  },
  {
   "cell_type": "markdown",
   "metadata": {},
   "source": [
    "Assim, vamos manter algumas das palavras que podem ser essenciais para a classificação:\n",
    "\n",
    "* `não`\n",
    "\n",
    "* `mas`\n",
    "\n",
    "Ou seja, gostaríamos de remover as palavras `não` e `mas` da lista de stopwords fornecida pelo `nltk`. Além disso, note que essa lista contém acentos. Vamos retirá-los."
   ]
  },
  {
   "cell_type": "code",
   "execution_count": 31,
   "metadata": {},
   "outputs": [],
   "source": [
    "from unicodedata import normalize\n",
    "\n",
    "def remove_accents(text):\n",
    "    return normalize('NFKD', text).encode('ascii', 'ignore').decode('utf-8')"
   ]
  },
  {
   "cell_type": "markdown",
   "metadata": {},
   "source": [
    "**Tarefa:** \n",
    "\n",
    "Crie uma lista chamada `stopwords` que contém todas as palavras de `nltk.corpus.stopwords.words('portuguese')`, exceto as palavras `não` e `mas`. A cada palavra deve ser aplicada a função `normalize_text`.\n",
    "\n",
    "1. defina uma lista chamada `not_allowed` com as palavras \"não\" e \"mas\".\n",
    "2. crie uma lista vazia chamada stopwords\n",
    "3. faça um loop para percorrer cada uma das palavras de `nltk.corpus.stopwords.words('portuguese')`\n",
    "    * a cada loop, você deve checar se a palavra atual está contida dentro de `not_allowed`\n",
    "    * se **não** estiver, você deve incluir a palavra à lista de stopwords\n",
    "\n",
    "<!-- \n",
    "not_allowed = [\"não\", \"mas\"]\n",
    "stopwords = []\n",
    "for word in nltk.corpus.stopwords.words('portuguese'):\n",
    "    if word not in not_allowed:\n",
    "        stopwords.append(remove_accents(word))\n",
    "-->"
   ]
  },
  {
   "cell_type": "code",
   "execution_count": 32,
   "metadata": {},
   "outputs": [],
   "source": [
    "not_allowed = [\"não\", \"mas\"]\n",
    "stopwords = []\n",
    "for word in nltk.corpus.stopwords.words('portuguese'):\n",
    "    if word not in not_allowed:\n",
    "        stopwords.append(remove_accents(word))"
   ]
  },
  {
   "cell_type": "code",
   "execution_count": 33,
   "metadata": {},
   "outputs": [
    {
     "data": {
      "text/plain": [
       "'de / a / o / que / e / e / do / da / em / um / para / com / uma / os / no / se / na / por / mais / as / dos / como / ao / ele / das / a / seu / sua / ou / quando / muito / nos / ja / eu / tambem / so / pelo / pela / ate / isso / ela / entre / depois / sem / mesmo / aos / seus / quem / nas / me / esse / eles / voce / essa / num / nem / suas / meu / as / minha / numa / pelos / elas / qual / nos / lhe / deles / essas / esses / pelas / este / dele / tu / te / voces / vos / lhes / meus / minhas / teu / tua / teus / tuas / nosso / nossa / nossos / nossas / dela / delas / esta / estes / estas / aquele / aquela / aqueles / aquelas / isto / aquilo / estou / esta / estamos / estao / estive / esteve / estivemos / estiveram / estava / estavamos / estavam / estivera / estiveramos / esteja / estejamos / estejam / estivesse / estivessemos / estivessem / estiver / estivermos / estiverem / hei / ha / havemos / hao / houve / houvemos / houveram / houvera / houveramos / haja / hajamos / hajam / houvesse / houvessemos / houvessem / houver / houvermos / houverem / houverei / houvera / houveremos / houverao / houveria / houveriamos / houveriam / sou / somos / sao / era / eramos / eram / fui / foi / fomos / foram / fora / foramos / seja / sejamos / sejam / fosse / fossemos / fossem / for / formos / forem / serei / sera / seremos / serao / seria / seriamos / seriam / tenho / tem / temos / tem / tinha / tinhamos / tinham / tive / teve / tivemos / tiveram / tivera / tiveramos / tenha / tenhamos / tenham / tivesse / tivessemos / tivessem / tiver / tivermos / tiverem / terei / tera / teremos / terao / teria / teriamos / teriam'"
      ]
     },
     "execution_count": 33,
     "metadata": {},
     "output_type": "execute_result"
    }
   ],
   "source": [
    "' / '.join(stopwords)"
   ]
  },
  {
   "cell_type": "markdown",
   "metadata": {},
   "source": [
    "* note que há palavras repetidas, por termos removido os acentos. Vamos retirá-las transformando `stopwords` em um _set_ (uma estrutura de dados de conjunto, que automaticamente remove repetições)"
   ]
  },
  {
   "cell_type": "code",
   "execution_count": 34,
   "metadata": {},
   "outputs": [],
   "source": [
    "stopwords = set(stopwords)"
   ]
  },
  {
   "cell_type": "code",
   "execution_count": 35,
   "metadata": {},
   "outputs": [
    {
     "data": {
      "text/plain": [
       "'estas / sua / nossas / serei / ela / houveria / houvera / foramos / tua / nossos / so / lhes / serao / teremos / essas / ha / estou / ate / estivessemos / terei / houvessem / tambem / deles / seriam / tivera / meus / teriamos / que / estejamos / tenhamos / ja / qual / nossa / uma / tuas / houver / era / sejam / e / houveremos / estavamos / aos / houveriamos / isto / ou / forem / de / nas / como / aquelas / tenham / fossem / me / fora / quem / essa / vos / tiverem / tera / ele / suas / estavam / estivermos / haja / seremos / estiver / seja / estivesse / houveriam / foi / um / dos / esta / voces / sao / delas / havemos / fosse / hao / das / te / para / aquilo / houverei / teu / em / esses / somos / estivemos / nos / seriamos / dele / fomos / houvermos / eramos / estiverem / houverao / meu / eles / num / houvemos / tinha / nem / voce / for / tivemos / estive / entre / estao / houvesse / tivermos / pelo / do / as / tem / minhas / tenho / tive / houverem / terao / tu / teria / hei / na / estes / os / quando / pelas / ao / seus / sejamos / minha / houveramos / eu / este / tenha / seria / da / lhe / dela / seu / pela / esteja / teus / estiveramos / hajamos / mesmo / estejam / aqueles / muito / a / houve / tivessemos / numa / o / pelos / estava / estivessem / isso / eram / aquela / houveram / tivessem / tinhamos / teriam / mais / tiveramos / tinham / no / por / estamos / com / hajam / temos / se / teve / houvessemos / tiver / nosso / sou / formos / aquele / estivera / sera / foram / fossemos / sem / elas / estiveram / depois / tiveram / esteve / tivesse / fui / esse'"
      ]
     },
     "execution_count": 35,
     "metadata": {},
     "output_type": "execute_result"
    }
   ],
   "source": [
    "' / '.join(stopwords)"
   ]
  },
  {
   "cell_type": "markdown",
   "metadata": {},
   "source": [
    "## Transformação do texto em features numéricas - como funciona?\n",
    "\n",
    "Antes de treinar o modelo, precisamos transformar o texto em _features_ numéricas.\n",
    "\n",
    "A maneira mais simples de transformar um texto em um vetor de números é usando o método comumente chamado de _Bag of words_.\n",
    "\n",
    "Como o nome já nos diz, a ideia por trás do _Bag of words_ é representar cada sentença como um \"saco\" de palavras. Isso significa que a ordem das palavras **não** importa.\n",
    "\n",
    "Para representar cada sentença com relação às palavras que a compõem, é necessário primeiro definir um vocabulário. Por exemplo, imagine que eu tenha como vocabulário a lista:\n",
    "\n",
    "```python\n",
    "vocabulario = [\"verde\", \"manga\", \"ovo\", \"almoço\", \"garfo\"]\n",
    "```\n",
    "\n",
    "Então, a sentença `Comi uma manga verde no almoço` poderia ser representada por `[1, 1, 0, 1, 0]`. O tamanho do vetor deve ser o tamanho do vocabulário (no caso, 5). As palavras que não estão no vocabulário são ignoradas.\n",
    "\n",
    "Mas como definir qual é o vocabulário e calcular isso para todas as sentenças? Para aplicar o _Bag of words_, é comum usar o [`CountVectorizer` do scikit-learn](https://scikit-learn.org/stable/modules/generated/sklearn.feature_extraction.text.CountVectorizer.html). Alguns parâmetros importantes no uso dele são:\n",
    "\n",
    "* `max_features`: quantidade máxima de `features` - quantidade máxima de palavras no vocabulário;\n",
    "* `binary`: se `True`, então, só revela ausência (0) ou presença das palavras do vocabulário em cada sentença. Se `False`, conta a quantidade de cada uma das palavras na sentença.\n",
    "\n",
    "O parâmetro `max_features` é em parte responsável pela escolha do vocabulário. Outros parâmetros que controlam as frequências mínima e máxima permitidas de cada palavra no corpus (o conjunto de sentenças do dataset de treino) também influenciam o vocabulário final e, consequentemente, a representação do texto."
   ]
  },
  {
   "cell_type": "code",
   "execution_count": 36,
   "metadata": {},
   "outputs": [],
   "source": [
    "from sklearn.feature_extraction.text import CountVectorizer"
   ]
  },
  {
   "cell_type": "code",
   "execution_count": 37,
   "metadata": {},
   "outputs": [],
   "source": [
    "examples_for_bow = [\n",
    "    'camisa preta',\n",
    "    'botao feito linha preta',\n",
    "    'considera-se caro preco botao camisa botao',\n",
    "    'linha costurar botão mesma camisa',\n",
    "    'costurar linha camisa mesma botao'\n",
    "]"
   ]
  },
  {
   "cell_type": "code",
   "execution_count": 38,
   "metadata": {},
   "outputs": [],
   "source": [
    "cv = CountVectorizer(max_features=5, strip_accents='unicode', binary=True)"
   ]
  },
  {
   "cell_type": "code",
   "execution_count": 39,
   "metadata": {},
   "outputs": [
    {
     "data": {
      "text/plain": [
       "<5x5 sparse matrix of type '<class 'numpy.int64'>'\n",
       "\twith 15 stored elements in Compressed Sparse Row format>"
      ]
     },
     "execution_count": 39,
     "metadata": {},
     "output_type": "execute_result"
    }
   ],
   "source": [
    "bow_matrix = cv.fit_transform(examples_for_bow)\n",
    "bow_matrix"
   ]
  },
  {
   "cell_type": "markdown",
   "metadata": {},
   "source": [
    "* Matriz"
   ]
  },
  {
   "cell_type": "code",
   "execution_count": 40,
   "metadata": {},
   "outputs": [
    {
     "data": {
      "text/plain": [
       "matrix([[0, 1, 0, 0, 0],\n",
       "        [1, 0, 0, 1, 0],\n",
       "        [1, 1, 0, 0, 0],\n",
       "        [1, 1, 1, 1, 1],\n",
       "        [1, 1, 1, 1, 1]])"
      ]
     },
     "execution_count": 40,
     "metadata": {},
     "output_type": "execute_result"
    }
   ],
   "source": [
    "bow_matrix.todense()"
   ]
  },
  {
   "cell_type": "markdown",
   "metadata": {},
   "source": [
    "* Vocabulário"
   ]
  },
  {
   "cell_type": "code",
   "execution_count": 41,
   "metadata": {},
   "outputs": [
    {
     "data": {
      "text/plain": [
       "{'camisa': 1, 'botao': 0, 'linha': 3, 'costurar': 2, 'mesma': 4}"
      ]
     },
     "execution_count": 41,
     "metadata": {},
     "output_type": "execute_result"
    }
   ],
   "source": [
    "cv.vocabulary_"
   ]
  },
  {
   "cell_type": "code",
   "execution_count": 42,
   "metadata": {},
   "outputs": [
    {
     "data": {
      "text/html": [
       "<div>\n",
       "<style scoped>\n",
       "    .dataframe tbody tr th:only-of-type {\n",
       "        vertical-align: middle;\n",
       "    }\n",
       "\n",
       "    .dataframe tbody tr th {\n",
       "        vertical-align: top;\n",
       "    }\n",
       "\n",
       "    .dataframe thead th {\n",
       "        text-align: right;\n",
       "    }\n",
       "</style>\n",
       "<table border=\"1\" class=\"dataframe\">\n",
       "  <thead>\n",
       "    <tr style=\"text-align: right;\">\n",
       "      <th></th>\n",
       "      <th>botao</th>\n",
       "      <th>camisa</th>\n",
       "      <th>costurar</th>\n",
       "      <th>linha</th>\n",
       "      <th>mesma</th>\n",
       "    </tr>\n",
       "  </thead>\n",
       "  <tbody>\n",
       "    <tr>\n",
       "      <th>0</th>\n",
       "      <td>0</td>\n",
       "      <td>1</td>\n",
       "      <td>0</td>\n",
       "      <td>0</td>\n",
       "      <td>0</td>\n",
       "    </tr>\n",
       "    <tr>\n",
       "      <th>1</th>\n",
       "      <td>1</td>\n",
       "      <td>0</td>\n",
       "      <td>0</td>\n",
       "      <td>1</td>\n",
       "      <td>0</td>\n",
       "    </tr>\n",
       "    <tr>\n",
       "      <th>2</th>\n",
       "      <td>1</td>\n",
       "      <td>1</td>\n",
       "      <td>0</td>\n",
       "      <td>0</td>\n",
       "      <td>0</td>\n",
       "    </tr>\n",
       "    <tr>\n",
       "      <th>3</th>\n",
       "      <td>1</td>\n",
       "      <td>1</td>\n",
       "      <td>1</td>\n",
       "      <td>1</td>\n",
       "      <td>1</td>\n",
       "    </tr>\n",
       "    <tr>\n",
       "      <th>4</th>\n",
       "      <td>1</td>\n",
       "      <td>1</td>\n",
       "      <td>1</td>\n",
       "      <td>1</td>\n",
       "      <td>1</td>\n",
       "    </tr>\n",
       "  </tbody>\n",
       "</table>\n",
       "</div>"
      ],
      "text/plain": [
       "   botao  camisa  costurar  linha  mesma\n",
       "0      0       1         0      0      0\n",
       "1      1       0         0      1      0\n",
       "2      1       1         0      0      0\n",
       "3      1       1         1      1      1\n",
       "4      1       1         1      1      1"
      ]
     },
     "execution_count": 42,
     "metadata": {},
     "output_type": "execute_result"
    }
   ],
   "source": [
    "pd.DataFrame(bow_matrix.todense(), columns=list(zip(*sorted(cv.vocabulary_.items(), key=lambda item: item[1])))[0])"
   ]
  },
  {
   "cell_type": "markdown",
   "metadata": {},
   "source": [
    "Note que os exemplos `3` e `4` têm a mesma representação numérica, mesmo que a ordem das palavras não seja a mesma! Essa é uma característica desse método."
   ]
  },
  {
   "cell_type": "markdown",
   "metadata": {},
   "source": [
    "## Preparação dos dados"
   ]
  },
  {
   "cell_type": "markdown",
   "metadata": {},
   "source": [
    "**Tarefa:** Divida o dataframe `reviews_df` em um dataframe de treino (`train_df`) e um de teste (`test_df`)\n",
    "\n",
    "1. crie uma variável chamada `target_vals` com os valores da coluna `target` em uma lista\n",
    "2. use a função do sklearn `train_test_split` para dividir o dataframe. Lembre-se de usar o parâmetro `stratify`, passandro para ele a variável `target_vals`.\n",
    "    \n",
    "<!-- \n",
    "target_vals = reviews_df['recommend_to_a_friend'].values\n",
    "train_df, test_df = train_test_split(reviews_df, test_size=0.2, stratify=target_vals)\n",
    "-->"
   ]
  },
  {
   "cell_type": "code",
   "execution_count": 43,
   "metadata": {},
   "outputs": [],
   "source": [
    "from sklearn.model_selection import train_test_split"
   ]
  },
  {
   "cell_type": "code",
   "execution_count": 44,
   "metadata": {},
   "outputs": [],
   "source": [
    "target_vals = reviews_df['target'].values\n",
    "train_df, test_df = train_test_split(reviews_df, test_size=0.2, stratify=target_vals)"
   ]
  },
  {
   "cell_type": "code",
   "execution_count": 45,
   "metadata": {},
   "outputs": [
    {
     "data": {
      "text/plain": [
       "(105898, 26475)"
      ]
     },
     "execution_count": 45,
     "metadata": {},
     "output_type": "execute_result"
    }
   ],
   "source": [
    "len(train_df), len(test_df)"
   ]
  },
  {
   "cell_type": "code",
   "execution_count": 46,
   "metadata": {},
   "outputs": [
    {
     "data": {
      "text/html": [
       "<div>\n",
       "<style scoped>\n",
       "    .dataframe tbody tr th:only-of-type {\n",
       "        vertical-align: middle;\n",
       "    }\n",
       "\n",
       "    .dataframe tbody tr th {\n",
       "        vertical-align: top;\n",
       "    }\n",
       "\n",
       "    .dataframe thead th {\n",
       "        text-align: right;\n",
       "    }\n",
       "</style>\n",
       "<table border=\"1\" class=\"dataframe\">\n",
       "  <thead>\n",
       "    <tr style=\"text-align: right;\">\n",
       "      <th></th>\n",
       "      <th>norm_text</th>\n",
       "      <th>target</th>\n",
       "    </tr>\n",
       "  </thead>\n",
       "  <tbody>\n",
       "    <tr>\n",
       "      <th>97057</th>\n",
       "      <td>idioma em portugues vem o portugues brasil    ...</td>\n",
       "      <td>1</td>\n",
       "    </tr>\n",
       "    <tr>\n",
       "      <th>125771</th>\n",
       "      <td>o produto veio mas com falhas o jogo veio perf...</td>\n",
       "      <td>1</td>\n",
       "    </tr>\n",
       "    <tr>\n",
       "      <th>34058</th>\n",
       "      <td>ronaldo neri memoria ram hyperx  to querendo s...</td>\n",
       "      <td>1</td>\n",
       "    </tr>\n",
       "    <tr>\n",
       "      <th>21161</th>\n",
       "      <td>bagageiro bonito e util gostei muito do produt...</td>\n",
       "      <td>1</td>\n",
       "    </tr>\n",
       "    <tr>\n",
       "      <th>107092</th>\n",
       "      <td>entrega rapida  produto de qualidade  chegou a...</td>\n",
       "      <td>1</td>\n",
       "    </tr>\n",
       "  </tbody>\n",
       "</table>\n",
       "</div>"
      ],
      "text/plain": [
       "                                                norm_text  target\n",
       "97057   idioma em portugues vem o portugues brasil    ...       1\n",
       "125771  o produto veio mas com falhas o jogo veio perf...       1\n",
       "34058   ronaldo neri memoria ram hyperx  to querendo s...       1\n",
       "21161   bagageiro bonito e util gostei muito do produt...       1\n",
       "107092  entrega rapida  produto de qualidade  chegou a...       1"
      ]
     },
     "execution_count": 46,
     "metadata": {},
     "output_type": "execute_result"
    }
   ],
   "source": [
    "train_df[['norm_text', 'target']].head()"
   ]
  },
  {
   "cell_type": "code",
   "execution_count": 47,
   "metadata": {},
   "outputs": [
    {
     "data": {
      "text/html": [
       "<div>\n",
       "<style scoped>\n",
       "    .dataframe tbody tr th:only-of-type {\n",
       "        vertical-align: middle;\n",
       "    }\n",
       "\n",
       "    .dataframe tbody tr th {\n",
       "        vertical-align: top;\n",
       "    }\n",
       "\n",
       "    .dataframe thead th {\n",
       "        text-align: right;\n",
       "    }\n",
       "</style>\n",
       "<table border=\"1\" class=\"dataframe\">\n",
       "  <thead>\n",
       "    <tr style=\"text-align: right;\">\n",
       "      <th></th>\n",
       "      <th>norm_text</th>\n",
       "      <th>target</th>\n",
       "    </tr>\n",
       "  </thead>\n",
       "  <tbody>\n",
       "    <tr>\n",
       "      <th>119123</th>\n",
       "      <td>era oque esperava pratico e funcional  simplif...</td>\n",
       "      <td>1</td>\n",
       "    </tr>\n",
       "    <tr>\n",
       "      <th>103225</th>\n",
       "      <td>receber ht excelente o receiver e compacto  po...</td>\n",
       "      <td>1</td>\n",
       "    </tr>\n",
       "    <tr>\n",
       "      <th>49521</th>\n",
       "      <td>perfeito    comprei por curiosidade  e quando ...</td>\n",
       "      <td>1</td>\n",
       "    </tr>\n",
       "    <tr>\n",
       "      <th>69693</th>\n",
       "      <td>gostei otimo produto  funcionando perfeitament...</td>\n",
       "      <td>1</td>\n",
       "    </tr>\n",
       "    <tr>\n",
       "      <th>59920</th>\n",
       "      <td>produto nao pode ser entrege  ok  o vendedor i...</td>\n",
       "      <td>0</td>\n",
       "    </tr>\n",
       "  </tbody>\n",
       "</table>\n",
       "</div>"
      ],
      "text/plain": [
       "                                                norm_text  target\n",
       "119123  era oque esperava pratico e funcional  simplif...       1\n",
       "103225  receber ht excelente o receiver e compacto  po...       1\n",
       "49521   perfeito    comprei por curiosidade  e quando ...       1\n",
       "69693   gostei otimo produto  funcionando perfeitament...       1\n",
       "59920   produto nao pode ser entrege  ok  o vendedor i...       0"
      ]
     },
     "execution_count": 47,
     "metadata": {},
     "output_type": "execute_result"
    }
   ],
   "source": [
    "test_df[['norm_text', 'target']].head()"
   ]
  },
  {
   "cell_type": "markdown",
   "metadata": {},
   "source": [
    "## Construção do modelo\n",
    "\n",
    "Usamos aqui como exemplo uma árvore de decisão.\n",
    "\n",
    "Uma vantagem de usar a árvore de decisão é que ela é interpretável: ao final do treino, poderemos ver quais são as palavras que mais importam e explorar um pouco as regras de decisão para cada classificação.\n",
    "\n",
    "**Leia mais:** Se quiser um exemplo usando outro tipo de algoritmo, você pode ver esse [post no Medium](https://medium.com/@minbaekim/text-mining-preprocess-and-naive-bayes-classifier-da0000f633b2). \n",
    "\n",
    "**Aprofunde-se:** Veja a diferença entre utilizar SVM (Support Vector Machines) e Decision Trees para classificação de texto [aqui](https://www.codementor.io/blog/text-classification-6mmol0q8oj)."
   ]
  },
  {
   "cell_type": "code",
   "execution_count": 48,
   "metadata": {},
   "outputs": [],
   "source": [
    "from sklearn.tree import DecisionTreeClassifier\n",
    "from sklearn.pipeline import Pipeline"
   ]
  },
  {
   "cell_type": "code",
   "execution_count": 49,
   "metadata": {},
   "outputs": [],
   "source": [
    "steps = [\n",
    "    ('vect', CountVectorizer(max_features=200, stop_words=stopwords)),\n",
    "    ('clf', DecisionTreeClassifier(min_samples_leaf=10, class_weight='balanced'))\n",
    "]\n",
    "\n",
    "pipeline = Pipeline(steps)"
   ]
  },
  {
   "cell_type": "code",
   "execution_count": 50,
   "metadata": {},
   "outputs": [],
   "source": [
    "X_train = train_df['norm_text'].values\n",
    "y_train = train_df['target'].values"
   ]
  },
  {
   "cell_type": "code",
   "execution_count": 51,
   "metadata": {},
   "outputs": [],
   "source": [
    "sentiment_analyzer = pipeline.fit(X_train, y_train)"
   ]
  },
  {
   "cell_type": "markdown",
   "metadata": {},
   "source": [
    "**Tarefa:** Teste seu classificador usando um texto de exemplo. Veja que você pode usar tanto o método `predict` como o método `predict_proba`.\n",
    "\n",
    "1. crie uma variável `text` com qualquer texto ou com o texto de uma das avaliações do dataset\n",
    "2. faça uma chamada com `sentiment_analyzer.predict` ou `sentiment_analyzer.predict_proba` passando como parâmetro uma lista contendo a variável `text`: `[text]`\n",
    "\n",
    "\n",
    "<!-- \n",
    "text = test_df.iloc[0]['norm_text']\n",
    "sentiment_analyzer.predict([text])\n",
    "sentiment_analyzer.predict_proba([text])\n",
    "-->"
   ]
  },
  {
   "cell_type": "code",
   "execution_count": 52,
   "metadata": {},
   "outputs": [],
   "source": [
    "text = test_df.iloc[0]['norm_text']"
   ]
  },
  {
   "cell_type": "code",
   "execution_count": 53,
   "metadata": {},
   "outputs": [
    {
     "data": {
      "text/plain": [
       "array([1])"
      ]
     },
     "execution_count": 53,
     "metadata": {},
     "output_type": "execute_result"
    }
   ],
   "source": [
    "sentiment_analyzer.predict([text])"
   ]
  },
  {
   "cell_type": "code",
   "execution_count": 54,
   "metadata": {},
   "outputs": [
    {
     "data": {
      "text/plain": [
       "array([[0.03841328, 0.96158672]])"
      ]
     },
     "execution_count": 54,
     "metadata": {},
     "output_type": "execute_result"
    }
   ],
   "source": [
    "sentiment_analyzer.predict_proba([text])"
   ]
  },
  {
   "cell_type": "markdown",
   "metadata": {},
   "source": [
    "### Plotando as features mais importantes"
   ]
  },
  {
   "cell_type": "code",
   "execution_count": 55,
   "metadata": {},
   "outputs": [],
   "source": [
    "from sklearn import tree"
   ]
  },
  {
   "cell_type": "code",
   "execution_count": 56,
   "metadata": {},
   "outputs": [],
   "source": [
    "vect = sentiment_analyzer.named_steps['vect']"
   ]
  },
  {
   "cell_type": "code",
   "execution_count": 57,
   "metadata": {},
   "outputs": [],
   "source": [
    "features = vect.get_feature_names()"
   ]
  },
  {
   "cell_type": "code",
   "execution_count": 58,
   "metadata": {},
   "outputs": [],
   "source": [
    "sorted_features = sorted(zip(features, sentiment_analyzer.named_steps['clf'].feature_importances_), key=lambda elem: elem[1], reverse=True)"
   ]
  },
  {
   "cell_type": "code",
   "execution_count": 59,
   "metadata": {},
   "outputs": [],
   "source": [
    "plt.rcParams['axes.axisbelow'] = True"
   ]
  },
  {
   "cell_type": "code",
   "execution_count": 60,
   "metadata": {},
   "outputs": [
    {
     "data": {
      "image/png": "[encoded data removed]",
      "text/plain": [
       "<Figure size 840x600 with 1 Axes>"
      ]
     },
     "metadata": {
      "needs_background": "light"
     },
     "output_type": "display_data"
    }
   ],
   "source": [
    "fig = plt.figure(figsize=(7, 5), dpi=120)\n",
    "ax = fig.add_subplot(111)\n",
    "plt.barh(*zip(*sorted_features[:20][::-1]), color='skyblue', edgecolor='w')\n",
    "ax.spines['right'].set_visible(False)\n",
    "ax.spines['top'].set_visible(False)\n",
    "plt.grid()\n",
    "plt.title('Top 10 features mais importantes')\n",
    "plt.show()"
   ]
  },
  {
   "cell_type": "markdown",
   "metadata": {},
   "source": [
    "* profundidade da árvore"
   ]
  },
  {
   "cell_type": "code",
   "execution_count": 61,
   "metadata": {},
   "outputs": [
    {
     "data": {
      "text/plain": [
       "122"
      ]
     },
     "execution_count": 61,
     "metadata": {},
     "output_type": "execute_result"
    }
   ],
   "source": [
    "sentiment_analyzer.named_steps['clf'].get_depth()"
   ]
  },
  {
   "cell_type": "markdown",
   "metadata": {},
   "source": [
    "* note o parâmetro `max_depth=2`, que indica que vamos plotar apenas até o nível de profundidade 2 da árvore"
   ]
  },
  {
   "cell_type": "code",
   "execution_count": 72,
   "metadata": {},
   "outputs": [
    {
     "data": {
      "image/png": "[encoded data removed]",
      "text/plain": [
       "<Figure size 1440x720 with 1 Axes>"
      ]
     },
     "metadata": {
      "needs_background": "light"
     },
     "output_type": "display_data"
    }
   ],
   "source": [
    "fig = plt.figure(figsize=(12, 6), dpi=120)\n",
    "ax = fig.add_subplot(111)\n",
    "_ = tree.plot_tree(sentiment_analyzer.named_steps['clf'], max_depth=2, label='root', proportion=False,\n",
    "    impurity=False, feature_names=features, class_names=['not_recommend', 'recommend'], ax=ax, fontsize=10)"
   ]
  },
  {
   "cell_type": "markdown",
   "metadata": {},
   "source": [
    "## Avaliação do classificador\n",
    "\n",
    "**Tarefa:** Faça a predição da coluna `norm_text` e compare o resultado com o vetor target (coluna `y`).\n",
    "\n",
    "1. crie a variável `X_test` (dica: veja como criamos a variável `X_train`. Deve ser a mesma coisa, utilizando agora o dataframe `test_df`)\n",
    "2. crie a variável `y_test` (dica: veja como criamos a variável `y_train`. Deve ser a mesma coisa, utilizando agora o dataframe `test_df`)\n",
    "3. crie a variável `y_pred` com as predições do modelo `sentiment_analyzer` em `X_train`\n",
    "4. imprima o [classification_report](https://scikit-learn.org/0.19/modules/generated/sklearn.metrics.classification_report.html#sklearn.metrics.classification_report) usando como parâmetros `y_test`, `y_pred` e como `target_names` uma lista `['positive', 'negative']`.\n",
    "\n",
    "<!-- \n",
    "X_test = test_df['norm_text'].values\n",
    "y_test = test_df['y'].values\n",
    "y_pred = sentiment_analyzer.predict(X_test)\n",
    "print(classification_report(y_test, y_pred, target_names=['negative', 'positive']))\n",
    "-->"
   ]
  },
  {
   "cell_type": "code",
   "execution_count": 63,
   "metadata": {},
   "outputs": [],
   "source": [
    "from sklearn.metrics import classification_report, confusion_matrix"
   ]
  },
  {
   "cell_type": "code",
   "execution_count": 64,
   "metadata": {},
   "outputs": [],
   "source": [
    "X_test = test_df['norm_text'].values\n",
    "y_test = test_df['target'].values"
   ]
  },
  {
   "cell_type": "code",
   "execution_count": 65,
   "metadata": {},
   "outputs": [],
   "source": [
    "y_pred = sentiment_analyzer.predict(X_test)"
   ]
  },
  {
   "cell_type": "code",
   "execution_count": 66,
   "metadata": {},
   "outputs": [
    {
     "name": "stdout",
     "output_type": "stream",
     "text": [
      "              precision    recall  f1-score   support\n",
      "\n",
      "    negative       0.75      0.89      0.81      7201\n",
      "    positive       0.96      0.89      0.92     19274\n",
      "\n",
      "    accuracy                           0.89     26475\n",
      "   macro avg       0.85      0.89      0.87     26475\n",
      "weighted avg       0.90      0.89      0.89     26475\n",
      "\n"
     ]
    }
   ],
   "source": [
    "print(classification_report(y_test, y_pred, target_names=['negative', 'positive']))"
   ]
  },
  {
   "cell_type": "markdown",
   "metadata": {},
   "source": [
    "#### Comparação com um classificador _naive_\n",
    "\n",
    "Como exemplo de classificador _naive_, vamos criar um classificador que identifica como negativo os textos que contêm `nao` e positivo os textos que **não** contém `nao`"
   ]
  },
  {
   "cell_type": "code",
   "execution_count": 67,
   "metadata": {},
   "outputs": [],
   "source": [
    "naive_pred = [int('nao' in text) for text in X_test]"
   ]
  },
  {
   "cell_type": "code",
   "execution_count": 68,
   "metadata": {},
   "outputs": [
    {
     "name": "stdout",
     "output_type": "stream",
     "text": [
      "              precision    recall  f1-score   support\n",
      "\n",
      "    negative       0.09      0.22      0.13      7201\n",
      "    positive       0.41      0.20      0.27     19274\n",
      "\n",
      "    accuracy                           0.21     26475\n",
      "   macro avg       0.25      0.21      0.20     26475\n",
      "weighted avg       0.33      0.21      0.23     26475\n",
      "\n"
     ]
    }
   ],
   "source": [
    "print(classification_report(y_test, naive_pred, target_names=['negative', 'positive']))"
   ]
  },
  {
   "cell_type": "markdown",
   "metadata": {},
   "source": [
    "### Matriz de confusão\n",
    "\n",
    "|      | pred_0| pred_1|\n",
    "|------|-------|-------|\n",
    "|   0  |  TN   |  FP   |\n",
    "|   1  |  FN   |  TP   |\n",
    "\n",
    "\n",
    "Legenda:\n",
    "* `TN`: verdadeiros negativos (predição está correta e o sentimento verdadeiro é negativo)\n",
    "* `FP`: falsos positivos (predição está incorreta e o sentimento verdadeiro é negativo)\n",
    "* `FN`: falsos negativos (predição está incorreta e o sentimento verdadeiro é positivo)\n",
    "* `TP`: verdadeiros positivos (predição está correta e o sentimento verdadeiro é positivo)"
   ]
  },
  {
   "cell_type": "code",
   "execution_count": 69,
   "metadata": {},
   "outputs": [
    {
     "data": {
      "text/html": [
       "<div>\n",
       "<style scoped>\n",
       "    .dataframe tbody tr th:only-of-type {\n",
       "        vertical-align: middle;\n",
       "    }\n",
       "\n",
       "    .dataframe tbody tr th {\n",
       "        vertical-align: top;\n",
       "    }\n",
       "\n",
       "    .dataframe thead th {\n",
       "        text-align: right;\n",
       "    }\n",
       "</style>\n",
       "<table border=\"1\" class=\"dataframe\">\n",
       "  <thead>\n",
       "    <tr style=\"text-align: right;\">\n",
       "      <th></th>\n",
       "      <th>pred_0</th>\n",
       "      <th>pred_1</th>\n",
       "    </tr>\n",
       "  </thead>\n",
       "  <tbody>\n",
       "    <tr>\n",
       "      <th>0</th>\n",
       "      <td>6413</td>\n",
       "      <td>788</td>\n",
       "    </tr>\n",
       "    <tr>\n",
       "      <th>1</th>\n",
       "      <td>2164</td>\n",
       "      <td>17110</td>\n",
       "    </tr>\n",
       "  </tbody>\n",
       "</table>\n",
       "</div>"
      ],
      "text/plain": [
       "   pred_0  pred_1\n",
       "0    6413     788\n",
       "1    2164   17110"
      ]
     },
     "execution_count": 69,
     "metadata": {},
     "output_type": "execute_result"
    }
   ],
   "source": [
    "pd.DataFrame(confusion_matrix(y_test, y_pred), columns=['pred_0', 'pred_1'])"
   ]
  },
  {
   "cell_type": "markdown",
   "metadata": {},
   "source": [
    "**Pergunta final:** O que você achou do classificador? Ele é bom ou ruim?"
   ]
  },
  {
   "cell_type": "code",
   "execution_count": null,
   "metadata": {},
   "outputs": [],
   "source": []
  }
 ],
 "metadata": {
  "kernelspec": {
   "display_name": "Python 3 (pyenv)",
   "language": "python",
   "name": "pyenv3"
  },
  "language_info": {
   "codemirror_mode": {
    "name": "ipython",
    "version": 3
   },
   "file_extension": ".py",
   "mimetype": "text/x-python",
   "name": "python",
   "nbconvert_exporter": "python",
   "pygments_lexer": "ipython3",
   "version": "3.7.9"
  }
 },
 "nbformat": 4,
 "nbformat_minor": 4
}
