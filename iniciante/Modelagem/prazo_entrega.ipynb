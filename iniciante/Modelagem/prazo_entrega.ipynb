{
 "cells": [
  {
   "cell_type": "markdown",
   "metadata": {},
   "source": [
    "# Exercício: predição de prazo de entrega\n",
    "\n",
    "**Objetivo:** predizer prazo de entrega usando a base de dados do arquivo `processed_olist_orders.csv`"
   ]
  },
  {
   "cell_type": "code",
   "execution_count": null,
   "metadata": {},
   "outputs": [],
   "source": [
    "! pip install geopy matplotlib pandas scikit-learn seaborn"
   ]
  },
  {
   "cell_type": "code",
   "execution_count": null,
   "metadata": {},
   "outputs": [],
   "source": [
    "from geopy.distance import distance\n",
    "import numpy as np\n",
    "import pandas as pd\n",
    "\n",
    "## bibliotecas para visualização de dados\n",
    "import matplotlib.pyplot as plt\n",
    "import seaborn as sns"
   ]
  },
  {
   "cell_type": "code",
   "execution_count": null,
   "metadata": {},
   "outputs": [],
   "source": [
    "from sklearn.linear_model import LinearRegression\n",
    "from sklearn.metrics import mean_absolute_error, mean_squared_error, r2_score\n",
    "from sklearn.model_selection import train_test_split\n",
    "from sklearn.preprocessing import MinMaxScaler"
   ]
  },
  {
   "cell_type": "code",
   "execution_count": null,
   "metadata": {},
   "outputs": [],
   "source": [
    "import warnings\n",
    "warnings.filterwarnings(\"ignore\")"
   ]
  },
  {
   "cell_type": "markdown",
   "metadata": {},
   "source": [
    "## Leitura dos dados"
   ]
  },
  {
   "cell_type": "code",
   "execution_count": null,
   "metadata": {},
   "outputs": [],
   "source": [
    "orders_df = pd.read_csv(\"https://raw.githubusercontent.com/nubank/diversidados-curso-ds/master/iniciante/Modelagem/processed_olist_orders.csv\")"
   ]
  },
  {
   "cell_type": "markdown",
   "metadata": {},
   "source": [
    "* transforma coluna de datas relevantes em timestamp"
   ]
  },
  {
   "cell_type": "code",
   "execution_count": null,
   "metadata": {},
   "outputs": [],
   "source": [
    "orders_df[\"order_purchase_timestamp\"] = pd.to_datetime(orders_df[\"order_purchase_timestamp\"])\n",
    "orders_df[\"order_delivered_carrier_date_timestamp\"] = pd.to_datetime(pd.to_datetime(orders_df[\"order_delivered_carrier_date\"]).dt.strftime(\"%Y-%m-%d\"))\n",
    "orders_df[\"order_delivered_customer_date_timestamp\"] = pd.to_datetime(pd.to_datetime(orders_df[\"order_delivered_customer_date\"]).dt.strftime(\"%Y-%m-%d\"))"
   ]
  },
  {
   "cell_type": "code",
   "execution_count": null,
   "metadata": {},
   "outputs": [],
   "source": [
    "orders_df.head()"
   ]
  },
  {
   "cell_type": "markdown",
   "metadata": {},
   "source": [
    "## Inspeção de algumas colunas"
   ]
  },
  {
   "cell_type": "markdown",
   "metadata": {},
   "source": [
    "#### `order_status`: status do pedido"
   ]
  },
  {
   "cell_type": "code",
   "execution_count": null,
   "metadata": {},
   "outputs": [],
   "source": [
    "orders_df[\"order_status\"].value_counts().reset_index().rename(columns={\"index\": \"order_status\", \"order_status\": \"count\"})"
   ]
  },
  {
   "cell_type": "markdown",
   "metadata": {},
   "source": [
    "### Dados por estado do `customer` e `seller`"
   ]
  },
  {
   "cell_type": "code",
   "execution_count": null,
   "metadata": {},
   "outputs": [],
   "source": [
    "states_count = orders_df[\"customer_state\"].value_counts().reset_index().rename(columns={\"index\": \"state\", \"customer_state\": \"customer\"}) \\\n",
    "    .merge(orders_df[\"seller_state\"].value_counts().reset_index().rename(columns={\"index\": \"state\", \"seller_state\": \"seller\"}),\n",
    "           on=\"state\", how=\"left\").fillna(0)\n",
    "states_count_melted = pd.melt(states_count, id_vars=\"state\", var_name=\"user_type\", value_name=\"count\")"
   ]
  },
  {
   "cell_type": "code",
   "execution_count": null,
   "metadata": {},
   "outputs": [],
   "source": [
    "fig = plt.figure(figsize=(10, 4), dpi=120)\n",
    "ax = fig.add_subplot(111)\n",
    "sns.barplot(x=\"state\", y=\"count\", hue=\"user_type\", data=states_count_melted, palette=\"rainbow\", ax=ax)\n",
    "sns.despine()"
   ]
  },
  {
   "cell_type": "markdown",
   "metadata": {},
   "source": [
    "### Distribuição de `freight_value`: valor do frete"
   ]
  },
  {
   "cell_type": "code",
   "execution_count": null,
   "metadata": {},
   "outputs": [],
   "source": [
    "orders_df[[\"freight_value\"]].describe()"
   ]
  },
  {
   "cell_type": "code",
   "execution_count": null,
   "metadata": {},
   "outputs": [],
   "source": [
    "fig = plt.figure(figsize=(12, 4), dpi=120)\n",
    "ax = fig.add_subplot(111)\n",
    "sns.boxplot(x=\"freight_value\", data=orders_df, palette=\"rainbow\", ax=ax)\n",
    "sns.despine()"
   ]
  },
  {
   "cell_type": "code",
   "execution_count": null,
   "metadata": {},
   "outputs": [],
   "source": [
    "fig = plt.figure(figsize=(10, 4), dpi=120)\n",
    "ax = fig.add_subplot(111)\n",
    "sns.histplot(x=\"freight_value\", data=orders_df, palette=\"rainbow\", ax=ax)\n",
    "sns.despine()"
   ]
  },
  {
   "cell_type": "markdown",
   "metadata": {},
   "source": [
    "#### Tarefa: que tal explorar mais colunas?\n",
    "\n",
    "Por exemplo:\n",
    "\n",
    "* qual é o intervalo de datas para o qual temos dados?\n",
    "    * mínimo e máximo de da coluna `order_purchase_timestamp` (**Dica**: use o `.describe()` como foi usado para a coluna `freight_value` anteriormente)\n",
    "\n",
    "\n",
    "* quais são as cidades (`customer_city` e `seller_city`) com mais pedidos? (**Dica**: use o `.value_counts()` como foi usado para a coluna `order_status` anteriormente) \n",
    "\n",
    "<!-- \n",
    "display(orders_df[[\"order_purchase_timestamp\"]].describe())\n",
    "\n",
    "display(orders_df[\"customer_city\"].value_counts().reset_index().rename(columns={\"index\": \"customer_city\", \"customer_city\": \"count\"}).head(n=10))\n",
    "\n",
    "display(orders_df[\"seller_city\"].value_counts().reset_index().rename(columns={\"index\": \"seller_city\", \"seller_city\": \"count\"}).head(n=10)) \n",
    "-->"
   ]
  },
  {
   "cell_type": "code",
   "execution_count": null,
   "metadata": {},
   "outputs": [],
   "source": [
    "####"
   ]
  },
  {
   "cell_type": "markdown",
   "metadata": {},
   "source": [
    "### Apenas dados com status `delivered` devem ser mantidos no dataset\n",
    "\n",
    "**Tarefa**: mantenha no dataframe `orders_df` somente os dados cujo valor na coluna `order_status` é igual a `\"delivered\"`.\n",
    "\n",
    "<!-- \n",
    "orders_df = orders_df[orders_df[\"order_status\"] == \"delivered\"]\n",
    "-->"
   ]
  },
  {
   "cell_type": "code",
   "execution_count": null,
   "metadata": {},
   "outputs": [],
   "source": [
    "orders_df = ####"
   ]
  },
  {
   "cell_type": "markdown",
   "metadata": {},
   "source": [
    "## Criação de features\n",
    "\n",
    "Exemplos:\n",
    "* `same_city`: se `customer_city` é igual a `seller_city`\n",
    "* `same_state`: se `customer_state` é igual a `seller_state`\n",
    "* `zip_code_prefix_match`: número de prefixos iguais entre `customer_zip_code_prefix` e `seller_zip_code_prefix` (ex. `012345` e `01355` têm `zip_code_prefix_match` = 2)\n",
    "* `geo_distance`: distância calculada a partir da latitude e longitude entre `customer` e `seller`\n",
    "* `from_to`: combinação de `seller_state` e `customer_state` (ex. se `seller_state` é `SP` e `customer_state` é `RJ`, então, `from_to` = `SP->RJ`)"
   ]
  },
  {
   "cell_type": "markdown",
   "metadata": {},
   "source": [
    "**Tarefa**: crie as colunas `same_city` e `same_state`.\n",
    "\n",
    "**Dica 1**: `==` pode ser usado para comparar se duas colunas são iguais. Por exemplo: `df[\"a\"] == df[\"b\"]` devolve `True` nas linhas em que a coluna `a` é igual à coluna `b` e `False` nas linhas em que os valores são diferentes.\n",
    "\n",
    "**Dica 2**: para transformar uma coluna cujos valores são `True` e `False` em uma coluna de `1` e `0`, basta fazer uma conversão usando `.astype(int)`. Por exemplo: `df[\"coluna_booleana\"].astype(int)` faz com que todos os valores `True` sejam transformados em `1` e todos os valores `False`, em `0`.\n",
    "\n",
    "<!-- \n",
    "orders_df[\"same_city\"] = (orders_df[\"customer_city\"] == orders_df[\"seller_city\"]).astype(int)\n",
    "orders_df[\"same_state\"] = (orders_df[\"customer_state\"] == orders_df[\"seller_state\"]).astype(int)\n",
    " -->"
   ]
  },
  {
   "cell_type": "code",
   "execution_count": null,
   "metadata": {},
   "outputs": [],
   "source": [
    "orders_df[\"same_city\"] = ###\n",
    "orders_df[\"same_state\"] = ###"
   ]
  },
  {
   "cell_type": "code",
   "execution_count": null,
   "metadata": {},
   "outputs": [],
   "source": [
    "orders_df[\"from_to\"] = orders_df[\"customer_state\"] + \"->\" + orders_df[\"seller_state\"]"
   ]
  },
  {
   "cell_type": "code",
   "execution_count": null,
   "metadata": {},
   "outputs": [],
   "source": [
    "for colname in [\"customer_zip_code_prefix\", \"seller_zip_code_prefix\"]:\n",
    "    orders_df[f\"{colname}_list\"] = orders_df[colname].astype(str).str.zfill(5).apply(list)\n",
    "\n",
    "def calc_prefix_match(row):\n",
    "    customer_prefix_list = row[\"customer_zip_code_prefix_list\"]\n",
    "    seller_prefix_list = row[\"seller_zip_code_prefix_list\"]\n",
    "    num_matches = 0\n",
    "    for i in range(5):\n",
    "        if customer_prefix_list[i] != seller_prefix_list[i]:\n",
    "            break\n",
    "        num_matches += 1\n",
    "    return num_matches\n",
    "    \n",
    "orders_df[\"zip_code_prefix_match\"] = orders_df.apply(calc_prefix_match, 1)"
   ]
  },
  {
   "cell_type": "code",
   "execution_count": null,
   "metadata": {},
   "outputs": [],
   "source": [
    "def calc_distance(row):\n",
    "    customer_lat_long = (row[\"customer_lat\"], row[\"customer_long\"])\n",
    "    seller_lat_long = (row[\"seller_lat\"], row[\"seller_long\"])\n",
    "    return distance(customer_lat_long, seller_lat_long).km"
   ]
  },
  {
   "cell_type": "code",
   "execution_count": null,
   "metadata": {},
   "outputs": [],
   "source": [
    "orders_df[\"geo_distance\"] = orders_df.apply(calc_distance, 1)"
   ]
  },
  {
   "cell_type": "markdown",
   "metadata": {},
   "source": [
    "#### Tarefa: que outras features podemos criar?\n",
    "\n",
    "Por exemplo:\n",
    "\n",
    "* `carrier_date_day_of_week`: dia da semana em que o pedido foi postado (`order_delivered_carrier_date`). **Dica**: Você pode usar o [.isoweekday()](https://docs.python.org/pt-br/3/library/datetime.html#datetime.date.isoweekday) da biblioteca `datetime`, que retorna o dia da semana, sendo que Segunda é 1 e Domingo é 7.\n",
    "\n",
    "* `carrier_date_is_weekday`: `1` se o pedido foi postado (`order_delivered_carrier_date`) em um dia útil (segunda a sexta) e `0` se foi no fim de semana. Neste caso, uma sofisticação seria incluir dados sobre o calendário para saber quando foi feriado.\n",
    "\n",
    "* `customer_region`: região (norte, nordeste, centro-oeste, sudeste, sul) a que pertence o estado em que o `customer` está (`customer_state`). Você pode consultar as regiões na [Wikipedia](https://pt.wikipedia.org/wiki/Regiões_do_Brasil).\n",
    "\n",
    "* `seller_region`: região (norte, nordeste, centro-oeste, sudeste, sul) a que pertence o estado em que o `seller` está (`seller_state`)\n",
    "\n",
    "<!-- \n",
    "display(orders_df[[\"order_purchase_timestamp\"]].describe())\n",
    "\n",
    "display(orders_df[\"customer_city\"].value_counts().reset_index().rename(columns={\"index\": \"customer_city\", \"customer_city\": \"count\"}).head(n=10))\n",
    "\n",
    "display(orders_df[\"seller_city\"].value_counts().reset_index().rename(columns={\"index\": \"seller_city\", \"seller_city\": \"count\"}).head(n=10)) \n",
    "-->"
   ]
  },
  {
   "cell_type": "code",
   "execution_count": null,
   "metadata": {},
   "outputs": [],
   "source": [
    "###"
   ]
  },
  {
   "cell_type": "markdown",
   "metadata": {},
   "source": [
    "## Formato da coluna target\n",
    "\n",
    "A coluna `target` é o prazo de entrega. Para calculá-lo, vamos considerar a quantidade de dias entre a postagem (`order_delivered_carrier_date`) e o recebimento (`order_delivered_customer_date`) pelo `customer`."
   ]
  },
  {
   "cell_type": "code",
   "execution_count": null,
   "metadata": {},
   "outputs": [],
   "source": [
    "def calc_diff_dates(row):\n",
    "    carrier_date = row[\"order_delivered_carrier_date_timestamp\"]\n",
    "    customer_date = row[\"order_delivered_customer_date_timestamp\"]\n",
    "    return (customer_date - carrier_date).days"
   ]
  },
  {
   "cell_type": "code",
   "execution_count": null,
   "metadata": {},
   "outputs": [],
   "source": [
    "orders_df[\"target\"] = orders_df.apply(calc_diff_dates, 1)"
   ]
  },
  {
   "cell_type": "markdown",
   "metadata": {},
   "source": [
    "#### Como é a distribuição do valor do target?\n",
    "\n",
    "* olhe os valores mínimo e máximo do target"
   ]
  },
  {
   "cell_type": "code",
   "execution_count": null,
   "metadata": {},
   "outputs": [],
   "source": [
    "orders_df[[\"target\"]].describe()"
   ]
  },
  {
   "cell_type": "code",
   "execution_count": null,
   "metadata": {},
   "outputs": [],
   "source": [
    "fig = plt.figure(figsize=(12, 4), dpi=120)\n",
    "ax = fig.add_subplot(111)\n",
    "sns.boxplot(x=\"target\", data=orders_df, palette=\"rainbow\", ax=ax)\n",
    "p99 = orders_df[\"target\"].quantile(0.99)\n",
    "plt.axvline(x=p99, linestyle='--', color='cornflowerblue')\n",
    "plt.text(p99 + 2, -0.4, f'99 percentil = {p99}', color='cornflowerblue')\n",
    "sns.despine()"
   ]
  },
  {
   "cell_type": "markdown",
   "metadata": {},
   "source": [
    "### O que seria um target estranho?\n",
    "\n",
    "* valor negativo: entregou antes de postar\n",
    "\n",
    "* zero: embora não seja impossível, não parece plausível"
   ]
  },
  {
   "cell_type": "code",
   "execution_count": null,
   "metadata": {},
   "outputs": [],
   "source": [
    "len(orders_df[orders_df[\"target\"] <= 0])"
   ]
  },
  {
   "cell_type": "markdown",
   "metadata": {},
   "source": [
    "* vamos remover esses valores do dataset"
   ]
  },
  {
   "cell_type": "code",
   "execution_count": null,
   "metadata": {},
   "outputs": [],
   "source": [
    "orders_df = orders_df[orders_df[\"target\"] > 0]"
   ]
  },
  {
   "cell_type": "markdown",
   "metadata": {},
   "source": [
    "## Preparação dos dados"
   ]
  },
  {
   "cell_type": "code",
   "execution_count": null,
   "metadata": {},
   "outputs": [],
   "source": [
    "full_dataset = orders_df.reset_index(drop=True)"
   ]
  },
  {
   "cell_type": "markdown",
   "metadata": {},
   "source": [
    "### Divisão do dataset em treino e teste\n",
    "\n",
    "**Tarefa:** Faça a divisão no tempo, deixando 20% para nossa base de teste. **Dica:** use [`train_test_split`](https://scikit-learn.org/stable/modules/generated/sklearn.model_selection.train_test_split.html) da biblioteca sklearn com o parâmetro `shuffle = False`.\n",
    "\n",
    "\n",
    "<!-- \n",
    "train_test_split(full_dataset, test_size=.2, random_state=0, shuffle=False)\n",
    " -->"
   ]
  },
  {
   "cell_type": "code",
   "execution_count": null,
   "metadata": {},
   "outputs": [],
   "source": [
    "datasets = {}"
   ]
  },
  {
   "cell_type": "code",
   "execution_count": null,
   "metadata": {
    "ExecuteTime": {
     "end_time": "2020-10-21T00:14:16.273933Z",
     "start_time": "2020-10-21T00:14:16.267559Z"
    }
   },
   "outputs": [],
   "source": [
    "datasets[\"train\"], datasets[\"test\"] = ####"
   ]
  },
  {
   "cell_type": "markdown",
   "metadata": {},
   "source": [
    "### Processamento de features\n",
    "\n",
    "Features categóricas: média do prazo de entrega (`target`) no dataset de treino\n",
    "* `from_to`\n",
    "* `customer_city`\n",
    "\n",
    "Features binárias: sem tratamento\n",
    "* `same_city`\n",
    "* `same_state`\n",
    "\n",
    "Features numéricas: normalização de valores usando o [MinMaxScaler](https://scikit-learn.org/stable/modules/generated/sklearn.preprocessing.MinMaxScaler.html)\n",
    "* `zip_code_prefix_match`\n",
    "* `customer_lat`\n",
    "* `customer_long`\n",
    "* `seller_lat`\n",
    "* `seller_long`\n",
    "* `geo_distance`\n",
    "\n",
    "**Atenção:** caso tenha criado outras features, lembre-se de incluí-las no local correto, de acordo com o tipo de seus valores."
   ]
  },
  {
   "cell_type": "markdown",
   "metadata": {},
   "source": [
    "**Tarefa**: Preencha o dicionário abaixo, colocando as colunas apropriadas nas listas correspondentes a cada uma das chaves.\n",
    "\n",
    "<!-- \n",
    "features = {\n",
    "    \"categorical\": [\"from_to\", \"customer_city\"],\n",
    "    \"binary\": [\"same_city\", \"same_state\"],\n",
    "    \"numerical\": [\"zip_code_prefix_match\", \"customer_lat\",\n",
    "                 \"customer_long\", \"seller_lat\", \"seller_long\", \"geo_distance\"]\n",
    "}\n",
    " -->"
   ]
  },
  {
   "cell_type": "code",
   "execution_count": null,
   "metadata": {},
   "outputs": [],
   "source": [
    "features = {\n",
    "    \"categorical\": [###],\n",
    "    \"binary\": [###],\n",
    "    \"numerical\": [###]}"
   ]
  },
  {
   "cell_type": "code",
   "execution_count": null,
   "metadata": {},
   "outputs": [],
   "source": [
    "def process_numerical_feature(df, colname, scaler):\n",
    "    df[f\"{colname}_scaled\"] = scaler.transform(df[[colname]]).reshape(-1)\n",
    "    return df.drop(colname, 1)\n",
    "\n",
    "def scale_numerical_cols(df, cols, scalers):\n",
    "    for colname in cols:\n",
    "        df = process_numerical_feature(df, colname, scalers[colname])\n",
    "    return df"
   ]
  },
  {
   "cell_type": "code",
   "execution_count": null,
   "metadata": {},
   "outputs": [],
   "source": [
    "def create_avg_categorical_cols(df, cols, all_categories):\n",
    "    for colname in cols:\n",
    "        from_to_values, mean_val = all_categories[colname]\n",
    "        df[f\"{colname}_avg\"] = df[colname].apply(lambda val: from_to_values.get(val, mean_val))\n",
    "    return df"
   ]
  },
  {
   "cell_type": "code",
   "execution_count": null,
   "metadata": {},
   "outputs": [],
   "source": [
    "for dataset_type in [\"train\", \"test\"]:\n",
    "    df = datasets[dataset_type]\n",
    "    if dataset_type == \"train\":\n",
    "        all_categories = {\n",
    "            col: (df.groupby(col).agg({\"target\": \"mean\"})[\"target\"].to_dict(), df[\"target\"].mean()) for col in features[\"categorical\"]\n",
    "        }\n",
    "        scalers = {\n",
    "            col: MinMaxScaler().fit(df[[col]]) for col in features[\"numerical\"]\n",
    "        }\n",
    "    df = create_avg_categorical_cols(df, features[\"categorical\"], all_categories)\n",
    "    datasets[dataset_type] = scale_numerical_cols(df, features[\"numerical\"], scalers)"
   ]
  },
  {
   "cell_type": "markdown",
   "metadata": {},
   "source": [
    "#### Informações do dataset de treino"
   ]
  },
  {
   "cell_type": "code",
   "execution_count": null,
   "metadata": {},
   "outputs": [],
   "source": [
    "feature_cols = features[\"binary\"] + [f\"{col}_avg\" for col in features[\"categorical\"]] + [f\"{col}_scaled\" for col in features[\"numerical\"]]"
   ]
  },
  {
   "cell_type": "code",
   "execution_count": null,
   "metadata": {},
   "outputs": [],
   "source": [
    "datasets[\"train\"][feature_cols].describe()"
   ]
  },
  {
   "cell_type": "code",
   "execution_count": null,
   "metadata": {},
   "outputs": [],
   "source": [
    "datasets[\"train\"][feature_cols].info()"
   ]
  },
  {
   "cell_type": "markdown",
   "metadata": {},
   "source": [
    "## Construção do modelo\n",
    "\n",
    "Usamos aqui como exemplo um modelo linear, mas fique à vontade para tentar com outro modelo, como por exemplo, uma [árvore de decisão](https://scikit-learn.org/stable/auto_examples/tree/plot_tree_regression.html)."
   ]
  },
  {
   "cell_type": "code",
   "execution_count": null,
   "metadata": {},
   "outputs": [],
   "source": [
    "model = LinearRegression()"
   ]
  },
  {
   "cell_type": "markdown",
   "metadata": {},
   "source": [
    "**Tarefa:** Faça o `.fit` do modelo, passando como parâmetros:\n",
    "* o dataset de treino (`datasets[\"train\"]`) com as colunas `features_cols`\n",
    "* o dataset de treino (`datasets[\"train\"]`) com a coluna `target`.\n",
    "\n",
    "<!-- \n",
    "model = model.fit(datasets[\"train\"][feature_cols], datasets[\"train\"][\"target\"])\n",
    " -->"
   ]
  },
  {
   "cell_type": "code",
   "execution_count": null,
   "metadata": {},
   "outputs": [],
   "source": [
    "model = ###"
   ]
  },
  {
   "cell_type": "markdown",
   "metadata": {},
   "source": [
    "### Métricas para avaliação\n",
    "\n",
    "Para regressão, é comum utilizarmos uma das seguintes métricas para avaliar nosso modelo:\n",
    "\n",
    "* `MAE` ([Mean Absolute Error](https://scikit-learn.org/stable/modules/generated/sklearn.metrics.mean_absolute_error.html#sklearn.metrics.mean_absolute_error)): é a média do valor absoluto da diferença entre o valor predito e o valor real.\n",
    "\n",
    "$$MAE = \\frac{1}{n} \\sum_{i=1}^n |y_i - \\hat{y_i}| $$\n",
    "\n",
    "\n",
    "* `RMSE` (Root Mean Squared Error): é a raiz quadrada da média do quadrado da diferença entre o valor predito e o valor real - por elevar ao quadrado o erro, penaliza erros maiores.\n",
    "\n",
    "$$RMSE = \\sqrt{\\frac{1}{n} \\sum_{i=1}^n \\left(y_i - \\hat{y_i}\\right)^2} $$\n",
    "\n",
    "**Nota:** a biblioteca `scikit-learn` tem implementado o `MSE` ([Mean Squared Error](https://scikit-learn.org/stable/modules/generated/sklearn.metrics.mean_squared_error.html#sklearn.metrics.mean_squared_error)). A cálculo do `MSE` segue: $MSE = \\frac{1}{n} \\sum_{i=1}^n \\left(y_i - \\hat{y_i}\\right)^2$. Para calcular o `RMSE`, basta tirar a raiz quadrada desse valor.\n",
    "\n",
    "* `r2` ([R2 Score](https://scikit-learn.org/stable/modules/generated/sklearn.metrics.r2_score.html#sklearn.metrics.r2_score)): é uma medida que indica o quanto o modelo é melhor em relação a um modelo que faz a predição com base no valor médio do target. Seu valor é entre menos infinito ($-\\infty$) e 1.\n",
    "\n",
    "$$R^2 = 1 - \\frac{MSE}{Var(y)} = 1 - \\frac{\\frac{1}{n} \\sum_{i=1}^n \\left(y_i - \\hat{y_i}\\right)^2}{\\frac{1}{n} \\sum_{i=1}^n \\left(y_i - \\bar{y}\\right)^2}$$\n",
    "\n",
    "As fórmulas acima consideram:\n",
    "\n",
    "* $n$: o número de exemplos avaliados;\n",
    "* $y_i$: o valor real de `target` para o exemplo $i$;\n",
    "* $\\hat{y_i}$: o valor predito para o `target` para o exemplo $i$;\n",
    "* $\\bar{y}$: o valor médio dos valores reais de `target`."
   ]
  },
  {
   "cell_type": "markdown",
   "metadata": {},
   "source": [
    "**Tarefa**: Complete a implementação da função `rmse`.\n",
    "\n",
    "**Dica 1**: use a função `mean_squared_error` do `scikit-learn` que já está importada.\n",
    "\n",
    "**Dica 2**: a função da biblioteca `numpy` (aqui importada sob o apelido de `np`), [np.sqrt](https://numpy.org/doc/stable/reference/generated/numpy.sqrt.html) retorna a raiz quadrada do valor que lhe é passado como parâmetro.\n",
    "\n",
    "<!-- \n",
    "def rmse(y_true, y_pred):\n",
    "    return np.sqrt(mean_squared_error(y_true, y_pred))\n",
    "     -->"
   ]
  },
  {
   "cell_type": "code",
   "execution_count": null,
   "metadata": {},
   "outputs": [],
   "source": [
    "def rmse(y_true, y_pred):\n",
    "    ### \n",
    "    return ###"
   ]
  },
  {
   "cell_type": "markdown",
   "metadata": {},
   "source": [
    "**Tarefa**: Faça a predição do dataset de teste (`datasets[\"test\"][feature_cols]`) usando o `.predict` do modelo recém criado.\n",
    "\n",
    "<!-- \n",
    "y_pred = model.predict(datasets[\"test\"][feature_cols])\n",
    "     -->"
   ]
  },
  {
   "cell_type": "code",
   "execution_count": null,
   "metadata": {},
   "outputs": [],
   "source": [
    "y_true = datasets[\"test\"][\"target\"].values\n",
    "y_pred = ###"
   ]
  },
  {
   "cell_type": "markdown",
   "metadata": {},
   "source": [
    "* cálculo do MAE e RMSE para nosso modelo no dataset de teste"
   ]
  },
  {
   "cell_type": "code",
   "execution_count": null,
   "metadata": {},
   "outputs": [],
   "source": [
    "mean_absolute_error(y_true, y_pred)"
   ]
  },
  {
   "cell_type": "code",
   "execution_count": null,
   "metadata": {},
   "outputs": [],
   "source": [
    "rmse(y_true, y_pred)"
   ]
  },
  {
   "cell_type": "markdown",
   "metadata": {},
   "source": [
    "#### Quão bom é esse resultado?\n",
    "\n",
    "* cálculo do $R^2$\n",
    "\n",
    "* cálculo do RMSE para usando como valor predito o valor médio"
   ]
  },
  {
   "cell_type": "code",
   "execution_count": null,
   "metadata": {},
   "outputs": [],
   "source": [
    "r2_score(y_true, y_pred)"
   ]
  },
  {
   "cell_type": "markdown",
   "metadata": {},
   "source": [
    "**Valor médio do dataset de treino**\n",
    "\n",
    "Esse seria uma solução _naive_ (inocente) que sempre devolve a mesma predição de prazo, não importa quais sejam as informações do `customer` e `seller`."
   ]
  },
  {
   "cell_type": "code",
   "execution_count": null,
   "metadata": {},
   "outputs": [],
   "source": [
    "train_dataset_target_mean = datasets[\"train\"][\"target\"].mean()\n",
    "mean_pred = [train_dataset_target_mean] * len(y_true)"
   ]
  },
  {
   "cell_type": "code",
   "execution_count": null,
   "metadata": {},
   "outputs": [],
   "source": [
    "mean_absolute_error(y_true, mean_pred)"
   ]
  },
  {
   "cell_type": "code",
   "execution_count": null,
   "metadata": {},
   "outputs": [],
   "source": [
    "rmse(y_true, mean_pred)"
   ]
  },
  {
   "cell_type": "code",
   "execution_count": null,
   "metadata": {},
   "outputs": [],
   "source": [
    "def create_metrics_comparison_table(model, model_name, test_df, target_mean):\n",
    "    metrics_results = {\"model\": [], \"mae\": [], \"rmse\": [], \"r2\": []}\n",
    "    y_true = test_df[\"target\"].values\n",
    "    predictions = {\n",
    "        model_name: model.predict(test_df[feature_cols]),\n",
    "        \"naive\": [target_mean] * len(y_true)}\n",
    "    for name, y_pred in predictions.items():\n",
    "        metrics_results[\"model\"].append(name)\n",
    "        metrics_results[\"mae\"].append(mean_absolute_error(y_true, y_pred))\n",
    "        metrics_results[\"rmse\"].append(rmse(y_true, y_pred))\n",
    "        metrics_results[\"r2\"].append(r2_score(y_true, y_pred))\n",
    "    \n",
    "    return pd.DataFrame(metrics_results)    "
   ]
  },
  {
   "cell_type": "code",
   "execution_count": null,
   "metadata": {},
   "outputs": [],
   "source": [
    "create_metrics_comparison_table(model, \"linear_regression\", datasets[\"test\"], train_dataset_target_mean)"
   ]
  },
  {
   "cell_type": "markdown",
   "metadata": {},
   "source": [
    "### Resultados por estado de origem e destino"
   ]
  },
  {
   "cell_type": "code",
   "execution_count": null,
   "metadata": {},
   "outputs": [],
   "source": [
    "frequent_from_to = datasets[\"test\"][\"from_to\"].value_counts().head(n=5).index.tolist()"
   ]
  },
  {
   "cell_type": "code",
   "execution_count": null,
   "metadata": {},
   "outputs": [],
   "source": [
    "for from_to_states in frequent_from_to:\n",
    "    print(from_to_states)\n",
    "    aux_df = datasets[\"test\"][datasets[\"test\"][\"from_to\"] == from_to_states]\n",
    "    display(create_metrics_comparison_table(model, \"linear_regression\", aux_df))"
   ]
  },
  {
   "cell_type": "code",
   "execution_count": null,
   "metadata": {},
   "outputs": [],
   "source": []
  }
 ],
 "metadata": {
  "kernelspec": {
   "display_name": "Python 3 (pyenv)",
   "language": "python",
   "name": "pyenv3"
  },
  "language_info": {
   "codemirror_mode": {
    "name": "ipython",
    "version": 3
   },
   "file_extension": ".py",
   "mimetype": "text/x-python",
   "name": "python",
   "nbconvert_exporter": "python",
   "pygments_lexer": "ipython3",
   "version": "3.7.9"
  }
 },
 "nbformat": 4,
 "nbformat_minor": 4
}
