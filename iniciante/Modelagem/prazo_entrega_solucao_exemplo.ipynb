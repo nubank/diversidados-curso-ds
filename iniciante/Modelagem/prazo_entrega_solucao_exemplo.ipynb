{
 "cells": [
  {
   "cell_type": "markdown",
   "metadata": {},
   "source": [
    "# Exercício: predição de prazo de entrega\n",
    "\n",
    "**Objetivo:** predizer prazo de entrega usando a base de dados do arquivo `processed_olist_orders.csv`"
   ]
  },
  {
   "cell_type": "code",
   "execution_count": 47,
   "metadata": {},
   "outputs": [],
   "source": [
    "# ! pip install geopy matplotlib pandas scikit-learn seaborn"
   ]
  },
  {
   "cell_type": "code",
   "execution_count": 48,
   "metadata": {},
   "outputs": [],
   "source": [
    "from geopy.distance import distance\n",
    "import numpy as np\n",
    "import pandas as pd\n",
    "\n",
    "## bibliotecas para visualização de dados\n",
    "import matplotlib.pyplot as plt\n",
    "import seaborn as sns"
   ]
  },
  {
   "cell_type": "code",
   "execution_count": 49,
   "metadata": {},
   "outputs": [],
   "source": [
    "from sklearn.linear_model import LinearRegression\n",
    "from sklearn.metrics import mean_absolute_error, mean_squared_error, r2_score\n",
    "from sklearn.model_selection import train_test_split\n",
    "from sklearn.preprocessing import MinMaxScaler"
   ]
  },
  {
   "cell_type": "code",
   "execution_count": 50,
   "metadata": {},
   "outputs": [],
   "source": [
    "import warnings\n",
    "warnings.filterwarnings(\"ignore\")"
   ]
  },
  {
   "cell_type": "markdown",
   "metadata": {},
   "source": [
    "## Leitura dos dados"
   ]
  },
  {
   "cell_type": "code",
   "execution_count": 51,
   "metadata": {},
   "outputs": [],
   "source": [
    "orders_df = pd.read_csv(\"processed_olist_orders.csv\")"
   ]
  },
  {
   "cell_type": "code",
   "execution_count": 52,
   "metadata": {},
   "outputs": [
    {
     "data": {
      "text/html": [
       "<div>\n",
       "<style scoped>\n",
       "    .dataframe tbody tr th:only-of-type {\n",
       "        vertical-align: middle;\n",
       "    }\n",
       "\n",
       "    .dataframe tbody tr th {\n",
       "        vertical-align: top;\n",
       "    }\n",
       "\n",
       "    .dataframe thead th {\n",
       "        text-align: right;\n",
       "    }\n",
       "</style>\n",
       "<table border=\"1\" class=\"dataframe\">\n",
       "  <thead>\n",
       "    <tr style=\"text-align: right;\">\n",
       "      <th></th>\n",
       "      <th>order_id</th>\n",
       "      <th>order_status</th>\n",
       "      <th>order_purchase_timestamp</th>\n",
       "      <th>order_approved_at</th>\n",
       "      <th>order_delivered_carrier_date</th>\n",
       "      <th>order_delivered_customer_date</th>\n",
       "      <th>order_estimated_delivery_date</th>\n",
       "      <th>freight_value</th>\n",
       "      <th>customer_zip_code_prefix</th>\n",
       "      <th>customer_city</th>\n",
       "      <th>customer_state</th>\n",
       "      <th>seller_zip_code_prefix</th>\n",
       "      <th>seller_city</th>\n",
       "      <th>seller_state</th>\n",
       "      <th>customer_lat</th>\n",
       "      <th>customer_long</th>\n",
       "      <th>seller_lat</th>\n",
       "      <th>seller_long</th>\n",
       "    </tr>\n",
       "  </thead>\n",
       "  <tbody>\n",
       "    <tr>\n",
       "      <th>0</th>\n",
       "      <td>e481f51cbdc54678b7cc49136f2d6af7</td>\n",
       "      <td>delivered</td>\n",
       "      <td>2017-10-02 10:56:33</td>\n",
       "      <td>2017-10-02 11:07:15</td>\n",
       "      <td>2017-10-04 19:55:00</td>\n",
       "      <td>2017-10-10 21:25:13</td>\n",
       "      <td>2017-10-18 00:00:00</td>\n",
       "      <td>8.72</td>\n",
       "      <td>3149</td>\n",
       "      <td>sao paulo</td>\n",
       "      <td>SP</td>\n",
       "      <td>9350</td>\n",
       "      <td>maua</td>\n",
       "      <td>SP</td>\n",
       "      <td>-23.583452</td>\n",
       "      <td>-46.586284</td>\n",
       "      <td>-23.675542</td>\n",
       "      <td>-46.442547</td>\n",
       "    </tr>\n",
       "    <tr>\n",
       "      <th>1</th>\n",
       "      <td>8736140c61ea584cb4250074756d8f3b</td>\n",
       "      <td>delivered</td>\n",
       "      <td>2017-08-10 13:35:55</td>\n",
       "      <td>2017-08-10 13:50:09</td>\n",
       "      <td>2017-08-11 13:52:35</td>\n",
       "      <td>2017-08-16 19:03:36</td>\n",
       "      <td>2017-08-23 00:00:00</td>\n",
       "      <td>7.79</td>\n",
       "      <td>8577</td>\n",
       "      <td>itaquaquecetuba</td>\n",
       "      <td>SP</td>\n",
       "      <td>9350</td>\n",
       "      <td>maua</td>\n",
       "      <td>SP</td>\n",
       "      <td>-23.494316</td>\n",
       "      <td>-46.364539</td>\n",
       "      <td>-23.675542</td>\n",
       "      <td>-46.442547</td>\n",
       "    </tr>\n",
       "    <tr>\n",
       "      <th>2</th>\n",
       "      <td>a0151737f2f0c6c0a5fd69d45f66ceea</td>\n",
       "      <td>delivered</td>\n",
       "      <td>2017-07-12 14:11:58</td>\n",
       "      <td>2017-07-12 14:30:18</td>\n",
       "      <td>2017-07-13 12:47:05</td>\n",
       "      <td>2017-07-18 16:24:42</td>\n",
       "      <td>2017-07-25 00:00:00</td>\n",
       "      <td>7.78</td>\n",
       "      <td>13820</td>\n",
       "      <td>jaguariuna</td>\n",
       "      <td>SP</td>\n",
       "      <td>9350</td>\n",
       "      <td>maua</td>\n",
       "      <td>SP</td>\n",
       "      <td>-22.694569</td>\n",
       "      <td>-46.985195</td>\n",
       "      <td>-23.675542</td>\n",
       "      <td>-46.442547</td>\n",
       "    </tr>\n",
       "    <tr>\n",
       "      <th>3</th>\n",
       "      <td>a3bf941183211246f0d42ad757cba127</td>\n",
       "      <td>delivered</td>\n",
       "      <td>2017-07-24 22:16:25</td>\n",
       "      <td>2017-07-25 22:25:11</td>\n",
       "      <td>2017-07-26 14:57:42</td>\n",
       "      <td>2017-07-28 19:06:46</td>\n",
       "      <td>2017-08-04 00:00:00</td>\n",
       "      <td>7.78</td>\n",
       "      <td>6298</td>\n",
       "      <td>osasco</td>\n",
       "      <td>SP</td>\n",
       "      <td>9350</td>\n",
       "      <td>maua</td>\n",
       "      <td>SP</td>\n",
       "      <td>-23.522863</td>\n",
       "      <td>-46.755315</td>\n",
       "      <td>-23.675542</td>\n",
       "      <td>-46.442547</td>\n",
       "    </tr>\n",
       "    <tr>\n",
       "      <th>4</th>\n",
       "      <td>1462290799412b71be32dd880eaf4e1b</td>\n",
       "      <td>delivered</td>\n",
       "      <td>2017-08-19 14:06:58</td>\n",
       "      <td>2017-08-22 04:10:55</td>\n",
       "      <td>2017-08-23 13:54:29</td>\n",
       "      <td>2017-08-29 19:35:06</td>\n",
       "      <td>2017-09-15 00:00:00</td>\n",
       "      <td>14.10</td>\n",
       "      <td>94130</td>\n",
       "      <td>gravatai</td>\n",
       "      <td>RS</td>\n",
       "      <td>9350</td>\n",
       "      <td>maua</td>\n",
       "      <td>SP</td>\n",
       "      <td>-29.922398</td>\n",
       "      <td>-51.038493</td>\n",
       "      <td>-23.675542</td>\n",
       "      <td>-46.442547</td>\n",
       "    </tr>\n",
       "  </tbody>\n",
       "</table>\n",
       "</div>"
      ],
      "text/plain": [
       "                           order_id order_status order_purchase_timestamp  \\\n",
       "0  e481f51cbdc54678b7cc49136f2d6af7    delivered      2017-10-02 10:56:33   \n",
       "1  8736140c61ea584cb4250074756d8f3b    delivered      2017-08-10 13:35:55   \n",
       "2  a0151737f2f0c6c0a5fd69d45f66ceea    delivered      2017-07-12 14:11:58   \n",
       "3  a3bf941183211246f0d42ad757cba127    delivered      2017-07-24 22:16:25   \n",
       "4  1462290799412b71be32dd880eaf4e1b    delivered      2017-08-19 14:06:58   \n",
       "\n",
       "     order_approved_at order_delivered_carrier_date  \\\n",
       "0  2017-10-02 11:07:15          2017-10-04 19:55:00   \n",
       "1  2017-08-10 13:50:09          2017-08-11 13:52:35   \n",
       "2  2017-07-12 14:30:18          2017-07-13 12:47:05   \n",
       "3  2017-07-25 22:25:11          2017-07-26 14:57:42   \n",
       "4  2017-08-22 04:10:55          2017-08-23 13:54:29   \n",
       "\n",
       "  order_delivered_customer_date order_estimated_delivery_date  freight_value  \\\n",
       "0           2017-10-10 21:25:13           2017-10-18 00:00:00           8.72   \n",
       "1           2017-08-16 19:03:36           2017-08-23 00:00:00           7.79   \n",
       "2           2017-07-18 16:24:42           2017-07-25 00:00:00           7.78   \n",
       "3           2017-07-28 19:06:46           2017-08-04 00:00:00           7.78   \n",
       "4           2017-08-29 19:35:06           2017-09-15 00:00:00          14.10   \n",
       "\n",
       "   customer_zip_code_prefix    customer_city customer_state  \\\n",
       "0                      3149        sao paulo             SP   \n",
       "1                      8577  itaquaquecetuba             SP   \n",
       "2                     13820       jaguariuna             SP   \n",
       "3                      6298           osasco             SP   \n",
       "4                     94130         gravatai             RS   \n",
       "\n",
       "   seller_zip_code_prefix seller_city seller_state  customer_lat  \\\n",
       "0                    9350        maua           SP    -23.583452   \n",
       "1                    9350        maua           SP    -23.494316   \n",
       "2                    9350        maua           SP    -22.694569   \n",
       "3                    9350        maua           SP    -23.522863   \n",
       "4                    9350        maua           SP    -29.922398   \n",
       "\n",
       "   customer_long  seller_lat  seller_long  \n",
       "0     -46.586284  -23.675542   -46.442547  \n",
       "1     -46.364539  -23.675542   -46.442547  \n",
       "2     -46.985195  -23.675542   -46.442547  \n",
       "3     -46.755315  -23.675542   -46.442547  \n",
       "4     -51.038493  -23.675542   -46.442547  "
      ]
     },
     "execution_count": 52,
     "metadata": {},
     "output_type": "execute_result"
    }
   ],
   "source": [
    "orders_df.head()"
   ]
  },
  {
   "cell_type": "markdown",
   "metadata": {},
   "source": [
    "## Inspeção de algumas colunas"
   ]
  },
  {
   "cell_type": "markdown",
   "metadata": {},
   "source": [
    "#### `order_status`: status do pedido"
   ]
  },
  {
   "cell_type": "code",
   "execution_count": 53,
   "metadata": {},
   "outputs": [
    {
     "data": {
      "text/html": [
       "<div>\n",
       "<style scoped>\n",
       "    .dataframe tbody tr th:only-of-type {\n",
       "        vertical-align: middle;\n",
       "    }\n",
       "\n",
       "    .dataframe tbody tr th {\n",
       "        vertical-align: top;\n",
       "    }\n",
       "\n",
       "    .dataframe thead th {\n",
       "        text-align: right;\n",
       "    }\n",
       "</style>\n",
       "<table border=\"1\" class=\"dataframe\">\n",
       "  <thead>\n",
       "    <tr style=\"text-align: right;\">\n",
       "      <th></th>\n",
       "      <th>order_status</th>\n",
       "      <th>count</th>\n",
       "    </tr>\n",
       "  </thead>\n",
       "  <tbody>\n",
       "    <tr>\n",
       "      <th>0</th>\n",
       "      <td>delivered</td>\n",
       "      <td>86843</td>\n",
       "    </tr>\n",
       "    <tr>\n",
       "      <th>1</th>\n",
       "      <td>shipped</td>\n",
       "      <td>1044</td>\n",
       "    </tr>\n",
       "    <tr>\n",
       "      <th>2</th>\n",
       "      <td>canceled</td>\n",
       "      <td>420</td>\n",
       "    </tr>\n",
       "    <tr>\n",
       "      <th>3</th>\n",
       "      <td>invoiced</td>\n",
       "      <td>282</td>\n",
       "    </tr>\n",
       "    <tr>\n",
       "      <th>4</th>\n",
       "      <td>processing</td>\n",
       "      <td>268</td>\n",
       "    </tr>\n",
       "    <tr>\n",
       "      <th>5</th>\n",
       "      <td>unavailable</td>\n",
       "      <td>5</td>\n",
       "    </tr>\n",
       "    <tr>\n",
       "      <th>6</th>\n",
       "      <td>approved</td>\n",
       "      <td>1</td>\n",
       "    </tr>\n",
       "  </tbody>\n",
       "</table>\n",
       "</div>"
      ],
      "text/plain": [
       "  order_status  count\n",
       "0    delivered  86843\n",
       "1      shipped   1044\n",
       "2     canceled    420\n",
       "3     invoiced    282\n",
       "4   processing    268\n",
       "5  unavailable      5\n",
       "6     approved      1"
      ]
     },
     "execution_count": 53,
     "metadata": {},
     "output_type": "execute_result"
    }
   ],
   "source": [
    "orders_df[\"order_status\"].value_counts().reset_index().rename(columns={\"index\": \"order_status\", \"order_status\": \"count\"})"
   ]
  },
  {
   "cell_type": "markdown",
   "metadata": {},
   "source": [
    "### Dados por estado do `customer` e `seller`"
   ]
  },
  {
   "cell_type": "code",
   "execution_count": 54,
   "metadata": {},
   "outputs": [],
   "source": [
    "states_count = orders_df[\"customer_state\"].value_counts().reset_index().rename(columns={\"index\": \"state\", \"customer_state\": \"customer\"}) \\\n",
    "    .merge(orders_df[\"seller_state\"].value_counts().reset_index().rename(columns={\"index\": \"state\", \"seller_state\": \"seller\"}),\n",
    "           on=\"state\", how=\"left\").fillna(0)\n",
    "states_count_melted = pd.melt(states_count, id_vars=\"state\", var_name=\"user_type\", value_name=\"count\")"
   ]
  },
  {
   "cell_type": "code",
   "execution_count": 55,
   "metadata": {},
   "outputs": [
    {
     "data": {
      "image/png": "[encoded data removed]",
      "text/plain": [
       "<Figure size 1200x480 with 1 Axes>"
      ]
     },
     "metadata": {
      "needs_background": "light"
     },
     "output_type": "display_data"
    }
   ],
   "source": [
    "fig = plt.figure(figsize=(10, 4), dpi=120)\n",
    "ax = fig.add_subplot(111)\n",
    "sns.barplot(x=\"state\", y=\"count\", hue=\"user_type\", data=states_count_melted, palette=\"rainbow\", ax=ax)\n",
    "sns.despine()"
   ]
  },
  {
   "cell_type": "markdown",
   "metadata": {},
   "source": [
    "### Distribuição de `freight_value`: valor do frete"
   ]
  },
  {
   "cell_type": "code",
   "execution_count": 56,
   "metadata": {},
   "outputs": [
    {
     "data": {
      "text/html": [
       "<div>\n",
       "<style scoped>\n",
       "    .dataframe tbody tr th:only-of-type {\n",
       "        vertical-align: middle;\n",
       "    }\n",
       "\n",
       "    .dataframe tbody tr th {\n",
       "        vertical-align: top;\n",
       "    }\n",
       "\n",
       "    .dataframe thead th {\n",
       "        text-align: right;\n",
       "    }\n",
       "</style>\n",
       "<table border=\"1\" class=\"dataframe\">\n",
       "  <thead>\n",
       "    <tr style=\"text-align: right;\">\n",
       "      <th></th>\n",
       "      <th>freight_value</th>\n",
       "    </tr>\n",
       "  </thead>\n",
       "  <tbody>\n",
       "    <tr>\n",
       "      <th>count</th>\n",
       "      <td>88863.000000</td>\n",
       "    </tr>\n",
       "    <tr>\n",
       "      <th>mean</th>\n",
       "      <td>20.368021</td>\n",
       "    </tr>\n",
       "    <tr>\n",
       "      <th>std</th>\n",
       "      <td>16.020564</td>\n",
       "    </tr>\n",
       "    <tr>\n",
       "      <th>min</th>\n",
       "      <td>0.000000</td>\n",
       "    </tr>\n",
       "    <tr>\n",
       "      <th>25%</th>\n",
       "      <td>13.430000</td>\n",
       "    </tr>\n",
       "    <tr>\n",
       "      <th>50%</th>\n",
       "      <td>16.460000</td>\n",
       "    </tr>\n",
       "    <tr>\n",
       "      <th>75%</th>\n",
       "      <td>21.350000</td>\n",
       "    </tr>\n",
       "    <tr>\n",
       "      <th>max</th>\n",
       "      <td>409.680000</td>\n",
       "    </tr>\n",
       "  </tbody>\n",
       "</table>\n",
       "</div>"
      ],
      "text/plain": [
       "       freight_value\n",
       "count   88863.000000\n",
       "mean       20.368021\n",
       "std        16.020564\n",
       "min         0.000000\n",
       "25%        13.430000\n",
       "50%        16.460000\n",
       "75%        21.350000\n",
       "max       409.680000"
      ]
     },
     "execution_count": 56,
     "metadata": {},
     "output_type": "execute_result"
    }
   ],
   "source": [
    "orders_df[[\"freight_value\"]].describe()"
   ]
  },
  {
   "cell_type": "code",
   "execution_count": 57,
   "metadata": {},
   "outputs": [
    {
     "data": {
      "image/png": "[encoded data removed]",
      "text/plain": [
       "<Figure size 1440x480 with 1 Axes>"
      ]
     },
     "metadata": {
      "needs_background": "light"
     },
     "output_type": "display_data"
    }
   ],
   "source": [
    "fig = plt.figure(figsize=(12, 4), dpi=120)\n",
    "ax = fig.add_subplot(111)\n",
    "sns.boxplot(x=\"freight_value\", data=orders_df, palette=\"rainbow\", ax=ax)\n",
    "sns.despine()"
   ]
  },
  {
   "cell_type": "code",
   "execution_count": 58,
   "metadata": {},
   "outputs": [
    {
     "data": {
      "image/png": "[encoded data removed]",
      "text/plain": [
       "<Figure size 1200x480 with 1 Axes>"
      ]
     },
     "metadata": {
      "needs_background": "light"
     },
     "output_type": "display_data"
    }
   ],
   "source": [
    "fig = plt.figure(figsize=(10, 4), dpi=120)\n",
    "ax = fig.add_subplot(111)\n",
    "sns.histplot(x=\"freight_value\", data=orders_df, palette=\"rainbow\", ax=ax)\n",
    "sns.despine()"
   ]
  },
  {
   "cell_type": "markdown",
   "metadata": {},
   "source": [
    "### Apenas dados com status `delivered` devem ser mantidos no dataset"
   ]
  },
  {
   "cell_type": "code",
   "execution_count": 59,
   "metadata": {},
   "outputs": [],
   "source": [
    "orders_df = orders_df[orders_df[\"order_status\"] == \"delivered\"]"
   ]
  },
  {
   "cell_type": "markdown",
   "metadata": {},
   "source": [
    "## Criação de features\n",
    "\n",
    "* same_city: se `customer_city` é igual a `seller_city`\n",
    "* same_state: se `customer_state` é igual a `seller_state`\n",
    "* zip_code_prefix_match: número de prefixos iguais entre `customer_zip_code_prefix` e `seller_zip_code_prefix` (ex. `012345` e `01355` têm `zip_code_prefix_match` = 2)\n",
    "* geo_distance: distância calculada a partir da latitude e longitude entre `customer` e `seller`\n",
    "* from_to: combinação de `seller_state` e `customer_state` (ex. se `seller_state` é `SP` e `customer_state` é `RJ`, então, `from_to` = `SP->RJ`)\n",
    "\n",
    "<!-- **Extra**: para fazer one-hot encoding dos dígitos do CEP:\n",
    "```python\n",
    "zip_code_prefix_cols = []\n",
    "for colname in [\"customer_zip_code_prefix\", \"seller_zip_code_prefix\"]:\n",
    "    new_cols = [f\"{colname}_{num}\" for num in range(1, 6)]\n",
    "    zip_code_digits = pd.DataFrame(orders_df[colname].astype(str).str.zfill(5).apply(list).tolist(), columns=new_cols)\n",
    "    orders_df = orders_df.merge(zip_code_digits, left_index=True, right_index=True)\n",
    "    zip_code_prefix_cols += new_cols\n",
    "``` -->"
   ]
  },
  {
   "cell_type": "code",
   "execution_count": 61,
   "metadata": {},
   "outputs": [],
   "source": [
    "orders_df[\"same_city\"] = (orders_df[\"customer_city\"] == orders_df[\"seller_city\"]).astype(int)\n",
    "orders_df[\"same_state\"] = (orders_df[\"customer_state\"] == orders_df[\"seller_state\"]).astype(int)"
   ]
  },
  {
   "cell_type": "code",
   "execution_count": 62,
   "metadata": {},
   "outputs": [],
   "source": [
    "orders_df[\"from_to\"] = orders_df[\"customer_state\"] + \"->\" + orders_df[\"seller_state\"]"
   ]
  },
  {
   "cell_type": "code",
   "execution_count": 63,
   "metadata": {},
   "outputs": [],
   "source": [
    "for colname in [\"customer_zip_code_prefix\", \"seller_zip_code_prefix\"]:\n",
    "    orders_df[f\"{colname}_list\"] = orders_df[colname].astype(str).str.zfill(5).apply(list)\n",
    "\n",
    "def calc_prefix_match(row):\n",
    "    customer_prefix_list = row[\"customer_zip_code_prefix_list\"]\n",
    "    seller_prefix_list = row[\"seller_zip_code_prefix_list\"]\n",
    "    num_matches = 0\n",
    "    for i in range(5):\n",
    "        if customer_prefix_list[i] != seller_prefix_list[i]:\n",
    "            break\n",
    "        num_matches += 1\n",
    "    return num_matches\n",
    "    \n",
    "orders_df[\"zip_code_prefix_match\"] = orders_df.apply(calc_prefix_match, 1)"
   ]
  },
  {
   "cell_type": "code",
   "execution_count": 64,
   "metadata": {},
   "outputs": [],
   "source": [
    "def calc_distance(row):\n",
    "    customer_lat_long = (row[\"customer_lat\"], row[\"customer_long\"])\n",
    "    seller_lat_long = (row[\"seller_lat\"], row[\"seller_long\"])\n",
    "    return distance(customer_lat_long, seller_lat_long).km"
   ]
  },
  {
   "cell_type": "code",
   "execution_count": 65,
   "metadata": {},
   "outputs": [],
   "source": [
    "orders_df[\"geo_distance\"] = orders_df.apply(calc_distance, 1)"
   ]
  },
  {
   "cell_type": "markdown",
   "metadata": {},
   "source": [
    "## Formato da coluna target\n",
    "\n",
    "A coluna `target` é o prazo de entrega. Para calculá-lo, vamos considerar a quantidade de dias entre a postagem (`order_delivered_carrier_date`) e o recebimento (`order_delivered_customer_date`) pelo `customer`."
   ]
  },
  {
   "cell_type": "code",
   "execution_count": 66,
   "metadata": {},
   "outputs": [],
   "source": [
    "def calc_diff_dates(row):\n",
    "    carrier_date = row[\"order_delivered_carrier_date_timestamp\"]\n",
    "    customer_date = row[\"order_delivered_customer_date_timestamp\"]\n",
    "    return (customer_date - carrier_date).days"
   ]
  },
  {
   "cell_type": "code",
   "execution_count": 67,
   "metadata": {},
   "outputs": [],
   "source": [
    "orders_df[\"order_delivered_carrier_date_timestamp\"] = pd.to_datetime(pd.to_datetime(orders_df[\"order_delivered_carrier_date\"]).dt.strftime(\"%Y-%m-%d\"))\n",
    "orders_df[\"order_delivered_customer_date_timestamp\"] = pd.to_datetime(pd.to_datetime(orders_df[\"order_delivered_customer_date\"]).dt.strftime(\"%Y-%m-%d\"))"
   ]
  },
  {
   "cell_type": "code",
   "execution_count": 68,
   "metadata": {},
   "outputs": [],
   "source": [
    "orders_df[\"target\"] = orders_df.apply(calc_diff_dates, 1)"
   ]
  },
  {
   "cell_type": "markdown",
   "metadata": {},
   "source": [
    "### O que seria um target estranho?\n",
    "\n",
    "* valor negativo: entregou antes de postar\n",
    "\n",
    "* zero: embora não seja impossível, não parece plausível"
   ]
  },
  {
   "cell_type": "code",
   "execution_count": 69,
   "metadata": {},
   "outputs": [
    {
     "data": {
      "text/html": [
       "<div>\n",
       "<style scoped>\n",
       "    .dataframe tbody tr th:only-of-type {\n",
       "        vertical-align: middle;\n",
       "    }\n",
       "\n",
       "    .dataframe tbody tr th {\n",
       "        vertical-align: top;\n",
       "    }\n",
       "\n",
       "    .dataframe thead th {\n",
       "        text-align: right;\n",
       "    }\n",
       "</style>\n",
       "<table border=\"1\" class=\"dataframe\">\n",
       "  <thead>\n",
       "    <tr style=\"text-align: right;\">\n",
       "      <th></th>\n",
       "      <th>target</th>\n",
       "    </tr>\n",
       "  </thead>\n",
       "  <tbody>\n",
       "    <tr>\n",
       "      <th>count</th>\n",
       "      <td>83219.000000</td>\n",
       "    </tr>\n",
       "    <tr>\n",
       "      <th>mean</th>\n",
       "      <td>9.436235</td>\n",
       "    </tr>\n",
       "    <tr>\n",
       "      <th>std</th>\n",
       "      <td>8.816689</td>\n",
       "    </tr>\n",
       "    <tr>\n",
       "      <th>min</th>\n",
       "      <td>-6.000000</td>\n",
       "    </tr>\n",
       "    <tr>\n",
       "      <th>25%</th>\n",
       "      <td>4.000000</td>\n",
       "    </tr>\n",
       "    <tr>\n",
       "      <th>50%</th>\n",
       "      <td>7.000000</td>\n",
       "    </tr>\n",
       "    <tr>\n",
       "      <th>75%</th>\n",
       "      <td>12.000000</td>\n",
       "    </tr>\n",
       "    <tr>\n",
       "      <th>max</th>\n",
       "      <td>205.000000</td>\n",
       "    </tr>\n",
       "  </tbody>\n",
       "</table>\n",
       "</div>"
      ],
      "text/plain": [
       "             target\n",
       "count  83219.000000\n",
       "mean       9.436235\n",
       "std        8.816689\n",
       "min       -6.000000\n",
       "25%        4.000000\n",
       "50%        7.000000\n",
       "75%       12.000000\n",
       "max      205.000000"
      ]
     },
     "execution_count": 69,
     "metadata": {},
     "output_type": "execute_result"
    }
   ],
   "source": [
    "orders_df[[\"target\"]].describe()"
   ]
  },
  {
   "cell_type": "code",
   "execution_count": 70,
   "metadata": {},
   "outputs": [
    {
     "data": {
      "image/png": "[encoded data removed]",
      "text/plain": [
       "<Figure size 1440x480 with 1 Axes>"
      ]
     },
     "metadata": {
      "needs_background": "light"
     },
     "output_type": "display_data"
    }
   ],
   "source": [
    "fig = plt.figure(figsize=(12, 4), dpi=120)\n",
    "ax = fig.add_subplot(111)\n",
    "sns.boxplot(x=\"target\", data=orders_df, palette=\"rainbow\", ax=ax)\n",
    "sns.despine()"
   ]
  },
  {
   "cell_type": "code",
   "execution_count": 71,
   "metadata": {},
   "outputs": [
    {
     "data": {
      "text/plain": [
       "256"
      ]
     },
     "execution_count": 71,
     "metadata": {},
     "output_type": "execute_result"
    }
   ],
   "source": [
    "len(orders_df[orders_df[\"target\"] <= 0])"
   ]
  },
  {
   "cell_type": "markdown",
   "metadata": {},
   "source": [
    "* vamos remover esses valores do dataset"
   ]
  },
  {
   "cell_type": "code",
   "execution_count": 81,
   "metadata": {},
   "outputs": [],
   "source": [
    "orders_df = orders_df[orders_df[\"target\"] > 0]"
   ]
  },
  {
   "cell_type": "markdown",
   "metadata": {},
   "source": [
    "## Preparação dos dados"
   ]
  },
  {
   "cell_type": "code",
   "execution_count": 82,
   "metadata": {},
   "outputs": [],
   "source": [
    "full_dataset = orders_df.sort_values(by=\"order_delivered_customer_date\")"
   ]
  },
  {
   "cell_type": "markdown",
   "metadata": {},
   "source": [
    "### Divisão do dataset em treino e teste\n",
    "Usando [`train_test_split`](https://scikit-learn.org/stable/modules/generated/sklearn.model_selection.train_test_split.html) da biblioteca sklearn.\n",
    "Fazemos a divisão no tempo, deixando 20% para nossa base de teste."
   ]
  },
  {
   "cell_type": "code",
   "execution_count": 103,
   "metadata": {},
   "outputs": [],
   "source": [
    "datasets = {}"
   ]
  },
  {
   "cell_type": "code",
   "execution_count": 104,
   "metadata": {
    "ExecuteTime": {
     "end_time": "2020-10-21T00:14:16.273933Z",
     "start_time": "2020-10-21T00:14:16.267559Z"
    }
   },
   "outputs": [],
   "source": [
    "datasets[\"train\"], datasets[\"test\"] = train_test_split(full_dataset, test_size=.2, random_state=0, shuffle=False)"
   ]
  },
  {
   "cell_type": "markdown",
   "metadata": {},
   "source": [
    "### Processamento de features\n",
    "\n",
    "Features categóricas: média do prazo de entrega (`target`) no dataset de treino\n",
    "* `from_to`\n",
    "* `customer_city`\n",
    "\n",
    "Features binárias: sem tratamento\n",
    "* `same_city`\n",
    "* `same_state`\n",
    "\n",
    "Features numéricas: normalização de valores usando o [MinMaxScaler](https://scikit-learn.org/stable/modules/generated/sklearn.preprocessing.MinMaxScaler.html)\n",
    "* `zip_code_prefix_match`\n",
    "* `customer_lat`\n",
    "* `customer_long`\n",
    "* `seller_lat`\n",
    "* `seller_long`\n",
    "* `geo_distance`"
   ]
  },
  {
   "cell_type": "code",
   "execution_count": 105,
   "metadata": {},
   "outputs": [],
   "source": [
    "features = {\n",
    "    \"categorical\": [\"from_to\", \"customer_city\"],\n",
    "    \"binary\": [\"same_city\", \"same_state\"],\n",
    "    \"numerical\": [\"zip_code_prefix_match\", \"customer_lat\",\n",
    "                 \"customer_long\", \"seller_lat\", \"seller_long\", \"geo_distance\"]\n",
    "}"
   ]
  },
  {
   "cell_type": "code",
   "execution_count": 106,
   "metadata": {},
   "outputs": [],
   "source": [
    "def process_numerical_feature(df, colname, scaler):\n",
    "    df[f\"{colname}_scaled\"] = scaler.transform(df[[colname]]).reshape(-1)\n",
    "    return df.drop(colname, 1)\n",
    "\n",
    "def scale_numerical_cols(df, cols, scalers):\n",
    "    for colname in cols:\n",
    "        df = process_numerical_feature(df, colname, scalers[colname])\n",
    "    return df"
   ]
  },
  {
   "cell_type": "code",
   "execution_count": 107,
   "metadata": {},
   "outputs": [],
   "source": [
    "def create_avg_categorical_cols(df, cols, all_categories):\n",
    "    for colname in cols:\n",
    "        from_to_values, mean_val = all_categories[colname]\n",
    "        df[f\"{colname}_avg\"] = df[colname].apply(lambda val: from_to_values.get(val, mean_val))\n",
    "    return df"
   ]
  },
  {
   "cell_type": "code",
   "execution_count": 108,
   "metadata": {},
   "outputs": [],
   "source": [
    "for dataset_type in [\"train\", \"test\"]:\n",
    "    df = datasets[dataset_type]\n",
    "    if dataset_type == \"train\":\n",
    "        all_categories = {\n",
    "            col: (df.groupby(col).agg({\"target\": \"mean\"})[\"target\"].to_dict(), df[\"target\"].mean()) for col in features[\"categorical\"]\n",
    "        }\n",
    "        scalers = {\n",
    "            col: MinMaxScaler().fit(df[[col]]) for col in features[\"numerical\"]\n",
    "        }\n",
    "    df = create_avg_categorical_cols(df, features[\"categorical\"], all_categories)\n",
    "    datasets[dataset_type] = scale_numerical_cols(df, features[\"numerical\"], scalers)"
   ]
  },
  {
   "cell_type": "markdown",
   "metadata": {},
   "source": [
    "#### Informações do dataset de treino"
   ]
  },
  {
   "cell_type": "code",
   "execution_count": 109,
   "metadata": {},
   "outputs": [],
   "source": [
    "feature_cols = features[\"binary\"] + [f\"{col}_avg\" for col in features[\"categorical\"]] + [f\"{col}_scaled\" for col in features[\"numerical\"]]"
   ]
  },
  {
   "cell_type": "code",
   "execution_count": 110,
   "metadata": {},
   "outputs": [
    {
     "data": {
      "text/html": [
       "<div>\n",
       "<style scoped>\n",
       "    .dataframe tbody tr th:only-of-type {\n",
       "        vertical-align: middle;\n",
       "    }\n",
       "\n",
       "    .dataframe tbody tr th {\n",
       "        vertical-align: top;\n",
       "    }\n",
       "\n",
       "    .dataframe thead th {\n",
       "        text-align: right;\n",
       "    }\n",
       "</style>\n",
       "<table border=\"1\" class=\"dataframe\">\n",
       "  <thead>\n",
       "    <tr style=\"text-align: right;\">\n",
       "      <th></th>\n",
       "      <th>same_city</th>\n",
       "      <th>same_state</th>\n",
       "      <th>from_to_avg</th>\n",
       "      <th>customer_city_avg</th>\n",
       "      <th>zip_code_prefix_match_scaled</th>\n",
       "      <th>customer_lat_scaled</th>\n",
       "      <th>customer_long_scaled</th>\n",
       "      <th>seller_lat_scaled</th>\n",
       "      <th>seller_long_scaled</th>\n",
       "      <th>geo_distance_scaled</th>\n",
       "    </tr>\n",
       "  </thead>\n",
       "  <tbody>\n",
       "    <tr>\n",
       "      <th>count</th>\n",
       "      <td>66370.000000</td>\n",
       "      <td>66370.000000</td>\n",
       "      <td>66370.000000</td>\n",
       "      <td>66370.000000</td>\n",
       "      <td>66370.000000</td>\n",
       "      <td>66370.000000</td>\n",
       "      <td>66370.000000</td>\n",
       "      <td>66370.000000</td>\n",
       "      <td>66370.000000</td>\n",
       "      <td>66370.000000</td>\n",
       "    </tr>\n",
       "    <tr>\n",
       "      <th>mean</th>\n",
       "      <td>0.047973</td>\n",
       "      <td>0.350550</td>\n",
       "      <td>10.125674</td>\n",
       "      <td>10.125674</td>\n",
       "      <td>0.048658</td>\n",
       "      <td>0.165850</td>\n",
       "      <td>0.366148</td>\n",
       "      <td>0.290551</td>\n",
       "      <td>0.262423</td>\n",
       "      <td>0.077185</td>\n",
       "    </tr>\n",
       "    <tr>\n",
       "      <th>std</th>\n",
       "      <td>0.213712</td>\n",
       "      <td>0.477146</td>\n",
       "      <td>4.591927</td>\n",
       "      <td>4.784785</td>\n",
       "      <td>0.103781</td>\n",
       "      <td>0.075990</td>\n",
       "      <td>0.065489</td>\n",
       "      <td>0.086500</td>\n",
       "      <td>0.050569</td>\n",
       "      <td>0.084361</td>\n",
       "    </tr>\n",
       "    <tr>\n",
       "      <th>min</th>\n",
       "      <td>0.000000</td>\n",
       "      <td>0.000000</td>\n",
       "      <td>1.000000</td>\n",
       "      <td>1.000000</td>\n",
       "      <td>0.000000</td>\n",
       "      <td>0.000000</td>\n",
       "      <td>0.000000</td>\n",
       "      <td>0.000000</td>\n",
       "      <td>0.000000</td>\n",
       "      <td>0.000000</td>\n",
       "    </tr>\n",
       "    <tr>\n",
       "      <th>25%</th>\n",
       "      <td>0.000000</td>\n",
       "      <td>0.000000</td>\n",
       "      <td>5.257009</td>\n",
       "      <td>5.632479</td>\n",
       "      <td>0.000000</td>\n",
       "      <td>0.133183</td>\n",
       "      <td>0.336681</td>\n",
       "      <td>0.264286</td>\n",
       "      <td>0.238518</td>\n",
       "      <td>0.025170</td>\n",
       "    </tr>\n",
       "    <tr>\n",
       "      <th>50%</th>\n",
       "      <td>0.000000</td>\n",
       "      <td>0.000000</td>\n",
       "      <td>9.789874</td>\n",
       "      <td>9.111111</td>\n",
       "      <td>0.000000</td>\n",
       "      <td>0.142048</td>\n",
       "      <td>0.358336</td>\n",
       "      <td>0.270521</td>\n",
       "      <td>0.268340</td>\n",
       "      <td>0.054122</td>\n",
       "    </tr>\n",
       "    <tr>\n",
       "      <th>75%</th>\n",
       "      <td>0.000000</td>\n",
       "      <td>1.000000</td>\n",
       "      <td>13.876876</td>\n",
       "      <td>12.636842</td>\n",
       "      <td>0.000000</td>\n",
       "      <td>0.180213</td>\n",
       "      <td>0.400502</td>\n",
       "      <td>0.322188</td>\n",
       "      <td>0.271921</td>\n",
       "      <td>0.098882</td>\n",
       "    </tr>\n",
       "    <tr>\n",
       "      <th>max</th>\n",
       "      <td>1.000000</td>\n",
       "      <td>1.000000</td>\n",
       "      <td>138.000000</td>\n",
       "      <td>93.000000</td>\n",
       "      <td>1.000000</td>\n",
       "      <td>1.000000</td>\n",
       "      <td>1.000000</td>\n",
       "      <td>1.000000</td>\n",
       "      <td>1.000000</td>\n",
       "      <td>1.000000</td>\n",
       "    </tr>\n",
       "  </tbody>\n",
       "</table>\n",
       "</div>"
      ],
      "text/plain": [
       "          same_city    same_state   from_to_avg  customer_city_avg  \\\n",
       "count  66370.000000  66370.000000  66370.000000       66370.000000   \n",
       "mean       0.047973      0.350550     10.125674          10.125674   \n",
       "std        0.213712      0.477146      4.591927           4.784785   \n",
       "min        0.000000      0.000000      1.000000           1.000000   \n",
       "25%        0.000000      0.000000      5.257009           5.632479   \n",
       "50%        0.000000      0.000000      9.789874           9.111111   \n",
       "75%        0.000000      1.000000     13.876876          12.636842   \n",
       "max        1.000000      1.000000    138.000000          93.000000   \n",
       "\n",
       "       zip_code_prefix_match_scaled  customer_lat_scaled  \\\n",
       "count                  66370.000000         66370.000000   \n",
       "mean                       0.048658             0.165850   \n",
       "std                        0.103781             0.075990   \n",
       "min                        0.000000             0.000000   \n",
       "25%                        0.000000             0.133183   \n",
       "50%                        0.000000             0.142048   \n",
       "75%                        0.000000             0.180213   \n",
       "max                        1.000000             1.000000   \n",
       "\n",
       "       customer_long_scaled  seller_lat_scaled  seller_long_scaled  \\\n",
       "count          66370.000000       66370.000000        66370.000000   \n",
       "mean               0.366148           0.290551            0.262423   \n",
       "std                0.065489           0.086500            0.050569   \n",
       "min                0.000000           0.000000            0.000000   \n",
       "25%                0.336681           0.264286            0.238518   \n",
       "50%                0.358336           0.270521            0.268340   \n",
       "75%                0.400502           0.322188            0.271921   \n",
       "max                1.000000           1.000000            1.000000   \n",
       "\n",
       "       geo_distance_scaled  \n",
       "count         66370.000000  \n",
       "mean              0.077185  \n",
       "std               0.084361  \n",
       "min               0.000000  \n",
       "25%               0.025170  \n",
       "50%               0.054122  \n",
       "75%               0.098882  \n",
       "max               1.000000  "
      ]
     },
     "execution_count": 110,
     "metadata": {},
     "output_type": "execute_result"
    }
   ],
   "source": [
    "datasets[\"train\"][feature_cols].describe()"
   ]
  },
  {
   "cell_type": "code",
   "execution_count": 111,
   "metadata": {},
   "outputs": [
    {
     "name": "stdout",
     "output_type": "stream",
     "text": [
      "<class 'pandas.core.frame.DataFrame'>\n",
      "Int64Index: 66370 entries, 63606 to 81153\n",
      "Data columns (total 10 columns):\n",
      " #   Column                        Non-Null Count  Dtype  \n",
      "---  ------                        --------------  -----  \n",
      " 0   same_city                     66370 non-null  int64  \n",
      " 1   same_state                    66370 non-null  int64  \n",
      " 2   from_to_avg                   66370 non-null  float64\n",
      " 3   customer_city_avg             66370 non-null  float64\n",
      " 4   zip_code_prefix_match_scaled  66370 non-null  float64\n",
      " 5   customer_lat_scaled           66370 non-null  float64\n",
      " 6   customer_long_scaled          66370 non-null  float64\n",
      " 7   seller_lat_scaled             66370 non-null  float64\n",
      " 8   seller_long_scaled            66370 non-null  float64\n",
      " 9   geo_distance_scaled           66370 non-null  float64\n",
      "dtypes: float64(8), int64(2)\n",
      "memory usage: 5.6 MB\n"
     ]
    }
   ],
   "source": [
    "datasets[\"train\"][feature_cols].info()"
   ]
  },
  {
   "cell_type": "markdown",
   "metadata": {},
   "source": [
    "## Construção do modelo\n",
    "\n",
    "Usamos aqui como exemplo um modelo linear"
   ]
  },
  {
   "cell_type": "code",
   "execution_count": 112,
   "metadata": {},
   "outputs": [],
   "source": [
    "lr = LinearRegression()\n",
    "lr = lr.fit(datasets[\"train\"][feature_cols], datasets[\"train\"][\"target\"])"
   ]
  },
  {
   "cell_type": "markdown",
   "metadata": {},
   "source": [
    "### Métricas para avaliação\n",
    "\n",
    "Para regressão, é comum utilizarmos uma das seguintes métricas para avaliar nosso modelo:\n",
    "\n",
    "* `MAE` ([Mean Absolute Error](https://scikit-learn.org/stable/modules/generated/sklearn.metrics.mean_absolute_error.html#sklearn.metrics.mean_absolute_error)): é a média do valor absoluto da diferença entre o valor predito e o valor real.\n",
    "\n",
    "$$MAE = \\frac{1}{n} \\sum_{i=1}^n |y_i - \\hat{y_i}| $$\n",
    "\n",
    "\n",
    "* `RMSE` (Root Mean Squared Error): é a raiz quadrada da média do quadrado da diferença entre o valor predito e o valor real - por elevar ao quadrado o erro, penaliza erros maiores.\n",
    "\n",
    "$$RMSE = \\sqrt{\\frac{1}{n} \\sum_{i=1}^n \\left(y_i - \\hat{y_i}\\right)^2} $$\n",
    "\n",
    "**Nota:** a biblioteca `scikit-learn` tem implementado o `MSE` ([Mean Squared Error](https://scikit-learn.org/stable/modules/generated/sklearn.metrics.mean_squared_error.html#sklearn.metrics.mean_squared_error)). A cálculo do `MSE` segue: $MSE = \\frac{1}{n} \\sum_{i=1}^n \\left(y_i - \\hat{y_i}\\right)^2$. Para calcular o `RMSE`, basta tirar a raiz quadrada desse valor.\n",
    "\n",
    "* `r2` ([R2 Score](https://scikit-learn.org/stable/modules/generated/sklearn.metrics.r2_score.html#sklearn.metrics.r2_score)): é uma medida que indica o quanto o modelo é melhor em relação a um modelo que faz a predição com base no valor médio do target. Seu valor é entre menos infinito ($-\\infty$) e 1.\n",
    "\n",
    "$$R^2 = 1 - \\frac{MSE}{Var(y)} = 1 - \\frac{\\frac{1}{n} \\sum_{i=1}^n \\left(y_i - \\hat{y_i}\\right)^2}{\\frac{1}{n} \\sum_{i=1}^n \\left(y_i - \\bar{y}\\right)^2}$$\n",
    "\n",
    "As fórmulas acima consideram:\n",
    "\n",
    "* $n$: o número de exemplos avaliados;\n",
    "* $y_i$: o valor real de `target` para o exemplo $i$;\n",
    "* $\\hat{y_i}$: o valor predito para o `target` para o exemplo $i$;\n",
    "* $\\bar{y}$: o valor médio dos valores reais de `target`."
   ]
  },
  {
   "cell_type": "code",
   "execution_count": 113,
   "metadata": {},
   "outputs": [],
   "source": [
    "def rmse(y_true, y_pred):\n",
    "    return np.sqrt(mean_squared_error(y_true, y_pred))"
   ]
  },
  {
   "cell_type": "markdown",
   "metadata": {},
   "source": [
    "* cálculo do MAE e RMSE para nosso modelo no dataset de teste"
   ]
  },
  {
   "cell_type": "code",
   "execution_count": 114,
   "metadata": {},
   "outputs": [],
   "source": [
    "y_true = datasets[\"test\"][\"target\"].values\n",
    "y_pred = lr.predict(datasets[\"test\"][feature_cols])"
   ]
  },
  {
   "cell_type": "code",
   "execution_count": 115,
   "metadata": {},
   "outputs": [
    {
     "data": {
      "text/plain": [
       "4.800973347798464"
      ]
     },
     "execution_count": 115,
     "metadata": {},
     "output_type": "execute_result"
    }
   ],
   "source": [
    "mean_absolute_error(y_true, y_pred)"
   ]
  },
  {
   "cell_type": "code",
   "execution_count": 116,
   "metadata": {},
   "outputs": [
    {
     "data": {
      "text/plain": [
       "7.185255442583336"
      ]
     },
     "execution_count": 116,
     "metadata": {},
     "output_type": "execute_result"
    }
   ],
   "source": [
    "rmse(y_true, y_pred)"
   ]
  },
  {
   "cell_type": "markdown",
   "metadata": {},
   "source": [
    "#### Quão bom é esse resultado?\n",
    "\n",
    "* cálculo do $R^2$\n",
    "\n",
    "* cálculo do RMSE para usando como valor predito o valor médio"
   ]
  },
  {
   "cell_type": "code",
   "execution_count": 117,
   "metadata": {},
   "outputs": [
    {
     "data": {
      "text/plain": [
       "0.003421041985306794"
      ]
     },
     "execution_count": 117,
     "metadata": {},
     "output_type": "execute_result"
    }
   ],
   "source": [
    "zr2_score(y_true, y_pred)"
   ]
  },
  {
   "cell_type": "code",
   "execution_count": 118,
   "metadata": {},
   "outputs": [],
   "source": [
    "mean_pred = [np.mean(y_true)] * len(y_true)"
   ]
  },
  {
   "cell_type": "code",
   "execution_count": 119,
   "metadata": {},
   "outputs": [
    {
     "data": {
      "text/plain": [
       "4.055646514455219"
      ]
     },
     "execution_count": 119,
     "metadata": {},
     "output_type": "execute_result"
    }
   ],
   "source": [
    "mean_absolute_error(y_true, mean_pred)"
   ]
  },
  {
   "cell_type": "code",
   "execution_count": 120,
   "metadata": {},
   "outputs": [
    {
     "data": {
      "text/plain": [
       "7.197577597842063"
      ]
     },
     "execution_count": 120,
     "metadata": {},
     "output_type": "execute_result"
    }
   ],
   "source": [
    "rmse(y_true, mean_pred)"
   ]
  },
  {
   "cell_type": "code",
   "execution_count": 121,
   "metadata": {},
   "outputs": [
    {
     "data": {
      "text/html": [
       "<div>\n",
       "<style scoped>\n",
       "    .dataframe tbody tr th:only-of-type {\n",
       "        vertical-align: middle;\n",
       "    }\n",
       "\n",
       "    .dataframe tbody tr th {\n",
       "        vertical-align: top;\n",
       "    }\n",
       "\n",
       "    .dataframe thead th {\n",
       "        text-align: right;\n",
       "    }\n",
       "</style>\n",
       "<table border=\"1\" class=\"dataframe\">\n",
       "  <thead>\n",
       "    <tr style=\"text-align: right;\">\n",
       "      <th></th>\n",
       "      <th>model</th>\n",
       "      <th>mae</th>\n",
       "      <th>rmse</th>\n",
       "      <th>r2</th>\n",
       "    </tr>\n",
       "  </thead>\n",
       "  <tbody>\n",
       "    <tr>\n",
       "      <th>0</th>\n",
       "      <td>linear_regression</td>\n",
       "      <td>4.800973</td>\n",
       "      <td>7.185255</td>\n",
       "      <td>0.003421</td>\n",
       "    </tr>\n",
       "    <tr>\n",
       "      <th>1</th>\n",
       "      <td>naive</td>\n",
       "      <td>4.055647</td>\n",
       "      <td>7.197578</td>\n",
       "      <td>0.000000</td>\n",
       "    </tr>\n",
       "  </tbody>\n",
       "</table>\n",
       "</div>"
      ],
      "text/plain": [
       "               model       mae      rmse        r2\n",
       "0  linear_regression  4.800973  7.185255  0.003421\n",
       "1              naive  4.055647  7.197578  0.000000"
      ]
     },
     "execution_count": 121,
     "metadata": {},
     "output_type": "execute_result"
    }
   ],
   "source": [
    "metrics_results = {\n",
    "    \"model\": [\"linear_regression\", \"naive\"],\n",
    "    \"mae\": [mean_absolute_error(y_true, y_pred), mean_absolute_error(y_true, mean_pred)],\n",
    "    \"rmse\": [rmse(y_true, y_pred), rmse(y_true, mean_pred)],\n",
    "    \"r2\": [r2_score(y_true, y_pred), 0]\n",
    "}\n",
    "\n",
    "pd.DataFrame(metrics_results)"
   ]
  },
  {
   "cell_type": "markdown",
   "metadata": {},
   "source": [
    "**Comparação com a estimativa original do dataset**"
   ]
  },
  {
   "cell_type": "code",
   "execution_count": 135,
   "metadata": {},
   "outputs": [],
   "source": [
    "def calc_diff_dates_estimate(row):\n",
    "    carrier_date = row[\"order_delivered_carrier_date_timestamp\"]\n",
    "    estimated_date = row[\"order_estimated_delivery_date_timestamp\"]\n",
    "    return (estimated_date - carrier_date).days"
   ]
  },
  {
   "cell_type": "code",
   "execution_count": 136,
   "metadata": {},
   "outputs": [],
   "source": [
    "datasets[\"test\"][\"order_estimated_delivery_date_timestamp\"] = pd.to_datetime(pd.to_datetime(datasets[\"test\"][\"order_estimated_delivery_date\"]).dt.strftime(\"%Y-%m-%d\"))\n",
    "datasets[\"test\"][\"original_estimate\"] = datasets[\"test\"].apply(calc_diff_dates_estimate, 1)"
   ]
  },
  {
   "cell_type": "code",
   "execution_count": 137,
   "metadata": {},
   "outputs": [],
   "source": [
    "original_estimate = datasets[\"test\"][\"original_estimate\"].values"
   ]
  },
  {
   "cell_type": "code",
   "execution_count": 138,
   "metadata": {},
   "outputs": [
    {
     "data": {
      "text/html": [
       "<div>\n",
       "<style scoped>\n",
       "    .dataframe tbody tr th:only-of-type {\n",
       "        vertical-align: middle;\n",
       "    }\n",
       "\n",
       "    .dataframe tbody tr th {\n",
       "        vertical-align: top;\n",
       "    }\n",
       "\n",
       "    .dataframe thead th {\n",
       "        text-align: right;\n",
       "    }\n",
       "</style>\n",
       "<table border=\"1\" class=\"dataframe\">\n",
       "  <thead>\n",
       "    <tr style=\"text-align: right;\">\n",
       "      <th></th>\n",
       "      <th>model</th>\n",
       "      <th>mae</th>\n",
       "      <th>rmse</th>\n",
       "      <th>r2</th>\n",
       "    </tr>\n",
       "  </thead>\n",
       "  <tbody>\n",
       "    <tr>\n",
       "      <th>0</th>\n",
       "      <td>linear_regression</td>\n",
       "      <td>4.800973</td>\n",
       "      <td>7.185255</td>\n",
       "      <td>0.003421</td>\n",
       "    </tr>\n",
       "    <tr>\n",
       "      <th>1</th>\n",
       "      <td>naive</td>\n",
       "      <td>4.055647</td>\n",
       "      <td>7.197578</td>\n",
       "      <td>0.000000</td>\n",
       "    </tr>\n",
       "    <tr>\n",
       "      <th>2</th>\n",
       "      <td>original</td>\n",
       "      <td>13.454167</td>\n",
       "      <td>16.392082</td>\n",
       "      <td>-4.186753</td>\n",
       "    </tr>\n",
       "  </tbody>\n",
       "</table>\n",
       "</div>"
      ],
      "text/plain": [
       "               model        mae       rmse        r2\n",
       "0  linear_regression   4.800973   7.185255  0.003421\n",
       "1              naive   4.055647   7.197578  0.000000\n",
       "2           original  13.454167  16.392082 -4.186753"
      ]
     },
     "execution_count": 138,
     "metadata": {},
     "output_type": "execute_result"
    }
   ],
   "source": [
    "metrics_results = {\n",
    "    \"model\": [\"linear_regression\", \"naive\", \"original\"],\n",
    "    \"mae\": [mean_absolute_error(y_true, y_pred), mean_absolute_error(y_true, mean_pred), mean_absolute_error(y_true, original_estimate)],\n",
    "    \"rmse\": [rmse(y_true, y_pred), rmse(y_true, mean_pred), rmse(y_true, original_estimate)],\n",
    "    \"r2\": [r2_score(y_true, y_pred), 0, r2_score(y_true, original_estimate)]\n",
    "}\n",
    "\n",
    "pd.DataFrame(metrics_results)"
   ]
  }
 ],
 "metadata": {
  "kernelspec": {
   "display_name": "Python 3 (pyenv)",
   "language": "python",
   "name": "pyenv3"
  },
  "language_info": {
   "codemirror_mode": {
    "name": "ipython",
    "version": 3
   },
   "file_extension": ".py",
   "mimetype": "text/x-python",
   "name": "python",
   "nbconvert_exporter": "python",
   "pygments_lexer": "ipython3",
   "version": "3.7.9"
  }
 },
 "nbformat": 4,
 "nbformat_minor": 4
}
